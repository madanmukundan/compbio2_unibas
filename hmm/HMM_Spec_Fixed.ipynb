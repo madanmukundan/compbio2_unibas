{
 "cells": [
  {
   "cell_type": "markdown",
   "id": "9ca6796f",
   "metadata": {},
   "source": [
    "## Discovering transcription factor binding motifs and binding sites in promoter sequences\n",
    "\n",
    "As we discussed in the introduction session, transcription of DNA into RNA is carried out by the RNA polymerase, which is recruited to the DNA by transcription factors (TFs), proteins that bind specific sequence elements in the DNA. We typically describe the sequence specificity of transcription factors by position-specific weight matrices (PWMs), giving the probabilities of finding each of the four nucleotides at each position of binding sites. Let's see how we can use the HMM framework to describe promoter sequences, find binding sites and infer the PWM of a transcription factor from sequences that contain such binding sites.\n",
    "\n",
    "### Block 1. Generating synthetic sequence data\n",
    "\n",
    "Testing with ground truth data is crucial when we develop code. Ground truth biological data is often difficult to obtain, as even the measurement processes are complex, with hard to identify and characterize biases. That is why synthetic data is important: it allows us to determine whether our code works correctly within the assumptions of the model underlying the code. Of course, this does not mean that real data obeys these assumptions, which is why showing that the code works on synthetic data doesn't mean that we have a good tool to analyze real data. Nevertheless, the correctness of the implementation is the first step that we always need to check. So let's generate ourselves a ground truth dataset of \"promoter sequences\" containing binding sites for a transcription factor.\n",
    "\n",
    "1. Generate a PWM of your liking\n",
    "- typical length for eukaryotic TF binding sites is 6-8 nucleotides\n",
    "- play around with the **bias** of your PWM, i.e. the sequence that has the highest probability under the PWM model\n",
    "- make sure to write functions that:\n",
    "    - calculate the information content of the PWM (we'll look into this in a future session)\n",
    "    - *sample* a binding site from this PWM in proportion to its probability\n",
    "2. Generate random promoter sequences your chosen A,C,G,T composition.\n",
    "3. Introduce binding sites sampled from the PWM in the promoter sequences. Keep track of this information to be able to check it later.\n",
    "4. Check if motif finding software (e.g. MEME, we'll talk about it later as well) recovers the motif you places in your sequence.\n",
    "\n",
    "### Block 2. Predicting binding sites for TFs with known sequence specificity\n",
    "\n",
    "1. Implement the forward/backward algorithms. Can you run them on your sequences?\n",
    "2. Adapt your code to calculate instead ratios of sequence likelihoods (as described in https://cdn.aaai.org/ISMB/2000/ISMB00-007.pdf).\n",
    "2. Use the functions you implemented to evaluate the posterior probability of binding sites along the promoter sequences you created.\n",
    "3. Compare your results with your ground truth data.\n",
    "\n",
    "### Block 3. Training the HMM\n",
    "\n",
    "Now let's see if we can use the tools we got to actually infer the specificity of the TF from the synthetic data that you generated.\n",
    "\n",
    "1. Implement the Baum-Welch algorithm to infer the PWM and the transition probability between random sequence and binding sites in promoter sequences (assuming an HMM with 4 states: Start, Random, BindingSite, End).\n",
    "2. Does it inferred PWM match the one you picked the beginning?\n"
   ]
  },
  {
   "cell_type": "code",
   "execution_count": 1,
   "id": "7c8083b2",
   "metadata": {},
   "outputs": [],
   "source": [
    "import numpy as np\n",
    "import matplotlib.pyplot as plt\n",
    "import pandas as pd\n",
    "import seqlogo\n",
    "# from IPython.display import display, Markdown\n",
    "from jupyprint import jupyprint, arraytex\n",
    "from tabulate import tabulate\n",
    "import arraytex as atx\n",
    "import graphviz\n",
    "from pymemesuite.common import Sequence\n",
    "# from pymemesuite.fimo import FIMO"
   ]
  },
  {
   "cell_type": "markdown",
   "id": "53b0212e",
   "metadata": {},
   "source": [
    "#### Block 1 Synthetic Transcription Factor Sequence\n",
    "Information content of a given position weight matrix calculated by $I=\\sum_{i,b}f_b^i\\log\\left(\\frac{f_b^i}{p_b}\\right)$ where $f_b^i$ is the frequency of the nucleotide in the position weight matrix and $p_b$ is the background frequency. "
   ]
  },
  {
   "cell_type": "code",
   "execution_count": 2,
   "id": "58fddf18",
   "metadata": {},
   "outputs": [],
   "source": [
    "# Generate a random Position probability Matrix based on Dirichlet distribution\n",
    "def get_random_pwm(tf_length, alpha=np.array([0.1, 0.1, 0.7, 0.1])):\n",
    "    # This optimally should use a very heavily weighted alpha, gamma << 1\n",
    "    # for each nucleotide as with balanced alpha information content is very low\n",
    "    # Dirichlet is generalization of Beta distribution, codomain is [0,1]    \n",
    "    ppm = []\n",
    "    for _ in range(0, tf_length):\n",
    "        np.random.shuffle(alpha)\n",
    "        ppm.append(np.random.dirichlet(alpha))\n",
    "\n",
    "    ppm = np.array(ppm).T\n",
    "    # change dim of composition bias to match counts\n",
    "    pseudocounts = alpha[:, np.newaxis]\n",
    "    pwm = ppm + pseudocounts\n",
    "    pwm = pwm / np.sum(pwm, axis=0)\n",
    "    return pwm, ppm"
   ]
  },
  {
   "cell_type": "code",
   "execution_count": 3,
   "id": "c045b8ca",
   "metadata": {},
   "outputs": [],
   "source": [
    "def get_pwm_information_content(pwm, composition_bias):\n",
    "    \"\"\" Calculate information content from pwm \"\"\"\n",
    "    bckg_freq = composition_bias[:, np.newaxis]\n",
    "    ic = np.sum( pwm * np.log2(pwm / bckg_freq), axis=None)\n",
    "    return ic\n",
    "\n",
    "def sample_binding_site_from_pwm(pwm, num_samples, dna_letters='ACGT'):\n",
    "    \"\"\" Sample Binding sites from a PWM \"\"\"\n",
    "    num_positions = pwm.shape[1]\n",
    "    # store the sampled sequences\n",
    "    sampled_sequences = []\n",
    "    for _ in range(num_samples):\n",
    "        # For each position, sample a letter based on the PWM probabilities\n",
    "        sampled_sequence = ''.join(np.random.choice(dna_letters, p=pwm[:, i]) for i in range(num_positions))\n",
    "        sampled_sequences.append(sampled_sequence)\n",
    "    return sampled_sequences\n",
    "\n",
    "def calculate_sequence_probability(pwm, sampled_sequences, dna_letters=['A', 'C', 'G', 'T'] ):\n",
    "    \"\"\" Calculate the probabilities of the sampled sequences given a PWM \"\"\"\n",
    "    sampled_probs = []\n",
    "    for seq in sampled_sequences:\n",
    "        prob = 1.0\n",
    "        for i, letter in enumerate(seq):\n",
    "            prob *= pwm[dna_letters.index(letter), i]\n",
    "        sampled_probs.append(prob)\n",
    "    return zip(sampled_sequences, sampled_probs)"
   ]
  },
  {
   "cell_type": "code",
   "execution_count": 4,
   "id": "78868eed",
   "metadata": {},
   "outputs": [
    {
     "name": "stdout",
     "output_type": "stream",
     "text": [
      "\n",
      "TF of length 7 Position Weight Matrix:\n",
      "+----+-----------+-----------+-----------+-----------+-----------+-----------+----------+\n",
      "|    |         0 |         1 |         2 |         3 |         4 |         5 |        6 |\n",
      "|----+-----------+-----------+-----------+-----------+-----------+-----------+----------|\n",
      "| A  | 0.0500006 | 0.0520564 | 0.0500664 | 0.0500011 | 0.549032  | 0.344369  | 0.115755 |\n",
      "| C  | 0.05      | 0.187788  | 0.547497  | 0.0500004 | 0.0509682 | 0.05      | 0.10952  |\n",
      "| G  | 0.548757  | 0.695844  | 0.350031  | 0.354264  | 0.35      | 0.538351  | 0.724726 |\n",
      "| T  | 0.351242  | 0.0643119 | 0.0524058 | 0.545735  | 0.05      | 0.0672792 | 0.05     |\n",
      "+----+-----------+-----------+-----------+-----------+-----------+-----------+----------+\n",
      "\n",
      "Information content of the PWM: 4.193 bits\n",
      "\n",
      "Most probable TF binding site sequence: GGCTAGG with probability 0.0244\n"
     ]
    }
   ],
   "source": [
    "# Define dna letters for easier access\n",
    "dna_letters = ['A', 'C', 'G', 'T']  # just char doesn't work with the nice-printing or .index\n",
    "dna_dict = {'A': 0, 'C': 1, 'G': 2, 'T': 3}\n",
    "\n",
    "# Define an assumed background composition bias for the sequence\n",
    "bckg_composition_bias = np.ones(len(dna_letters))*0.25\n",
    "# bckg_composition_bias = np.array([0.1, 0.4, 0.4, 0.1]) # CG Heavy\n",
    "# bckg_composition_bias = np.array([0.4, 0.1, 0.1, 0.4]) # AT Heavy\n",
    "\n",
    "# Randomly select a TF length between 6 and 8\n",
    "tf_length = np.random.randint(6, 9)\n",
    "# tf_length = 6  # testing\n",
    "\n",
    "# Manual for testing: Define a PWM, too low of a bias will give low information content\n",
    "# we'll remove columns to match the length of the TF then shuffle to get a different most likely TF\n",
    "# pwm_raw = ([[0.11, 0.2,  0.03, 0.66], # 1\n",
    "#             [0.11, 0.02, 0.02, 0.85], # 2\n",
    "#             [0.02, 0.11, 0.66, 0.21], # 3\n",
    "#             [0.75, 0.02, 0.02, 0.21], # 4\n",
    "#             [0.02, 0.94, 0.02, 0.02], # 5\n",
    "#             [0.57, 0.02, 0.11, 0.3],  # 6\n",
    "#             [0.75, 0.11, 0.02, 0.02], # 7\n",
    "#             [0.02, 0.11, 0.66, 0.21]  # 8\n",
    "#             ])  \n",
    "\n",
    "# # Manual: Randomly shuffle the PWM to get a different most likely TF\n",
    "# np.random.shuffle(pwm_raw)\n",
    "\n",
    "# # Manual: Cut the Manual PWM to the length of the TF\n",
    "# max_length_pwm = 8\n",
    "# del pwm_raw[tf_length-max_length_pwm:]\n",
    "\n",
    "# Convert the PWM to a array\n",
    "# pwm = np.array(pwm_raw).T\n",
    "\n",
    "# Alternative: Get random PWM from biased dirichlet distribution\n",
    "# [0.1, 0.1, 0.7, 0.1] is a good alpha for a random PWM for high ic\n",
    "pwm, ppm = get_random_pwm(tf_length, alpha=np.array([0.1, 0.1, 0.7, 0.1]))\n",
    "\n",
    "# Convert to df just for nice printing below\n",
    "pwm_df = pd.DataFrame(pwm, index=dna_letters, columns=range(tf_length))\n",
    "print(f\"\\nTF of length {tf_length} Position Weight Matrix:\\n{tabulate(pwm_df, headers='keys', tablefmt='psql', showindex=True)}\")\n",
    "\n",
    "# Calculate information content of pwm using often gives too low information content to be useful\n",
    "ic = get_pwm_information_content(pwm, bckg_composition_bias)\n",
    "print(f\"\\nInformation content of the PWM: {ic:0.3f} bits\")\n",
    "\n",
    "# Print most likely sequence from pwm\n",
    "most_probable_tf_binding_site = ''.join([dna_letters[np.argmax(pwm[:, i])] for i in range(tf_length)])\n",
    "most_probable_tf_probability = calculate_sequence_probability(pwm, [most_probable_tf_binding_site], dna_letters)\n",
    "print(f\"\\nMost probable TF binding site sequence: {most_probable_tf_binding_site} with probability {list(most_probable_tf_probability)[0][1]:0.4f}\")\n"
   ]
  },
  {
   "cell_type": "code",
   "execution_count": 5,
   "id": "550c87b7",
   "metadata": {},
   "outputs": [
    {
     "data": {
      "image/svg+xml": [
       "<svg xmlns=\"http://www.w3.org/2000/svg\" xmlns:xlink=\"http://www.w3.org/1999/xlink\" width=\"398\" height=\"277\" viewBox=\"0 0 398 277\">\n",
       "<defs>\n",
       "<g>\n",
       "<g id=\"glyph-0-0 -5429988578853534774\">\n",
       "<path d=\"M 0.328125 -2.828125 C 0.328125 -3.503906 0.394531 -4.046875 0.53125 -4.453125 C 0.675781 -4.867188 0.882812 -5.1875 1.15625 -5.40625 C 1.4375 -5.632812 1.785156 -5.75 2.203125 -5.75 C 2.503906 -5.75 2.769531 -5.6875 3 -5.5625 C 3.238281 -5.4375 3.429688 -5.257812 3.578125 -5.03125 C 3.734375 -4.800781 3.851562 -4.515625 3.9375 -4.171875 C 4.019531 -3.835938 4.0625 -3.390625 4.0625 -2.828125 C 4.0625 -2.148438 3.992188 -1.601562 3.859375 -1.1875 C 3.722656 -0.78125 3.515625 -0.460938 3.234375 -0.234375 C 2.960938 -0.015625 2.617188 0.09375 2.203125 0.09375 C 1.648438 0.09375 1.21875 -0.101562 0.90625 -0.5 C 0.519531 -0.976562 0.328125 -1.753906 0.328125 -2.828125 Z M 1.0625 -2.828125 C 1.0625 -1.890625 1.171875 -1.265625 1.390625 -0.953125 C 1.609375 -0.640625 1.878906 -0.484375 2.203125 -0.484375 C 2.523438 -0.484375 2.796875 -0.640625 3.015625 -0.953125 C 3.234375 -1.265625 3.34375 -1.890625 3.34375 -2.828125 C 3.34375 -3.765625 3.234375 -4.390625 3.015625 -4.703125 C 2.796875 -5.015625 2.519531 -5.171875 2.1875 -5.171875 C 1.863281 -5.171875 1.609375 -5.035156 1.421875 -4.765625 C 1.179688 -4.410156 1.0625 -3.765625 1.0625 -2.828125 Z M 1.0625 -2.828125 \"/>\n",
       "</g>\n",
       "<g id=\"glyph-0-1 -5429988578853534774\">\n",
       "<path d=\"M 0.734375 0 L 0.734375 -0.796875 L 1.53125 -0.796875 L 1.53125 0 Z M 0.734375 0 \"/>\n",
       "</g>\n",
       "<g id=\"glyph-0-2 -5429988578853534774\">\n",
       "<path d=\"M 2.984375 0 L 2.28125 0 L 2.28125 -4.484375 C 2.113281 -4.316406 1.890625 -4.148438 1.609375 -3.984375 C 1.335938 -3.828125 1.09375 -3.710938 0.875 -3.640625 L 0.875 -4.3125 C 1.269531 -4.5 1.613281 -4.722656 1.90625 -4.984375 C 2.195312 -5.242188 2.40625 -5.5 2.53125 -5.75 L 2.984375 -5.75 Z M 2.984375 0 \"/>\n",
       "</g>\n",
       "<g id=\"glyph-0-3 -5429988578853534774\">\n",
       "<path d=\"M 4.03125 -0.671875 L 4.03125 0 L 0.25 0 C 0.238281 -0.164062 0.265625 -0.328125 0.328125 -0.484375 C 0.421875 -0.742188 0.570312 -1 0.78125 -1.25 C 1 -1.5 1.304688 -1.789062 1.703125 -2.125 C 2.328125 -2.632812 2.75 -3.035156 2.96875 -3.328125 C 3.1875 -3.628906 3.296875 -3.910156 3.296875 -4.171875 C 3.296875 -4.453125 3.195312 -4.6875 3 -4.875 C 2.800781 -5.070312 2.539062 -5.171875 2.21875 -5.171875 C 1.882812 -5.171875 1.613281 -5.066406 1.40625 -4.859375 C 1.207031 -4.660156 1.101562 -4.378906 1.09375 -4.015625 L 0.375 -4.09375 C 0.425781 -4.632812 0.613281 -5.046875 0.9375 -5.328125 C 1.257812 -5.609375 1.691406 -5.75 2.234375 -5.75 C 2.785156 -5.75 3.21875 -5.597656 3.53125 -5.296875 C 3.851562 -4.992188 4.015625 -4.613281 4.015625 -4.15625 C 4.015625 -3.925781 3.96875 -3.703125 3.875 -3.484375 C 3.78125 -3.265625 3.625 -3.03125 3.40625 -2.78125 C 3.195312 -2.539062 2.835938 -2.207031 2.328125 -1.78125 C 1.910156 -1.425781 1.640625 -1.1875 1.515625 -1.0625 C 1.398438 -0.9375 1.300781 -0.804688 1.21875 -0.671875 Z M 4.03125 -0.671875 \"/>\n",
       "</g>\n",
       "<g id=\"glyph-0-4 -5429988578853534774\">\n",
       "<path d=\"M 0.328125 -1.5 L 1.078125 -1.5625 C 1.128906 -1.207031 1.253906 -0.9375 1.453125 -0.75 C 1.648438 -0.570312 1.890625 -0.484375 2.171875 -0.484375 C 2.515625 -0.484375 2.800781 -0.609375 3.03125 -0.859375 C 3.269531 -1.117188 3.390625 -1.457031 3.390625 -1.875 C 3.390625 -2.28125 3.273438 -2.597656 3.046875 -2.828125 C 2.816406 -3.054688 2.519531 -3.171875 2.15625 -3.171875 C 1.9375 -3.171875 1.734375 -3.117188 1.546875 -3.015625 C 1.367188 -2.921875 1.226562 -2.789062 1.125 -2.625 L 0.453125 -2.703125 L 1.015625 -5.65625 L 3.859375 -5.65625 L 3.859375 -4.984375 L 1.578125 -4.984375 L 1.265625 -3.4375 C 1.609375 -3.675781 1.96875 -3.796875 2.34375 -3.796875 C 2.84375 -3.796875 3.265625 -3.625 3.609375 -3.28125 C 3.953125 -2.9375 4.125 -2.488281 4.125 -1.9375 C 4.125 -1.425781 3.972656 -0.976562 3.671875 -0.59375 C 3.304688 -0.132812 2.804688 0.09375 2.171875 0.09375 C 1.648438 0.09375 1.222656 -0.0507812 0.890625 -0.34375 C 0.566406 -0.632812 0.378906 -1.019531 0.328125 -1.5 Z M 0.328125 -1.5 \"/>\n",
       "</g>\n",
       "<g id=\"glyph-1-0 -5429988578853534774\">\n",
       "<path d=\"M 0 -1.46875 L 0 -0.65625 L -7.15625 -0.65625 L -7.15625 -1.53125 L -4.609375 -1.53125 C -5.066406 -1.90625 -5.296875 -2.378906 -5.296875 -2.953125 C -5.296875 -3.273438 -5.234375 -3.578125 -5.109375 -3.859375 C -4.984375 -4.140625 -4.800781 -4.375 -4.5625 -4.5625 C -4.332031 -4.75 -4.050781 -4.894531 -3.71875 -5 C -3.394531 -5.101562 -3.046875 -5.15625 -2.671875 -5.15625 C -1.785156 -5.15625 -1.097656 -4.929688 -0.609375 -4.484375 C -0.117188 -4.046875 0.125 -3.519531 0.125 -2.90625 C 0.125 -2.300781 -0.132812 -1.820312 -0.65625 -1.46875 Z M -2.625 -1.453125 C -2.007812 -1.453125 -1.5625 -1.539062 -1.28125 -1.71875 C -0.832031 -1.988281 -0.609375 -2.363281 -0.609375 -2.84375 C -0.609375 -3.21875 -0.773438 -3.546875 -1.109375 -3.828125 C -1.441406 -4.109375 -1.9375 -4.25 -2.59375 -4.25 C -3.269531 -4.25 -3.769531 -4.113281 -4.09375 -3.84375 C -4.414062 -3.582031 -4.578125 -3.257812 -4.578125 -2.875 C -4.578125 -2.488281 -4.410156 -2.15625 -4.078125 -1.875 C -3.742188 -1.59375 -3.257812 -1.453125 -2.625 -1.453125 Z M -2.625 -1.453125 \"/>\n",
       "</g>\n",
       "<g id=\"glyph-1-1 -5429988578853534774\">\n",
       "<path d=\"M -6.140625 -0.671875 L -7.15625 -0.671875 L -7.15625 -1.546875 L -6.140625 -1.546875 Z M 0 -0.671875 L -5.1875 -0.671875 L -5.1875 -1.546875 L 0 -1.546875 Z M 0 -0.671875 \"/>\n",
       "</g>\n",
       "<g id=\"glyph-1-2 -5429988578853534774\">\n",
       "<path d=\"M -0.78125 -2.578125 L -0.015625 -2.703125 C 0.0351562 -2.453125 0.0625 -2.234375 0.0625 -2.046875 C 0.0625 -1.722656 0.015625 -1.472656 -0.078125 -1.296875 C -0.179688 -1.117188 -0.316406 -0.992188 -0.484375 -0.921875 C -0.648438 -0.859375 -0.992188 -0.828125 -1.515625 -0.828125 L -4.5 -0.828125 L -4.5 -0.171875 L -5.1875 -0.171875 L -5.1875 -0.828125 L -6.46875 -0.828125 L -7 -1.6875 L -5.1875 -1.6875 L -5.1875 -2.578125 L -4.5 -2.578125 L -4.5 -1.6875 L -1.46875 -1.6875 C -1.21875 -1.6875 -1.054688 -1.703125 -0.984375 -1.734375 C -0.910156 -1.765625 -0.851562 -1.816406 -0.8125 -1.890625 C -0.769531 -1.960938 -0.75 -2.0625 -0.75 -2.1875 C -0.75 -2.289062 -0.757812 -2.421875 -0.78125 -2.578125 Z M -0.78125 -2.578125 \"/>\n",
       "</g>\n",
       "<g id=\"glyph-1-3 -5429988578853534774\">\n",
       "<path d=\"M -1.546875 -0.3125 L -1.6875 -1.171875 C -1.332031 -1.222656 -1.0625 -1.359375 -0.875 -1.578125 C -0.695312 -1.804688 -0.609375 -2.117188 -0.609375 -2.515625 C -0.609375 -2.921875 -0.6875 -3.222656 -0.84375 -3.421875 C -1.007812 -3.617188 -1.207031 -3.71875 -1.4375 -3.71875 C -1.632812 -3.71875 -1.789062 -3.628906 -1.90625 -3.453125 C -1.976562 -3.328125 -2.078125 -3.023438 -2.203125 -2.546875 C -2.359375 -1.910156 -2.492188 -1.46875 -2.609375 -1.21875 C -2.734375 -0.96875 -2.898438 -0.773438 -3.109375 -0.640625 C -3.316406 -0.515625 -3.550781 -0.453125 -3.8125 -0.453125 C -4.039062 -0.453125 -4.253906 -0.503906 -4.453125 -0.609375 C -4.648438 -0.710938 -4.8125 -0.859375 -4.9375 -1.046875 C -5.039062 -1.179688 -5.125 -1.363281 -5.1875 -1.59375 C -5.257812 -1.832031 -5.296875 -2.085938 -5.296875 -2.359375 C -5.296875 -2.765625 -5.238281 -3.117188 -5.125 -3.421875 C -5.007812 -3.734375 -4.847656 -3.960938 -4.640625 -4.109375 C -4.441406 -4.265625 -4.175781 -4.367188 -3.84375 -4.421875 L -3.734375 -3.5625 C -3.992188 -3.519531 -4.195312 -3.40625 -4.34375 -3.21875 C -4.5 -3.03125 -4.578125 -2.765625 -4.578125 -2.421875 C -4.578125 -2.023438 -4.507812 -1.738281 -4.375 -1.5625 C -4.25 -1.382812 -4.09375 -1.296875 -3.90625 -1.296875 C -3.789062 -1.296875 -3.691406 -1.332031 -3.609375 -1.40625 C -3.515625 -1.476562 -3.4375 -1.59375 -3.375 -1.75 C -3.34375 -1.832031 -3.265625 -2.09375 -3.140625 -2.53125 C -2.972656 -3.144531 -2.835938 -3.570312 -2.734375 -3.8125 C -2.628906 -4.0625 -2.472656 -4.253906 -2.265625 -4.390625 C -2.066406 -4.535156 -1.820312 -4.609375 -1.53125 -4.609375 C -1.226562 -4.609375 -0.945312 -4.523438 -0.6875 -4.359375 C -0.4375 -4.191406 -0.238281 -3.945312 -0.09375 -3.625 C 0.0507812 -3.300781 0.125 -2.9375 0.125 -2.53125 C 0.125 -1.851562 -0.015625 -1.335938 -0.296875 -0.984375 C -0.578125 -0.628906 -0.992188 -0.40625 -1.546875 -0.3125 Z M -1.546875 -0.3125 \"/>\n",
       "</g>\n",
       "<g id=\"glyph-2-0 -5429988578853534774\">\n",
       "<path d=\"M 30.765625 -18.34375 L 30.765625 -26.75 L 54.375 -26.75 L 54.375 -6.875 C 52.082031 -4.832031 48.757812 -3.035156 44.40625 -1.484375 C 40.050781 0.0664062 35.640625 0.84375 31.171875 0.84375 C 25.492188 0.84375 20.546875 -0.25 16.328125 -2.4375 C 12.109375 -4.625 8.9375 -7.753906 6.8125 -11.828125 C 4.6875 -15.898438 3.625 -20.332031 3.625 -25.125 C 3.625 -30.320312 4.804688 -34.9375 7.171875 -38.96875 C 9.546875 -43.007812 13.015625 -46.109375 17.578125 -48.265625 C 21.054688 -49.921875 25.390625 -50.75 30.578125 -50.75 C 37.316406 -50.75 42.578125 -49.453125 46.359375 -46.859375 C 50.148438 -44.265625 52.585938 -40.671875 53.671875 -36.078125 L 42.796875 -34.21875 C 42.023438 -36.664062 40.582031 -38.597656 38.46875 -40.015625 C 36.363281 -41.429688 33.734375 -42.140625 30.578125 -42.140625 C 25.785156 -42.140625 21.976562 -40.742188 19.15625 -37.953125 C 16.332031 -35.160156 14.921875 -31.019531 14.921875 -25.53125 C 14.921875 -19.601562 16.347656 -15.160156 19.203125 -12.203125 C 22.066406 -9.242188 25.820312 -7.765625 30.46875 -7.765625 C 32.757812 -7.765625 35.054688 -8.175781 37.359375 -9 C 39.671875 -9.832031 41.65625 -10.835938 43.3125 -12.015625 L 43.3125 -18.34375 Z M 30.765625 -18.34375 \"/>\n",
       "</g>\n",
       "<g id=\"glyph-3-0 -5429988578853534774\">\n",
       "<path d=\"M 20.859375 0 L 20.859375 -66.28125 L 1.921875 -66.28125 L 1.921875 -79.78125 L 52.671875 -79.78125 L 52.671875 -66.28125 L 33.765625 -66.28125 L 33.765625 0 Z M 20.859375 0 \"/>\n",
       "</g>\n",
       "<g id=\"glyph-4-0 -5429988578853534774\">\n",
       "<path d=\"M 22.4375 0 L 22.4375 -1.671875 L 2.0625 -1.671875 L 2.0625 -2.015625 L 56.625 -2.015625 L 56.625 -1.671875 L 36.296875 -1.671875 L 36.296875 0 Z M 22.4375 0 \"/>\n",
       "</g>\n",
       "<g id=\"glyph-5-0 -5429988578853534774\">\n",
       "<path d=\"M 42.625 -11.71875 L 53.875 -9.734375 C 52.144531 -6.253906 49.273438 -3.671875 45.265625 -1.984375 C 41.253906 -0.296875 36.164062 0.546875 30 0.546875 C 22.363281 0.546875 16.085938 -0.894531 11.171875 -3.78125 C 6.253906 -6.675781 3.796875 -10.632812 3.796875 -15.65625 C 3.796875 -20.957031 6.265625 -25.070312 11.203125 -28 C 16.148438 -30.9375 22.648438 -32.40625 30.703125 -32.40625 C 37.734375 -32.40625 43.441406 -31.253906 47.828125 -28.953125 C 50.441406 -27.585938 52.40625 -25.628906 53.71875 -23.078125 L 42.21875 -21.5625 C 41.539062 -23.21875 40.125 -24.519531 37.96875 -25.46875 C 35.8125 -26.425781 33.191406 -26.90625 30.109375 -26.90625 C 25.847656 -26.90625 22.390625 -26.054688 19.734375 -24.359375 C 17.085938 -22.671875 15.765625 -19.925781 15.765625 -16.125 C 15.765625 -12.09375 17.070312 -9.222656 19.6875 -7.515625 C 22.300781 -5.804688 25.695312 -4.953125 29.875 -4.953125 C 32.957031 -4.953125 35.609375 -5.492188 37.828125 -6.578125 C 40.054688 -7.671875 41.65625 -9.382812 42.625 -11.71875 Z M 42.625 -11.71875 \"/>\n",
       "</g>\n",
       "<g id=\"glyph-6-0 -5429988578853534774\">\n",
       "<path d=\"M 30.453125 -30.046875 L 30.453125 -43.8125 L 53.84375 -43.8125 L 53.84375 -11.265625 C 51.570312 -7.921875 48.28125 -4.972656 43.96875 -2.421875 C 39.65625 0.117188 35.285156 1.390625 30.859375 1.390625 C 25.242188 1.390625 20.34375 -0.398438 16.15625 -3.984375 C 11.976562 -7.566406 8.835938 -12.691406 6.734375 -19.359375 C 4.640625 -26.035156 3.59375 -33.296875 3.59375 -41.140625 C 3.59375 -49.648438 4.765625 -57.210938 7.109375 -63.828125 C 9.453125 -70.441406 12.882812 -75.515625 17.40625 -79.046875 C 20.851562 -81.765625 25.144531 -83.125 30.28125 -83.125 C 36.945312 -83.125 42.15625 -80.992188 45.90625 -76.734375 C 49.65625 -72.484375 52.066406 -66.601562 53.140625 -59.09375 L 42.375 -56.03125 C 41.613281 -60.039062 40.1875 -63.207031 38.09375 -65.53125 C 36.007812 -67.851562 33.40625 -69.015625 30.28125 -69.015625 C 25.53125 -69.015625 21.753906 -66.726562 18.953125 -62.15625 C 16.160156 -57.582031 14.765625 -50.800781 14.765625 -41.8125 C 14.765625 -32.113281 16.179688 -24.835938 19.015625 -19.984375 C 21.859375 -15.128906 25.578125 -12.703125 30.171875 -12.703125 C 32.441406 -12.703125 34.71875 -13.378906 37 -14.734375 C 39.28125 -16.097656 41.238281 -17.742188 42.875 -19.671875 L 42.875 -30.046875 Z M 30.453125 -30.046875 \"/>\n",
       "</g>\n",
       "<g id=\"glyph-7-0 -5429988578853534774\">\n",
       "<path d=\"M 42.546875 -89.078125 L 53.78125 -74.03125 C 52.050781 -47.59375 49.179688 -27.957031 45.171875 -15.125 C 41.171875 -2.289062 36.09375 4.125 29.9375 4.125 C 22.320312 4.125 16.0625 -6.859375 11.15625 -28.828125 C 6.25 -50.804688 3.796875 -80.859375 3.796875 -118.984375 C 3.796875 -159.304688 6.257812 -190.617188 11.1875 -212.921875 C 16.125 -235.234375 22.609375 -246.390625 30.640625 -246.390625 C 37.660156 -246.390625 43.363281 -237.628906 47.75 -220.109375 C 50.351562 -209.753906 52.3125 -194.882812 53.625 -175.5 L 42.15625 -163.9375 C 41.476562 -176.488281 40.0625 -186.398438 37.90625 -193.671875 C 35.75 -200.941406 33.132812 -204.578125 30.0625 -204.578125 C 25.800781 -204.578125 22.347656 -198.128906 19.703125 -185.234375 C 17.054688 -172.347656 15.734375 -151.476562 15.734375 -122.625 C 15.734375 -91.988281 17.035156 -70.171875 19.640625 -57.171875 C 22.253906 -44.171875 25.648438 -37.671875 29.828125 -37.671875 C 32.898438 -37.671875 35.546875 -41.800781 37.765625 -50.0625 C 39.984375 -58.332031 41.578125 -71.335938 42.546875 -89.078125 Z M 42.546875 -89.078125 \"/>\n",
       "</g>\n",
       "<g id=\"glyph-8-0 -5429988578853534774\">\n",
       "<path d=\"M 20.859375 0 L 20.859375 -205.609375 L 1.921875 -205.609375 L 1.921875 -247.46875 L 52.671875 -247.46875 L 52.671875 -205.609375 L 33.765625 -205.609375 L 33.765625 0 Z M 20.859375 0 \"/>\n",
       "</g>\n",
       "<g id=\"glyph-9-0 -5429988578853534774\">\n",
       "<path d=\"M 50.8125 0 L 39.6875 0 L 35.265625 -57.671875 L 15.03125 -57.671875 L 10.84375 0 L 0 0 L 19.71875 -253.875 L 30.53125 -253.875 Z M 31.984375 -100.4375 L 25 -194.640625 L 18.171875 -100.4375 Z M 31.984375 -100.4375 \"/>\n",
       "</g>\n",
       "<g id=\"glyph-10-0 -5429988578853534774\">\n",
       "<path d=\"M 19.515625 0 L 19.515625 -2.34375 L 1.796875 -2.34375 L 1.796875 -2.8125 L 49.25 -2.8125 L 49.25 -2.34375 L 31.5625 -2.34375 L 31.5625 0 Z M 19.515625 0 \"/>\n",
       "</g>\n",
       "<g id=\"glyph-11-0 -5429988578853534774\">\n",
       "<path d=\"M 30.671875 -14.5 L 30.671875 -21.140625 L 54.234375 -21.140625 L 54.234375 -5.4375 C 51.941406 -3.820312 48.625 -2.398438 44.28125 -1.171875 C 39.9375 0.0546875 35.535156 0.671875 31.078125 0.671875 C 25.421875 0.671875 20.488281 -0.191406 16.28125 -1.921875 C 12.070312 -3.648438 8.910156 -6.125 6.796875 -9.34375 C 4.679688 -12.5625 3.625 -16.0625 3.625 -19.84375 C 3.625 -23.945312 4.800781 -27.59375 7.15625 -30.78125 C 9.519531 -33.976562 12.976562 -36.429688 17.53125 -38.140625 C 21 -39.441406 25.320312 -40.09375 30.5 -40.09375 C 37.21875 -40.09375 42.460938 -39.066406 46.234375 -37.015625 C 50.015625 -34.960938 52.445312 -32.125 53.53125 -28.5 L 42.671875 -27.03125 C 41.910156 -28.96875 40.476562 -30.492188 38.375 -31.609375 C 36.269531 -32.734375 33.644531 -33.296875 30.5 -33.296875 C 25.71875 -33.296875 21.914062 -32.191406 19.09375 -29.984375 C 16.28125 -27.773438 14.875 -24.503906 14.875 -20.171875 C 14.875 -15.492188 16.300781 -11.984375 19.15625 -9.640625 C 22.007812 -7.296875 25.753906 -6.125 30.390625 -6.125 C 32.671875 -6.125 34.960938 -6.453125 37.265625 -7.109375 C 39.566406 -7.765625 41.539062 -8.5625 43.1875 -9.5 L 43.1875 -14.5 Z M 30.671875 -14.5 \"/>\n",
       "</g>\n",
       "<g id=\"glyph-12-0 -5429988578853534774\">\n",
       "<path d=\"M 50.8125 0 L 39.6875 0 L 35.265625 -14.59375 L 15.03125 -14.59375 L 10.84375 0 L 0 0 L 19.71875 -64.265625 L 30.53125 -64.265625 Z M 31.984375 -25.421875 L 25 -49.28125 L 18.171875 -25.421875 Z M 31.984375 -25.421875 \"/>\n",
       "</g>\n",
       "<g id=\"glyph-13-0 -5429988578853534774\">\n",
       "<path d=\"M 42.296875 -4.625 L 53.46875 -3.84375 C 51.757812 -2.46875 48.910156 -1.445312 44.921875 -0.78125 C 40.941406 -0.113281 35.890625 0.21875 29.765625 0.21875 C 22.191406 0.21875 15.96875 -0.347656 11.09375 -1.484375 C 6.21875 -2.628906 3.78125 -4.191406 3.78125 -6.171875 C 3.78125 -8.253906 6.226562 -9.875 11.125 -11.03125 C 16.03125 -12.195312 22.476562 -12.78125 30.46875 -12.78125 C 37.445312 -12.78125 43.117188 -12.320312 47.484375 -11.40625 C 50.078125 -10.875 52.019531 -10.101562 53.3125 -9.09375 L 41.921875 -8.5 C 41.242188 -9.144531 39.832031 -9.65625 37.6875 -10.03125 C 35.550781 -10.414062 32.953125 -10.609375 29.890625 -10.609375 C 25.660156 -10.609375 22.226562 -10.273438 19.59375 -9.609375 C 16.957031 -8.941406 15.640625 -7.859375 15.640625 -6.359375 C 15.640625 -4.765625 16.9375 -3.628906 19.53125 -2.953125 C 22.125 -2.285156 25.5 -1.953125 29.65625 -1.953125 C 32.71875 -1.953125 35.347656 -2.164062 37.546875 -2.59375 C 39.753906 -3.019531 41.335938 -3.695312 42.296875 -4.625 Z M 42.296875 -4.625 \"/>\n",
       "</g>\n",
       "<g id=\"glyph-14-0 -5429988578853534774\">\n",
       "<path d=\"M 51.6875 0 L 40.375 0 L 35.875 -3.484375 L 15.28125 -3.484375 L 11.03125 0 L 0 0 L 20.0625 -15.328125 L 31.0625 -15.328125 Z M 32.53125 -6.0625 L 25.4375 -11.75 L 18.484375 -6.0625 Z M 32.53125 -6.0625 \"/>\n",
       "</g>\n",
       "<g id=\"glyph-15-0 -5429988578853534774\">\n",
       "<path d=\"M 30.453125 -32.140625 L 30.453125 -46.875 L 53.84375 -46.875 L 53.84375 -12.046875 C 51.570312 -8.460938 48.28125 -5.3125 43.96875 -2.59375 C 39.65625 0.125 35.285156 1.484375 30.859375 1.484375 C 25.242188 1.484375 20.34375 -0.429688 16.15625 -4.265625 C 11.976562 -8.097656 8.835938 -13.582031 6.734375 -20.71875 C 4.640625 -27.863281 3.59375 -35.628906 3.59375 -44.015625 C 3.59375 -53.117188 4.765625 -61.207031 7.109375 -68.28125 C 9.453125 -75.363281 12.882812 -80.789062 17.40625 -84.5625 C 20.851562 -87.46875 25.144531 -88.921875 30.28125 -88.921875 C 36.945312 -88.921875 42.15625 -86.644531 45.90625 -82.09375 C 49.65625 -77.539062 52.066406 -71.25 53.140625 -63.21875 L 42.375 -59.9375 C 41.613281 -64.226562 40.1875 -67.613281 38.09375 -70.09375 C 36.007812 -72.582031 33.40625 -73.828125 30.28125 -73.828125 C 25.53125 -73.828125 21.753906 -71.378906 18.953125 -66.484375 C 16.160156 -61.597656 14.765625 -54.347656 14.765625 -44.734375 C 14.765625 -34.347656 16.179688 -26.5625 19.015625 -21.375 C 21.859375 -16.1875 25.578125 -13.59375 30.171875 -13.59375 C 32.441406 -13.59375 34.71875 -14.316406 37 -15.765625 C 39.28125 -17.222656 41.238281 -18.984375 42.875 -21.046875 L 42.875 -32.140625 Z M 30.453125 -32.140625 \"/>\n",
       "</g>\n",
       "</g>\n",
       "</defs>\n",
       "<path fill=\"none\" stroke-width=\"2.08333\" stroke-linecap=\"butt\" stroke-linejoin=\"miter\" stroke=\"rgb(0%, 0%, 0%)\" stroke-opacity=\"1\" stroke-miterlimit=\"10\" d=\"M 110.416667 57.73112 L 131.25 57.73112 L 131.25 1129.166667 \" transform=\"matrix(0.24, 0, 0, -0.24, 0, 277)\"/>\n",
       "<g fill=\"rgb(0%, 0%, 0%)\" fill-opacity=\"1\">\n",
       "<use xlink:href=\"#glyph-0-0 -5429988578853534774\" x=\"14.880912\" y=\"266.022791\"/>\n",
       "<use xlink:href=\"#glyph-0-1 -5429988578853534774\" x=\"19.328915\" y=\"266.022791\"/>\n",
       "<use xlink:href=\"#glyph-0-0 -5429988578853534774\" x=\"21.552917\" y=\"266.022791\"/>\n",
       "</g>\n",
       "<path fill=\"none\" stroke-width=\"2.08333\" stroke-linecap=\"butt\" stroke-linejoin=\"miter\" stroke=\"rgb(0%, 0%, 0%)\" stroke-opacity=\"1\" stroke-miterlimit=\"10\" d=\"M 110.432943 57.73112 L 131.25 57.73112 \" transform=\"matrix(0.24, 0, 0, -0.24, 0, 277)\"/>\n",
       "<g fill=\"rgb(0%, 0%, 0%)\" fill-opacity=\"1\">\n",
       "<use xlink:href=\"#glyph-0-2 -5429988578853534774\" x=\"14.880912\" y=\"137.450888\"/>\n",
       "<use xlink:href=\"#glyph-0-1 -5429988578853534774\" x=\"19.328915\" y=\"137.450888\"/>\n",
       "<use xlink:href=\"#glyph-0-0 -5429988578853534774\" x=\"21.552917\" y=\"137.450888\"/>\n",
       "</g>\n",
       "<path fill=\"none\" stroke-width=\"2.08333\" stroke-linecap=\"butt\" stroke-linejoin=\"miter\" stroke=\"rgb(0%, 0%, 0%)\" stroke-opacity=\"1\" stroke-miterlimit=\"10\" d=\"M 110.432943 593.457031 L 131.25 593.457031 \" transform=\"matrix(0.24, 0, 0, -0.24, 0, 277)\"/>\n",
       "<g fill=\"rgb(0%, 0%, 0%)\" fill-opacity=\"1\">\n",
       "<use xlink:href=\"#glyph-0-3 -5429988578853534774\" x=\"14.880912\" y=\"8.879786\"/>\n",
       "<use xlink:href=\"#glyph-0-1 -5429988578853534774\" x=\"19.328915\" y=\"8.879786\"/>\n",
       "<use xlink:href=\"#glyph-0-0 -5429988578853534774\" x=\"21.552917\" y=\"8.879786\"/>\n",
       "</g>\n",
       "<path fill=\"none\" stroke-width=\"2.08333\" stroke-linecap=\"butt\" stroke-linejoin=\"miter\" stroke=\"rgb(0%, 0%, 0%)\" stroke-opacity=\"1\" stroke-miterlimit=\"10\" d=\"M 110.432943 1129.166667 L 131.25 1129.166667 \" transform=\"matrix(0.24, 0, 0, -0.24, 0, 277)\"/>\n",
       "<path fill=\"none\" stroke-width=\"2.08333\" stroke-linecap=\"butt\" stroke-linejoin=\"miter\" stroke=\"rgb(0%, 0%, 0%)\" stroke-opacity=\"1\" stroke-miterlimit=\"10\" d=\"M 131.25 57.73112 L 120.833333 57.73112 \" transform=\"matrix(0.24, 0, 0, -0.24, 0, 277)\"/>\n",
       "<path fill=\"none\" stroke-width=\"2.08333\" stroke-linecap=\"butt\" stroke-linejoin=\"miter\" stroke=\"rgb(0%, 0%, 0%)\" stroke-opacity=\"1\" stroke-miterlimit=\"10\" d=\"M 131.25 164.876302 L 120.833333 164.876302 \" transform=\"matrix(0.24, 0, 0, -0.24, 0, 277)\"/>\n",
       "<path fill=\"none\" stroke-width=\"2.08333\" stroke-linecap=\"butt\" stroke-linejoin=\"miter\" stroke=\"rgb(0%, 0%, 0%)\" stroke-opacity=\"1\" stroke-miterlimit=\"10\" d=\"M 131.25 272.021484 L 120.833333 272.021484 \" transform=\"matrix(0.24, 0, 0, -0.24, 0, 277)\"/>\n",
       "<path fill=\"none\" stroke-width=\"2.08333\" stroke-linecap=\"butt\" stroke-linejoin=\"miter\" stroke=\"rgb(0%, 0%, 0%)\" stroke-opacity=\"1\" stroke-miterlimit=\"10\" d=\"M 131.25 379.166667 L 120.833333 379.166667 \" transform=\"matrix(0.24, 0, 0, -0.24, 0, 277)\"/>\n",
       "<path fill=\"none\" stroke-width=\"2.08333\" stroke-linecap=\"butt\" stroke-linejoin=\"miter\" stroke=\"rgb(0%, 0%, 0%)\" stroke-opacity=\"1\" stroke-miterlimit=\"10\" d=\"M 131.25 486.311849 L 120.833333 486.311849 \" transform=\"matrix(0.24, 0, 0, -0.24, 0, 277)\"/>\n",
       "<path fill=\"none\" stroke-width=\"2.08333\" stroke-linecap=\"butt\" stroke-linejoin=\"miter\" stroke=\"rgb(0%, 0%, 0%)\" stroke-opacity=\"1\" stroke-miterlimit=\"10\" d=\"M 131.25 593.457031 L 120.833333 593.457031 \" transform=\"matrix(0.24, 0, 0, -0.24, 0, 277)\"/>\n",
       "<path fill=\"none\" stroke-width=\"2.08333\" stroke-linecap=\"butt\" stroke-linejoin=\"miter\" stroke=\"rgb(0%, 0%, 0%)\" stroke-opacity=\"1\" stroke-miterlimit=\"10\" d=\"M 131.25 700.585937 L 120.833333 700.585937 \" transform=\"matrix(0.24, 0, 0, -0.24, 0, 277)\"/>\n",
       "<path fill=\"none\" stroke-width=\"2.08333\" stroke-linecap=\"butt\" stroke-linejoin=\"miter\" stroke=\"rgb(0%, 0%, 0%)\" stroke-opacity=\"1\" stroke-miterlimit=\"10\" d=\"M 131.25 807.73112 L 120.833333 807.73112 \" transform=\"matrix(0.24, 0, 0, -0.24, 0, 277)\"/>\n",
       "<path fill=\"none\" stroke-width=\"2.08333\" stroke-linecap=\"butt\" stroke-linejoin=\"miter\" stroke=\"rgb(0%, 0%, 0%)\" stroke-opacity=\"1\" stroke-miterlimit=\"10\" d=\"M 131.25 914.876302 L 120.833333 914.876302 \" transform=\"matrix(0.24, 0, 0, -0.24, 0, 277)\"/>\n",
       "<path fill=\"none\" stroke-width=\"2.08333\" stroke-linecap=\"butt\" stroke-linejoin=\"miter\" stroke=\"rgb(0%, 0%, 0%)\" stroke-opacity=\"1\" stroke-miterlimit=\"10\" d=\"M 131.25 1022.021484 L 120.833333 1022.021484 \" transform=\"matrix(0.24, 0, 0, -0.24, 0, 277)\"/>\n",
       "<g fill=\"rgb(0%, 0%, 0%)\" fill-opacity=\"1\">\n",
       "<use xlink:href=\"#glyph-1-0 -5429988578853534774\" x=\"11.850009\" y=\"142.351892\"/>\n",
       "<use xlink:href=\"#glyph-1-1 -5429988578853534774\" x=\"11.850009\" y=\"136.791888\"/>\n",
       "<use xlink:href=\"#glyph-1-2 -5429988578853534774\" x=\"11.850009\" y=\"134.571886\"/>\n",
       "<use xlink:href=\"#glyph-1-3 -5429988578853534774\" x=\"11.850009\" y=\"131.791884\"/>\n",
       "</g>\n",
       "<path fill=\"none\" stroke-width=\"2.08333\" stroke-linecap=\"butt\" stroke-linejoin=\"miter\" stroke=\"rgb(0%, 0%, 0%)\" stroke-opacity=\"1\" stroke-miterlimit=\"10\" d=\"M 133.333333 57.73112 L 347.623698 57.73112 M 240.478516 57.73112 L 240.478516 52.539062 \" transform=\"matrix(0.24, 0, 0, -0.24, 0, 277)\"/>\n",
       "<g fill=\"rgb(100%, 64.646912%, 0%)\" fill-opacity=\"1\">\n",
       "<use xlink:href=\"#glyph-2-0 -5429988578853534774\" x=\"29.112223\" y=\"261.683088\"/>\n",
       "</g>\n",
       "<g fill=\"rgb(100%, 0%, 0%)\" fill-opacity=\"1\">\n",
       "<use xlink:href=\"#glyph-3-0 -5429988578853534774\" x=\"30.340324\" y=\"210.448747\"/>\n",
       "</g>\n",
       "<path fill=\"none\" stroke-width=\"2.08333\" stroke-linecap=\"butt\" stroke-linejoin=\"miter\" stroke=\"rgb(0%, 0%, 0%)\" stroke-opacity=\"1\" stroke-miterlimit=\"10\" d=\"M 347.623698 57.73112 L 561.914062 57.73112 M 454.76888 57.73112 L 454.76888 52.539062 \" transform=\"matrix(0.24, 0, 0, -0.24, 0, 277)\"/>\n",
       "<g fill=\"rgb(100%, 0%, 0%)\" fill-opacity=\"1\">\n",
       "<use xlink:href=\"#glyph-4-0 -5429988578853534774\" x=\"83.928767\" y=\"262.643089\"/>\n",
       "</g>\n",
       "<g fill=\"rgb(0%, 0%, 100%)\" fill-opacity=\"1\">\n",
       "<use xlink:href=\"#glyph-5-0 -5429988578853534774\" x=\"80.474164\" y=\"259.695586\"/>\n",
       "</g>\n",
       "<g fill=\"rgb(100%, 64.646912%, 0%)\" fill-opacity=\"1\">\n",
       "<use xlink:href=\"#glyph-6-0 -5429988578853534774\" x=\"80.328764\" y=\"225.405559\"/>\n",
       "</g>\n",
       "<path fill=\"none\" stroke-width=\"2.08333\" stroke-linecap=\"butt\" stroke-linejoin=\"miter\" stroke=\"rgb(0%, 0%, 0%)\" stroke-opacity=\"1\" stroke-miterlimit=\"10\" d=\"M 561.914062 57.73112 L 776.188151 57.73112 M 669.042969 57.73112 L 669.042969 52.539062 \" transform=\"matrix(0.24, 0, 0, -0.24, 0, 277)\"/>\n",
       "<g fill=\"rgb(0%, 0%, 100%)\" fill-opacity=\"1\">\n",
       "<use xlink:href=\"#glyph-7-0 -5429988578853534774\" x=\"131.768105\" y=\"258.593085\"/>\n",
       "</g>\n",
       "<path fill=\"none\" stroke-width=\"2.08333\" stroke-linecap=\"butt\" stroke-linejoin=\"miter\" stroke=\"rgb(0%, 0%, 0%)\" stroke-opacity=\"1\" stroke-miterlimit=\"10\" d=\"M 776.188151 57.73112 L 990.478516 57.73112 M 883.333333 57.73112 L 883.333333 52.539062 \" transform=\"matrix(0.24, 0, 0, -0.24, 0, 277)\"/>\n",
       "<g fill=\"rgb(100%, 0%, 0%)\" fill-opacity=\"1\">\n",
       "<use xlink:href=\"#glyph-8-0 -5429988578853534774\" x=\"184.626148\" y=\"262.643089\"/>\n",
       "</g>\n",
       "<path fill=\"none\" stroke-width=\"2.08333\" stroke-linecap=\"butt\" stroke-linejoin=\"miter\" stroke=\"rgb(0%, 0%, 0%)\" stroke-opacity=\"1\" stroke-miterlimit=\"10\" d=\"M 990.478516 57.73112 L 1204.752604 57.73112 M 1097.623698 57.73112 L 1097.623698 47.314453 \" transform=\"matrix(0.24, 0, 0, -0.24, 0, 277)\"/>\n",
       "<g fill=\"rgb(0%, 0%, 0%)\" fill-opacity=\"1\">\n",
       "<use xlink:href=\"#glyph-0-4 -5429988578853534774\" x=\"261.204209\" y=\"273.642807\"/>\n",
       "</g>\n",
       "<g fill=\"rgb(0%, 50.193787%, 0%)\" fill-opacity=\"1\">\n",
       "<use xlink:href=\"#glyph-9-0 -5429988578853534774\" x=\"238.214191\" y=\"262.643089\"/>\n",
       "</g>\n",
       "<path fill=\"none\" stroke-width=\"2.08333\" stroke-linecap=\"butt\" stroke-linejoin=\"miter\" stroke=\"rgb(0%, 0%, 0%)\" stroke-opacity=\"1\" stroke-miterlimit=\"10\" d=\"M 1204.752604 57.73112 L 1419.042969 57.73112 M 1311.914062 57.73112 L 1311.914062 52.539062 \" transform=\"matrix(0.24, 0, 0, -0.24, 0, 277)\"/>\n",
       "<g fill=\"rgb(100%, 0%, 0%)\" fill-opacity=\"1\">\n",
       "<use xlink:href=\"#glyph-10-0 -5429988578853534774\" x=\"289.642232\" y=\"262.643089\"/>\n",
       "</g>\n",
       "<g fill=\"rgb(100%, 64.646912%, 0%)\" fill-opacity=\"1\">\n",
       "<use xlink:href=\"#glyph-11-0 -5429988578853534774\" x=\"286.360229\" y=\"258.570585\"/>\n",
       "</g>\n",
       "<g fill=\"rgb(0%, 50.193787%, 0%)\" fill-opacity=\"1\">\n",
       "<use xlink:href=\"#glyph-12-0 -5429988578853534774\" x=\"289.642232\" y=\"217.948753\"/>\n",
       "</g>\n",
       "<path fill=\"none\" stroke-width=\"2.08333\" stroke-linecap=\"butt\" stroke-linejoin=\"miter\" stroke=\"rgb(0%, 0%, 0%)\" stroke-opacity=\"1\" stroke-miterlimit=\"10\" d=\"M 1419.042969 57.73112 L 1633.333333 57.73112 M 1526.188151 57.73112 L 1526.188151 52.539062 \" transform=\"matrix(0.24, 0, 0, -0.24, 0, 277)\"/>\n",
       "<g fill=\"rgb(0%, 0%, 100%)\" fill-opacity=\"1\">\n",
       "<use xlink:href=\"#glyph-13-0 -5429988578853534774\" x=\"337.81027\" y=\"262.643089\"/>\n",
       "</g>\n",
       "<g fill=\"rgb(0%, 50.193787%, 0%)\" fill-opacity=\"1\">\n",
       "<use xlink:href=\"#glyph-14-0 -5429988578853534774\" x=\"341.071273\" y=\"249.109378\"/>\n",
       "</g>\n",
       "<g fill=\"rgb(100%, 64.646912%, 0%)\" fill-opacity=\"1\">\n",
       "<use xlink:href=\"#glyph-15-0 -5429988578853534774\" x=\"337.47127\" y=\"231.551864\"/>\n",
       "</g>\n",
       "</svg>"
      ],
      "text/plain": [
       "<IPython.core.display.SVG object>"
      ]
     },
     "execution_count": 5,
     "metadata": {},
     "output_type": "execute_result"
    }
   ],
   "source": [
    "ppm_fig = seqlogo.Ppm(ppm)\n",
    "seqlogo.seqlogo(ppm_fig, font_size=30, ic_scale=True, format='svg') # attach to axis not working"
   ]
  },
  {
   "cell_type": "code",
   "execution_count": 6,
   "id": "9adea030",
   "metadata": {},
   "outputs": [
    {
     "data": {
      "image/svg+xml": [
       "<svg xmlns=\"http://www.w3.org/2000/svg\" xmlns:xlink=\"http://www.w3.org/1999/xlink\" width=\"398\" height=\"277\" viewBox=\"0 0 398 277\">\n",
       "<defs>\n",
       "<g>\n",
       "<g id=\"glyph-0-0 5267019076842502971\">\n",
       "<path d=\"M 0.328125 -2.828125 C 0.328125 -3.503906 0.394531 -4.046875 0.53125 -4.453125 C 0.675781 -4.867188 0.882812 -5.1875 1.15625 -5.40625 C 1.4375 -5.632812 1.785156 -5.75 2.203125 -5.75 C 2.503906 -5.75 2.769531 -5.6875 3 -5.5625 C 3.238281 -5.4375 3.429688 -5.257812 3.578125 -5.03125 C 3.734375 -4.800781 3.851562 -4.515625 3.9375 -4.171875 C 4.019531 -3.835938 4.0625 -3.390625 4.0625 -2.828125 C 4.0625 -2.148438 3.992188 -1.601562 3.859375 -1.1875 C 3.722656 -0.78125 3.515625 -0.460938 3.234375 -0.234375 C 2.960938 -0.015625 2.617188 0.09375 2.203125 0.09375 C 1.648438 0.09375 1.21875 -0.101562 0.90625 -0.5 C 0.519531 -0.976562 0.328125 -1.753906 0.328125 -2.828125 Z M 1.0625 -2.828125 C 1.0625 -1.890625 1.171875 -1.265625 1.390625 -0.953125 C 1.609375 -0.640625 1.878906 -0.484375 2.203125 -0.484375 C 2.523438 -0.484375 2.796875 -0.640625 3.015625 -0.953125 C 3.234375 -1.265625 3.34375 -1.890625 3.34375 -2.828125 C 3.34375 -3.765625 3.234375 -4.390625 3.015625 -4.703125 C 2.796875 -5.015625 2.519531 -5.171875 2.1875 -5.171875 C 1.863281 -5.171875 1.609375 -5.035156 1.421875 -4.765625 C 1.179688 -4.410156 1.0625 -3.765625 1.0625 -2.828125 Z M 1.0625 -2.828125 \"/>\n",
       "</g>\n",
       "<g id=\"glyph-0-1 5267019076842502971\">\n",
       "<path d=\"M 0.734375 0 L 0.734375 -0.796875 L 1.53125 -0.796875 L 1.53125 0 Z M 0.734375 0 \"/>\n",
       "</g>\n",
       "<g id=\"glyph-0-2 5267019076842502971\">\n",
       "<path d=\"M 0.328125 -1.5 L 1.078125 -1.5625 C 1.128906 -1.207031 1.253906 -0.9375 1.453125 -0.75 C 1.648438 -0.570312 1.890625 -0.484375 2.171875 -0.484375 C 2.515625 -0.484375 2.800781 -0.609375 3.03125 -0.859375 C 3.269531 -1.117188 3.390625 -1.457031 3.390625 -1.875 C 3.390625 -2.28125 3.273438 -2.597656 3.046875 -2.828125 C 2.816406 -3.054688 2.519531 -3.171875 2.15625 -3.171875 C 1.9375 -3.171875 1.734375 -3.117188 1.546875 -3.015625 C 1.367188 -2.921875 1.226562 -2.789062 1.125 -2.625 L 0.453125 -2.703125 L 1.015625 -5.65625 L 3.859375 -5.65625 L 3.859375 -4.984375 L 1.578125 -4.984375 L 1.265625 -3.4375 C 1.609375 -3.675781 1.96875 -3.796875 2.34375 -3.796875 C 2.84375 -3.796875 3.265625 -3.625 3.609375 -3.28125 C 3.953125 -2.9375 4.125 -2.488281 4.125 -1.9375 C 4.125 -1.425781 3.972656 -0.976562 3.671875 -0.59375 C 3.304688 -0.132812 2.804688 0.09375 2.171875 0.09375 C 1.648438 0.09375 1.222656 -0.0507812 0.890625 -0.34375 C 0.566406 -0.632812 0.378906 -1.019531 0.328125 -1.5 Z M 0.328125 -1.5 \"/>\n",
       "</g>\n",
       "<g id=\"glyph-0-3 5267019076842502971\">\n",
       "<path d=\"M 2.984375 0 L 2.28125 0 L 2.28125 -4.484375 C 2.113281 -4.316406 1.890625 -4.148438 1.609375 -3.984375 C 1.335938 -3.828125 1.09375 -3.710938 0.875 -3.640625 L 0.875 -4.3125 C 1.269531 -4.5 1.613281 -4.722656 1.90625 -4.984375 C 2.195312 -5.242188 2.40625 -5.5 2.53125 -5.75 L 2.984375 -5.75 Z M 2.984375 0 \"/>\n",
       "</g>\n",
       "<g id=\"glyph-1-0 5267019076842502971\">\n",
       "<path d=\"M 1.984375 -0.65625 L -5.1875 -0.65625 L -5.1875 -1.453125 L -4.515625 -1.453125 C -4.773438 -1.648438 -4.96875 -1.863281 -5.09375 -2.09375 C -5.226562 -2.332031 -5.296875 -2.625 -5.296875 -2.96875 C -5.296875 -3.40625 -5.179688 -3.789062 -4.953125 -4.125 C -4.734375 -4.46875 -4.414062 -4.722656 -4 -4.890625 C -3.582031 -5.066406 -3.125 -5.15625 -2.625 -5.15625 C -2.101562 -5.15625 -1.628906 -5.0625 -1.203125 -4.875 C -0.773438 -4.6875 -0.445312 -4.410156 -0.21875 -4.046875 C 0.0078125 -3.679688 0.125 -3.300781 0.125 -2.90625 C 0.125 -2.613281 0.0625 -2.347656 -0.0625 -2.109375 C -0.1875 -1.878906 -0.34375 -1.6875 -0.53125 -1.53125 L 1.984375 -1.53125 Z M -2.5625 -1.453125 C -1.894531 -1.453125 -1.398438 -1.585938 -1.078125 -1.859375 C -0.765625 -2.128906 -0.609375 -2.457031 -0.609375 -2.84375 C -0.609375 -3.226562 -0.769531 -3.5625 -1.09375 -3.84375 C -1.425781 -4.125 -1.941406 -4.265625 -2.640625 -4.265625 C -3.296875 -4.265625 -3.785156 -4.128906 -4.109375 -3.859375 C -4.441406 -3.585938 -4.609375 -3.257812 -4.609375 -2.875 C -4.609375 -2.5 -4.429688 -2.164062 -4.078125 -1.875 C -3.734375 -1.59375 -3.226562 -1.453125 -2.5625 -1.453125 Z M -2.5625 -1.453125 \"/>\n",
       "</g>\n",
       "<g id=\"glyph-1-1 5267019076842502971\">\n",
       "<path d=\"M 0 -0.65625 L -5.1875 -0.65625 L -5.1875 -1.4375 L -4.40625 -1.4375 C -4.769531 -1.644531 -5.007812 -1.832031 -5.125 -2 C -5.238281 -2.164062 -5.296875 -2.351562 -5.296875 -2.5625 C -5.296875 -2.863281 -5.203125 -3.164062 -5.015625 -3.46875 L -4.203125 -3.171875 C -4.328125 -2.953125 -4.390625 -2.734375 -4.390625 -2.515625 C -4.390625 -2.328125 -4.332031 -2.15625 -4.21875 -2 C -4.101562 -1.84375 -3.941406 -1.734375 -3.734375 -1.671875 C -3.421875 -1.578125 -3.082031 -1.53125 -2.71875 -1.53125 L 0 -1.53125 Z M 0 -0.65625 \"/>\n",
       "</g>\n",
       "<g id=\"glyph-1-2 5267019076842502971\">\n",
       "<path d=\"M -2.59375 -0.328125 C -3.550781 -0.328125 -4.265625 -0.597656 -4.734375 -1.140625 C -5.109375 -1.578125 -5.296875 -2.117188 -5.296875 -2.765625 C -5.296875 -3.472656 -5.0625 -4.050781 -4.59375 -4.5 C -4.132812 -4.957031 -3.492188 -5.1875 -2.671875 -5.1875 C -2.003906 -5.1875 -1.476562 -5.085938 -1.09375 -4.890625 C -0.707031 -4.691406 -0.40625 -4.398438 -0.1875 -4.015625 C 0.0195312 -3.628906 0.125 -3.210938 0.125 -2.765625 C 0.125 -2.035156 -0.109375 -1.445312 -0.578125 -1 C -1.046875 -0.550781 -1.71875 -0.328125 -2.59375 -0.328125 Z M -2.59375 -1.234375 C -1.925781 -1.234375 -1.425781 -1.378906 -1.09375 -1.671875 C -0.769531 -1.960938 -0.609375 -2.328125 -0.609375 -2.765625 C -0.609375 -3.203125 -0.773438 -3.5625 -1.109375 -3.84375 C -1.441406 -4.132812 -1.945312 -4.28125 -2.625 -4.28125 C -3.257812 -4.28125 -3.742188 -4.132812 -4.078125 -3.84375 C -4.410156 -3.550781 -4.578125 -3.191406 -4.578125 -2.765625 C -4.578125 -2.328125 -4.410156 -1.960938 -4.078125 -1.671875 C -3.753906 -1.378906 -3.257812 -1.234375 -2.59375 -1.234375 Z M -2.59375 -1.234375 \"/>\n",
       "</g>\n",
       "<g id=\"glyph-1-3 5267019076842502971\">\n",
       "<path d=\"M 0 -1.46875 L 0 -0.65625 L -7.15625 -0.65625 L -7.15625 -1.53125 L -4.609375 -1.53125 C -5.066406 -1.90625 -5.296875 -2.378906 -5.296875 -2.953125 C -5.296875 -3.273438 -5.234375 -3.578125 -5.109375 -3.859375 C -4.984375 -4.140625 -4.800781 -4.375 -4.5625 -4.5625 C -4.332031 -4.75 -4.050781 -4.894531 -3.71875 -5 C -3.394531 -5.101562 -3.046875 -5.15625 -2.671875 -5.15625 C -1.785156 -5.15625 -1.097656 -4.929688 -0.609375 -4.484375 C -0.117188 -4.046875 0.125 -3.519531 0.125 -2.90625 C 0.125 -2.300781 -0.132812 -1.820312 -0.65625 -1.46875 Z M -2.625 -1.453125 C -2.007812 -1.453125 -1.5625 -1.539062 -1.28125 -1.71875 C -0.832031 -1.988281 -0.609375 -2.363281 -0.609375 -2.84375 C -0.609375 -3.21875 -0.773438 -3.546875 -1.109375 -3.828125 C -1.441406 -4.109375 -1.9375 -4.25 -2.59375 -4.25 C -3.269531 -4.25 -3.769531 -4.113281 -4.09375 -3.84375 C -4.414062 -3.582031 -4.578125 -3.257812 -4.578125 -2.875 C -4.578125 -2.488281 -4.410156 -2.15625 -4.078125 -1.875 C -3.742188 -1.59375 -3.257812 -1.453125 -2.625 -1.453125 Z M -2.625 -1.453125 \"/>\n",
       "</g>\n",
       "<g id=\"glyph-1-4 5267019076842502971\">\n",
       "<path d=\"M -0.640625 -4.046875 C -0.359375 -3.722656 -0.160156 -3.410156 -0.046875 -3.109375 C 0.0664062 -2.804688 0.125 -2.484375 0.125 -2.140625 C 0.125 -1.566406 -0.015625 -1.125 -0.296875 -0.8125 C -0.578125 -0.507812 -0.9375 -0.359375 -1.375 -0.359375 C -1.625 -0.359375 -1.851562 -0.414062 -2.0625 -0.53125 C -2.269531 -0.644531 -2.4375 -0.796875 -2.5625 -0.984375 C -2.695312 -1.171875 -2.796875 -1.382812 -2.859375 -1.625 C -2.898438 -1.789062 -2.941406 -2.050781 -2.984375 -2.40625 C -3.066406 -3.113281 -3.171875 -3.632812 -3.296875 -3.96875 C -3.410156 -3.96875 -3.484375 -3.96875 -3.515625 -3.96875 C -3.878906 -3.96875 -4.132812 -3.882812 -4.28125 -3.71875 C -4.476562 -3.5 -4.578125 -3.164062 -4.578125 -2.71875 C -4.578125 -2.3125 -4.503906 -2.007812 -4.359375 -1.8125 C -4.210938 -1.613281 -3.957031 -1.46875 -3.59375 -1.375 L -3.703125 -0.515625 C -4.078125 -0.585938 -4.375 -0.710938 -4.59375 -0.890625 C -4.820312 -1.078125 -4.992188 -1.335938 -5.109375 -1.671875 C -5.234375 -2.015625 -5.296875 -2.410156 -5.296875 -2.859375 C -5.296875 -3.296875 -5.242188 -3.648438 -5.140625 -3.921875 C -5.035156 -4.203125 -4.90625 -4.40625 -4.75 -4.53125 C -4.59375 -4.664062 -4.394531 -4.757812 -4.15625 -4.8125 C -4.007812 -4.84375 -3.738281 -4.859375 -3.34375 -4.859375 L -2.171875 -4.859375 C -1.359375 -4.859375 -0.84375 -4.875 -0.625 -4.90625 C -0.40625 -4.945312 -0.195312 -5.023438 0 -5.140625 L 0 -4.21875 C -0.1875 -4.125 -0.398438 -4.066406 -0.640625 -4.046875 Z M -2.609375 -3.96875 C -2.472656 -3.644531 -2.359375 -3.164062 -2.265625 -2.53125 C -2.210938 -2.175781 -2.15625 -1.921875 -2.09375 -1.765625 C -2.03125 -1.617188 -1.9375 -1.503906 -1.8125 -1.421875 C -1.6875 -1.335938 -1.546875 -1.296875 -1.390625 -1.296875 C -1.160156 -1.296875 -0.96875 -1.382812 -0.8125 -1.5625 C -0.65625 -1.738281 -0.578125 -2 -0.578125 -2.34375 C -0.578125 -2.6875 -0.648438 -2.988281 -0.796875 -3.25 C -0.941406 -3.507812 -1.144531 -3.703125 -1.40625 -3.828125 C -1.601562 -3.921875 -1.894531 -3.96875 -2.28125 -3.96875 Z M -2.609375 -3.96875 \"/>\n",
       "</g>\n",
       "<g id=\"glyph-1-5 5267019076842502971\">\n",
       "<path d=\"M -6.140625 -0.671875 L -7.15625 -0.671875 L -7.15625 -1.546875 L -6.140625 -1.546875 Z M 0 -0.671875 L -5.1875 -0.671875 L -5.1875 -1.546875 L 0 -1.546875 Z M 0 -0.671875 \"/>\n",
       "</g>\n",
       "<g id=\"glyph-1-6 5267019076842502971\">\n",
       "<path d=\"M 0 -0.640625 L -7.15625 -0.640625 L -7.15625 -1.515625 L 0 -1.515625 Z M 0 -0.640625 \"/>\n",
       "</g>\n",
       "<g id=\"glyph-1-7 5267019076842502971\">\n",
       "<path d=\"M -0.78125 -2.578125 L -0.015625 -2.703125 C 0.0351562 -2.453125 0.0625 -2.234375 0.0625 -2.046875 C 0.0625 -1.722656 0.015625 -1.472656 -0.078125 -1.296875 C -0.179688 -1.117188 -0.316406 -0.992188 -0.484375 -0.921875 C -0.648438 -0.859375 -0.992188 -0.828125 -1.515625 -0.828125 L -4.5 -0.828125 L -4.5 -0.171875 L -5.1875 -0.171875 L -5.1875 -0.828125 L -6.46875 -0.828125 L -7 -1.6875 L -5.1875 -1.6875 L -5.1875 -2.578125 L -4.5 -2.578125 L -4.5 -1.6875 L -1.46875 -1.6875 C -1.21875 -1.6875 -1.054688 -1.703125 -0.984375 -1.734375 C -0.910156 -1.765625 -0.851562 -1.816406 -0.8125 -1.890625 C -0.769531 -1.960938 -0.75 -2.0625 -0.75 -2.1875 C -0.75 -2.289062 -0.757812 -2.421875 -0.78125 -2.578125 Z M -0.78125 -2.578125 \"/>\n",
       "</g>\n",
       "<g id=\"glyph-1-8 5267019076842502971\">\n",
       "<path d=\"M 2 -0.625 L 1.171875 -0.515625 C 1.222656 -0.710938 1.25 -0.882812 1.25 -1.03125 C 1.25 -1.21875 1.21875 -1.367188 1.15625 -1.484375 C 1.09375 -1.609375 1 -1.707031 0.875 -1.78125 C 0.789062 -1.832031 0.570312 -1.921875 0.21875 -2.046875 C 0.175781 -2.066406 0.109375 -2.09375 0.015625 -2.125 L -5.1875 -0.15625 L -5.1875 -1.109375 L -2.1875 -2.1875 C -1.800781 -2.320312 -1.398438 -2.445312 -0.984375 -2.5625 C -1.390625 -2.664062 -1.78125 -2.785156 -2.15625 -2.921875 L -5.1875 -4.03125 L -5.1875 -4.90625 L 0.09375 -2.9375 C 0.65625 -2.726562 1.046875 -2.566406 1.265625 -2.453125 C 1.554688 -2.296875 1.769531 -2.113281 1.90625 -1.90625 C 2.039062 -1.707031 2.109375 -1.46875 2.109375 -1.1875 C 2.109375 -1.019531 2.070312 -0.832031 2 -0.625 Z M 2 -0.625 \"/>\n",
       "</g>\n",
       "<g id=\"glyph-2-0 5267019076842502971\">\n",
       "<path d=\"M 30.453125 -35.78125 L 30.453125 -52.1875 L 53.84375 -52.1875 L 53.84375 -13.40625 C 51.570312 -9.425781 48.28125 -5.921875 43.96875 -2.890625 C 39.65625 0.140625 35.285156 1.65625 30.859375 1.65625 C 25.242188 1.65625 20.34375 -0.476562 16.15625 -4.75 C 11.976562 -9.019531 8.835938 -15.125 6.734375 -23.0625 C 4.640625 -31.007812 3.59375 -39.65625 3.59375 -49 C 3.59375 -59.132812 4.765625 -68.140625 7.109375 -76.015625 C 9.453125 -83.898438 12.882812 -89.945312 17.40625 -94.15625 C 20.851562 -97.382812 25.144531 -99 30.28125 -99 C 36.945312 -99 42.15625 -96.460938 45.90625 -91.390625 C 49.65625 -86.328125 52.066406 -79.320312 53.140625 -70.375 L 42.375 -66.734375 C 41.613281 -71.515625 40.1875 -75.285156 38.09375 -78.046875 C 36.007812 -80.816406 33.40625 -82.203125 30.28125 -82.203125 C 25.53125 -82.203125 21.753906 -79.476562 18.953125 -74.03125 C 16.160156 -68.59375 14.765625 -60.515625 14.765625 -49.796875 C 14.765625 -38.242188 16.179688 -29.578125 19.015625 -23.796875 C 21.859375 -18.023438 25.578125 -15.140625 30.171875 -15.140625 C 32.441406 -15.140625 34.71875 -15.945312 37 -17.5625 C 39.28125 -19.175781 41.238281 -21.132812 42.875 -23.4375 L 42.875 -35.78125 Z M 30.453125 -35.78125 \"/>\n",
       "</g>\n",
       "<g id=\"glyph-3-0 5267019076842502971\">\n",
       "<path d=\"M 20.859375 0 L 20.859375 -129.03125 L 1.921875 -129.03125 L 1.921875 -155.3125 L 52.671875 -155.3125 L 52.671875 -129.03125 L 33.765625 -129.03125 L 33.765625 0 Z M 20.859375 0 \"/>\n",
       "</g>\n",
       "<g id=\"glyph-4-0 5267019076842502971\">\n",
       "<path d=\"M 20.296875 0 L 20.296875 -3.890625 L 1.859375 -3.890625 L 1.859375 -4.671875 L 51.25 -4.671875 L 51.25 -3.890625 L 32.84375 -3.890625 L 32.84375 0 Z M 20.296875 0 \"/>\n",
       "</g>\n",
       "<g id=\"glyph-5-0 5267019076842502971\">\n",
       "<path d=\"M 42.546875 -25 L 53.78125 -20.78125 C 52.050781 -13.363281 49.179688 -7.851562 45.171875 -4.25 C 41.171875 -0.644531 36.09375 1.15625 29.9375 1.15625 C 22.320312 1.15625 16.0625 -1.925781 11.15625 -8.09375 C 6.25 -14.257812 3.796875 -22.695312 3.796875 -33.40625 C 3.796875 -44.71875 6.257812 -53.503906 11.1875 -59.765625 C 16.125 -66.023438 22.609375 -69.15625 30.640625 -69.15625 C 37.660156 -69.15625 43.363281 -66.695312 47.75 -61.78125 C 50.351562 -58.875 52.3125 -54.703125 53.625 -49.265625 L 42.15625 -46.015625 C 41.476562 -49.535156 40.0625 -52.316406 37.90625 -54.359375 C 35.75 -56.398438 33.132812 -57.421875 30.0625 -57.421875 C 25.800781 -57.421875 22.347656 -55.613281 19.703125 -52 C 17.054688 -48.382812 15.734375 -42.523438 15.734375 -34.421875 C 15.734375 -25.828125 17.035156 -19.703125 19.640625 -16.046875 C 22.253906 -12.398438 25.648438 -10.578125 29.828125 -10.578125 C 32.898438 -10.578125 35.546875 -11.734375 37.765625 -14.046875 C 39.984375 -16.367188 41.578125 -20.019531 42.546875 -25 Z M 42.546875 -25 \"/>\n",
       "</g>\n",
       "<g id=\"glyph-6-0 5267019076842502971\">\n",
       "<path d=\"M 30.453125 -64.109375 L 30.453125 -93.484375 L 53.84375 -93.484375 L 53.84375 -24.03125 C 51.570312 -16.894531 48.28125 -10.609375 43.96875 -5.171875 C 39.65625 0.253906 35.285156 2.96875 30.859375 2.96875 C 25.242188 2.96875 20.34375 -0.851562 16.15625 -8.5 C 11.976562 -16.15625 8.835938 -27.097656 6.734375 -41.328125 C 4.640625 -55.554688 3.59375 -71.039062 3.59375 -87.78125 C 3.59375 -105.9375 4.765625 -122.066406 7.109375 -136.171875 C 9.453125 -150.285156 12.882812 -161.113281 17.40625 -168.65625 C 20.851562 -174.4375 25.144531 -177.328125 30.28125 -177.328125 C 36.945312 -177.328125 42.15625 -172.785156 45.90625 -163.703125 C 49.65625 -154.628906 52.066406 -142.085938 53.140625 -126.078125 L 42.375 -119.53125 C 41.613281 -128.09375 40.1875 -134.847656 38.09375 -139.796875 C 36.007812 -144.753906 33.40625 -147.234375 30.28125 -147.234375 C 25.53125 -147.234375 21.753906 -142.359375 18.953125 -132.609375 C 16.160156 -122.859375 14.765625 -108.390625 14.765625 -89.203125 C 14.765625 -68.503906 16.179688 -52.976562 19.015625 -42.625 C 21.859375 -32.28125 25.578125 -27.109375 30.171875 -27.109375 C 32.441406 -27.109375 34.71875 -28.554688 37 -31.453125 C 39.28125 -34.347656 41.238281 -37.859375 42.875 -41.984375 L 42.875 -64.109375 Z M 30.453125 -64.109375 \"/>\n",
       "</g>\n",
       "<g id=\"glyph-7-0 5267019076842502971\">\n",
       "<path d=\"M 42.546875 -91.203125 L 53.78125 -75.8125 C 52.050781 -48.738281 49.179688 -28.628906 45.171875 -15.484375 C 41.171875 -2.335938 36.09375 4.234375 29.9375 4.234375 C 22.320312 4.234375 16.0625 -7.015625 11.15625 -29.515625 C 6.25 -52.023438 3.796875 -82.800781 3.796875 -121.84375 C 3.796875 -163.125 6.257812 -195.1875 11.1875 -218.03125 C 16.125 -240.882812 22.609375 -252.3125 30.640625 -252.3125 C 37.660156 -252.3125 43.363281 -243.34375 47.75 -225.40625 C 50.351562 -214.800781 52.3125 -199.570312 53.625 -179.71875 L 42.15625 -167.859375 C 41.476562 -180.722656 40.0625 -190.878906 37.90625 -198.328125 C 35.75 -205.773438 33.132812 -209.5 30.0625 -209.5 C 25.800781 -209.5 22.347656 -202.894531 19.703125 -189.6875 C 17.054688 -176.488281 15.734375 -155.113281 15.734375 -125.5625 C 15.734375 -94.195312 17.035156 -71.859375 19.640625 -58.546875 C 22.253906 -45.234375 25.648438 -38.578125 29.828125 -38.578125 C 32.898438 -38.578125 35.546875 -42.804688 37.765625 -51.265625 C 39.984375 -59.734375 41.578125 -73.046875 42.546875 -91.203125 Z M 42.546875 -91.203125 \"/>\n",
       "</g>\n",
       "<g id=\"glyph-8-0 5267019076842502971\">\n",
       "<path d=\"M 20.859375 0 L 20.859375 -213.1875 L 1.921875 -213.1875 L 1.921875 -256.59375 L 52.671875 -256.59375 L 52.671875 -213.1875 L 33.765625 -213.1875 L 33.765625 0 Z M 20.859375 0 \"/>\n",
       "</g>\n",
       "<g id=\"glyph-9-0 5267019076842502971\">\n",
       "<path d=\"M 50.8125 0 L 39.6875 0 L 35.265625 -58.265625 L 15.03125 -58.265625 L 10.84375 0 L 0 0 L 19.71875 -256.46875 L 30.53125 -256.46875 Z M 31.984375 -101.46875 L 25 -196.640625 L 18.171875 -101.46875 Z M 31.984375 -101.46875 \"/>\n",
       "</g>\n",
       "<g id=\"glyph-10-0 5267019076842502971\">\n",
       "<path d=\"M 21.015625 0 L 21.015625 -6.046875 L 1.9375 -6.046875 L 1.9375 -7.28125 L 53.03125 -7.28125 L 53.03125 -6.046875 L 34 -6.046875 L 34 0 Z M 21.015625 0 \"/>\n",
       "</g>\n",
       "<g id=\"glyph-11-0 5267019076842502971\">\n",
       "<path d=\"M 30.453125 -34.296875 L 30.453125 -50 L 53.84375 -50 L 53.84375 -12.84375 C 51.570312 -9.03125 48.28125 -5.671875 43.96875 -2.765625 C 39.65625 0.140625 35.285156 1.59375 30.859375 1.59375 C 25.242188 1.59375 20.34375 -0.453125 16.15625 -4.546875 C 11.976562 -8.640625 8.835938 -14.492188 6.734375 -22.109375 C 4.640625 -29.722656 3.59375 -38.003906 3.59375 -46.953125 C 3.59375 -56.660156 4.765625 -65.289062 7.109375 -72.84375 C 9.453125 -80.394531 12.882812 -86.1875 17.40625 -90.21875 C 20.851562 -93.3125 25.144531 -94.859375 30.28125 -94.859375 C 36.945312 -94.859375 42.15625 -92.429688 45.90625 -87.578125 C 49.65625 -82.722656 52.066406 -76.007812 53.140625 -67.4375 L 42.375 -63.9375 C 41.613281 -68.519531 40.1875 -72.132812 38.09375 -74.78125 C 36.007812 -77.4375 33.40625 -78.765625 30.28125 -78.765625 C 25.53125 -78.765625 21.753906 -76.15625 18.953125 -70.9375 C 16.160156 -65.71875 14.765625 -57.976562 14.765625 -47.71875 C 14.765625 -36.644531 16.179688 -28.335938 19.015625 -22.796875 C 21.859375 -17.265625 25.578125 -14.5 30.171875 -14.5 C 32.441406 -14.5 34.71875 -15.273438 37 -16.828125 C 39.28125 -18.378906 41.238281 -20.253906 42.875 -22.453125 L 42.875 -34.296875 Z M 30.453125 -34.296875 \"/>\n",
       "</g>\n",
       "<g id=\"glyph-12-0 5267019076842502971\">\n",
       "<path d=\"M 50.8125 0 L 39.6875 0 L 35.265625 -34.4375 L 15.03125 -34.4375 L 10.84375 0 L 0 0 L 19.71875 -151.59375 L 30.53125 -151.59375 Z M 31.984375 -59.96875 L 25 -116.21875 L 18.171875 -59.96875 Z M 31.984375 -59.96875 \"/>\n",
       "</g>\n",
       "<g id=\"glyph-13-0 5267019076842502971\">\n",
       "<path d=\"M 42.796875 -10.09375 L 54.09375 -8.390625 C 52.363281 -5.390625 49.484375 -3.160156 45.453125 -1.703125 C 41.421875 -0.253906 36.304688 0.46875 30.109375 0.46875 C 22.453125 0.46875 16.15625 -0.773438 11.21875 -3.265625 C 6.28125 -5.765625 3.8125 -9.171875 3.8125 -13.484375 C 3.8125 -18.054688 6.289062 -21.609375 11.25 -24.140625 C 16.21875 -26.671875 22.742188 -27.9375 30.828125 -27.9375 C 37.890625 -27.9375 43.625 -26.941406 48.03125 -24.953125 C 50.65625 -23.785156 52.625 -22.101562 53.9375 -19.90625 L 42.40625 -18.59375 C 41.71875 -20.007812 40.289062 -21.128906 38.125 -21.953125 C 35.957031 -22.785156 33.328125 -23.203125 30.234375 -23.203125 C 25.953125 -23.203125 22.476562 -22.46875 19.8125 -21 C 17.15625 -19.539062 15.828125 -17.175781 15.828125 -13.90625 C 15.828125 -10.425781 17.140625 -7.945312 19.765625 -6.46875 C 22.390625 -5 25.800781 -4.265625 30 -4.265625 C 33.09375 -4.265625 35.753906 -4.734375 37.984375 -5.671875 C 40.222656 -6.609375 41.828125 -8.082031 42.796875 -10.09375 Z M 42.796875 -10.09375 \"/>\n",
       "</g>\n",
       "<g id=\"glyph-14-0 5267019076842502971\">\n",
       "<path d=\"M 50.453125 0 L 39.40625 0 L 35.015625 -7.609375 L 14.921875 -7.609375 L 10.765625 0 L 0 0 L 19.59375 -33.515625 L 30.328125 -33.515625 Z M 31.765625 -13.265625 L 24.828125 -25.703125 L 18.046875 -13.265625 Z M 31.765625 -13.265625 \"/>\n",
       "</g>\n",
       "<g id=\"glyph-15-0 5267019076842502971\">\n",
       "<path d=\"M 30.453125 -68.765625 L 30.453125 -100.265625 L 53.84375 -100.265625 L 53.84375 -25.765625 C 51.570312 -18.109375 48.28125 -11.367188 43.96875 -5.546875 C 39.65625 0.273438 35.285156 3.1875 30.859375 3.1875 C 25.242188 3.1875 20.34375 -0.914062 16.15625 -9.125 C 11.976562 -17.332031 8.835938 -29.066406 6.734375 -44.328125 C 4.640625 -59.597656 3.59375 -76.203125 3.59375 -94.140625 C 3.59375 -113.617188 4.765625 -130.925781 7.109375 -146.0625 C 9.453125 -161.207031 12.882812 -172.816406 17.40625 -180.890625 C 20.851562 -187.097656 25.144531 -190.203125 30.28125 -190.203125 C 36.945312 -190.203125 42.15625 -185.332031 45.90625 -175.59375 C 49.65625 -165.863281 52.066406 -152.40625 53.140625 -135.21875 L 42.375 -128.203125 C 41.613281 -137.390625 40.1875 -144.640625 38.09375 -149.953125 C 36.007812 -155.273438 33.40625 -157.9375 30.28125 -157.9375 C 25.53125 -157.9375 21.753906 -152.703125 18.953125 -142.234375 C 16.160156 -131.773438 14.765625 -116.253906 14.765625 -95.671875 C 14.765625 -73.472656 16.179688 -56.828125 19.015625 -45.734375 C 21.859375 -34.640625 25.578125 -29.09375 30.171875 -29.09375 C 32.441406 -29.09375 34.71875 -30.644531 37 -33.75 C 39.28125 -36.851562 41.238281 -40.613281 42.875 -45.03125 L 42.875 -68.765625 Z M 30.453125 -68.765625 \"/>\n",
       "</g>\n",
       "</g>\n",
       "</defs>\n",
       "<path fill=\"none\" stroke-width=\"2.08333\" stroke-linecap=\"butt\" stroke-linejoin=\"miter\" stroke=\"rgb(0%, 0%, 0%)\" stroke-opacity=\"1\" stroke-miterlimit=\"10\" d=\"M 110.416667 57.73112 L 131.25 57.73112 L 131.25 1129.166667 \" transform=\"matrix(0.24, 0, 0, -0.24, 0, 277)\"/>\n",
       "<g fill=\"rgb(0%, 0%, 0%)\" fill-opacity=\"1\">\n",
       "<use xlink:href=\"#glyph-0-0 5267019076842502971\" x=\"14.880912\" y=\"266.022791\"/>\n",
       "<use xlink:href=\"#glyph-0-1 5267019076842502971\" x=\"19.328915\" y=\"266.022791\"/>\n",
       "<use xlink:href=\"#glyph-0-0 5267019076842502971\" x=\"21.552917\" y=\"266.022791\"/>\n",
       "</g>\n",
       "<path fill=\"none\" stroke-width=\"2.08333\" stroke-linecap=\"butt\" stroke-linejoin=\"miter\" stroke=\"rgb(0%, 0%, 0%)\" stroke-opacity=\"1\" stroke-miterlimit=\"10\" d=\"M 110.432943 57.73112 L 131.25 57.73112 \" transform=\"matrix(0.24, 0, 0, -0.24, 0, 277)\"/>\n",
       "<g fill=\"rgb(0%, 0%, 0%)\" fill-opacity=\"1\">\n",
       "<use xlink:href=\"#glyph-0-0 5267019076842502971\" x=\"14.880912\" y=\"137.450888\"/>\n",
       "<use xlink:href=\"#glyph-0-1 5267019076842502971\" x=\"19.328915\" y=\"137.450888\"/>\n",
       "<use xlink:href=\"#glyph-0-2 5267019076842502971\" x=\"21.552917\" y=\"137.450888\"/>\n",
       "</g>\n",
       "<path fill=\"none\" stroke-width=\"2.08333\" stroke-linecap=\"butt\" stroke-linejoin=\"miter\" stroke=\"rgb(0%, 0%, 0%)\" stroke-opacity=\"1\" stroke-miterlimit=\"10\" d=\"M 110.432943 593.457031 L 131.25 593.457031 \" transform=\"matrix(0.24, 0, 0, -0.24, 0, 277)\"/>\n",
       "<g fill=\"rgb(0%, 0%, 0%)\" fill-opacity=\"1\">\n",
       "<use xlink:href=\"#glyph-0-3 5267019076842502971\" x=\"14.880912\" y=\"8.879786\"/>\n",
       "<use xlink:href=\"#glyph-0-1 5267019076842502971\" x=\"19.328915\" y=\"8.879786\"/>\n",
       "<use xlink:href=\"#glyph-0-0 5267019076842502971\" x=\"21.552917\" y=\"8.879786\"/>\n",
       "</g>\n",
       "<path fill=\"none\" stroke-width=\"2.08333\" stroke-linecap=\"butt\" stroke-linejoin=\"miter\" stroke=\"rgb(0%, 0%, 0%)\" stroke-opacity=\"1\" stroke-miterlimit=\"10\" d=\"M 110.432943 1129.166667 L 131.25 1129.166667 \" transform=\"matrix(0.24, 0, 0, -0.24, 0, 277)\"/>\n",
       "<path fill=\"none\" stroke-width=\"2.08333\" stroke-linecap=\"butt\" stroke-linejoin=\"miter\" stroke=\"rgb(0%, 0%, 0%)\" stroke-opacity=\"1\" stroke-miterlimit=\"10\" d=\"M 131.25 57.73112 L 120.833333 57.73112 \" transform=\"matrix(0.24, 0, 0, -0.24, 0, 277)\"/>\n",
       "<path fill=\"none\" stroke-width=\"2.08333\" stroke-linecap=\"butt\" stroke-linejoin=\"miter\" stroke=\"rgb(0%, 0%, 0%)\" stroke-opacity=\"1\" stroke-miterlimit=\"10\" d=\"M 131.25 164.876302 L 120.833333 164.876302 \" transform=\"matrix(0.24, 0, 0, -0.24, 0, 277)\"/>\n",
       "<path fill=\"none\" stroke-width=\"2.08333\" stroke-linecap=\"butt\" stroke-linejoin=\"miter\" stroke=\"rgb(0%, 0%, 0%)\" stroke-opacity=\"1\" stroke-miterlimit=\"10\" d=\"M 131.25 272.021484 L 120.833333 272.021484 \" transform=\"matrix(0.24, 0, 0, -0.24, 0, 277)\"/>\n",
       "<path fill=\"none\" stroke-width=\"2.08333\" stroke-linecap=\"butt\" stroke-linejoin=\"miter\" stroke=\"rgb(0%, 0%, 0%)\" stroke-opacity=\"1\" stroke-miterlimit=\"10\" d=\"M 131.25 379.166667 L 120.833333 379.166667 \" transform=\"matrix(0.24, 0, 0, -0.24, 0, 277)\"/>\n",
       "<path fill=\"none\" stroke-width=\"2.08333\" stroke-linecap=\"butt\" stroke-linejoin=\"miter\" stroke=\"rgb(0%, 0%, 0%)\" stroke-opacity=\"1\" stroke-miterlimit=\"10\" d=\"M 131.25 486.311849 L 120.833333 486.311849 \" transform=\"matrix(0.24, 0, 0, -0.24, 0, 277)\"/>\n",
       "<path fill=\"none\" stroke-width=\"2.08333\" stroke-linecap=\"butt\" stroke-linejoin=\"miter\" stroke=\"rgb(0%, 0%, 0%)\" stroke-opacity=\"1\" stroke-miterlimit=\"10\" d=\"M 131.25 593.457031 L 120.833333 593.457031 \" transform=\"matrix(0.24, 0, 0, -0.24, 0, 277)\"/>\n",
       "<path fill=\"none\" stroke-width=\"2.08333\" stroke-linecap=\"butt\" stroke-linejoin=\"miter\" stroke=\"rgb(0%, 0%, 0%)\" stroke-opacity=\"1\" stroke-miterlimit=\"10\" d=\"M 131.25 700.585937 L 120.833333 700.585937 \" transform=\"matrix(0.24, 0, 0, -0.24, 0, 277)\"/>\n",
       "<path fill=\"none\" stroke-width=\"2.08333\" stroke-linecap=\"butt\" stroke-linejoin=\"miter\" stroke=\"rgb(0%, 0%, 0%)\" stroke-opacity=\"1\" stroke-miterlimit=\"10\" d=\"M 131.25 807.73112 L 120.833333 807.73112 \" transform=\"matrix(0.24, 0, 0, -0.24, 0, 277)\"/>\n",
       "<path fill=\"none\" stroke-width=\"2.08333\" stroke-linecap=\"butt\" stroke-linejoin=\"miter\" stroke=\"rgb(0%, 0%, 0%)\" stroke-opacity=\"1\" stroke-miterlimit=\"10\" d=\"M 131.25 914.876302 L 120.833333 914.876302 \" transform=\"matrix(0.24, 0, 0, -0.24, 0, 277)\"/>\n",
       "<path fill=\"none\" stroke-width=\"2.08333\" stroke-linecap=\"butt\" stroke-linejoin=\"miter\" stroke=\"rgb(0%, 0%, 0%)\" stroke-opacity=\"1\" stroke-miterlimit=\"10\" d=\"M 131.25 1022.021484 L 120.833333 1022.021484 \" transform=\"matrix(0.24, 0, 0, -0.24, 0, 277)\"/>\n",
       "<g fill=\"rgb(0%, 0%, 0%)\" fill-opacity=\"1\">\n",
       "<use xlink:href=\"#glyph-1-0 5267019076842502971\" x=\"11.850009\" y=\"157.359904\"/>\n",
       "<use xlink:href=\"#glyph-1-1 5267019076842502971\" x=\"11.850009\" y=\"151.7999\"/>\n",
       "<use xlink:href=\"#glyph-1-2 5267019076842502971\" x=\"11.850009\" y=\"148.469897\"/>\n",
       "<use xlink:href=\"#glyph-1-3 5267019076842502971\" x=\"11.850009\" y=\"142.909893\"/>\n",
       "<use xlink:href=\"#glyph-1-4 5267019076842502971\" x=\"11.850009\" y=\"137.349888\"/>\n",
       "<use xlink:href=\"#glyph-1-3 5267019076842502971\" x=\"11.850009\" y=\"131.789884\"/>\n",
       "<use xlink:href=\"#glyph-1-5 5267019076842502971\" x=\"11.850009\" y=\"126.229879\"/>\n",
       "<use xlink:href=\"#glyph-1-6 5267019076842502971\" x=\"11.850009\" y=\"124.009878\"/>\n",
       "<use xlink:href=\"#glyph-1-5 5267019076842502971\" x=\"11.850009\" y=\"121.789876\"/>\n",
       "<use xlink:href=\"#glyph-1-7 5267019076842502971\" x=\"11.850009\" y=\"119.569874\"/>\n",
       "<use xlink:href=\"#glyph-1-8 5267019076842502971\" x=\"11.850009\" y=\"116.789872\"/>\n",
       "</g>\n",
       "<path fill=\"none\" stroke-width=\"2.08333\" stroke-linecap=\"butt\" stroke-linejoin=\"miter\" stroke=\"rgb(0%, 0%, 0%)\" stroke-opacity=\"1\" stroke-miterlimit=\"10\" d=\"M 133.333333 57.73112 L 347.623698 57.73112 M 240.478516 57.73112 L 240.478516 52.539062 \" transform=\"matrix(0.24, 0, 0, -0.24, 0, 277)\"/>\n",
       "<g fill=\"rgb(100%, 64.646912%, 0%)\" fill-opacity=\"1\">\n",
       "<use xlink:href=\"#glyph-2-0 5267019076842502971\" x=\"28.900323\" y=\"260.903087\"/>\n",
       "</g>\n",
       "<g fill=\"rgb(100%, 0%, 0%)\" fill-opacity=\"1\">\n",
       "<use xlink:href=\"#glyph-3-0 5267019076842502971\" x=\"30.340324\" y=\"161.343907\"/>\n",
       "</g>\n",
       "<path fill=\"none\" stroke-width=\"2.08333\" stroke-linecap=\"butt\" stroke-linejoin=\"miter\" stroke=\"rgb(0%, 0%, 0%)\" stroke-opacity=\"1\" stroke-miterlimit=\"10\" d=\"M 347.623698 57.73112 L 561.914062 57.73112 M 454.76888 57.73112 L 454.76888 52.539062 \" transform=\"matrix(0.24, 0, 0, -0.24, 0, 277)\"/>\n",
       "<g fill=\"rgb(100%, 0%, 0%)\" fill-opacity=\"1\">\n",
       "<use xlink:href=\"#glyph-4-0 5267019076842502971\" x=\"80.741265\" y=\"262.643089\"/>\n",
       "</g>\n",
       "<g fill=\"rgb(0%, 0%, 100%)\" fill-opacity=\"1\">\n",
       "<use xlink:href=\"#glyph-5-0 5267019076842502971\" x=\"80.340064\" y=\"256.258683\"/>\n",
       "</g>\n",
       "<g fill=\"rgb(100%, 64.646912%, 0%)\" fill-opacity=\"1\">\n",
       "<use xlink:href=\"#glyph-6-0 5267019076842502971\" x=\"80.328764\" y=\"183.433725\"/>\n",
       "</g>\n",
       "<path fill=\"none\" stroke-width=\"2.08333\" stroke-linecap=\"butt\" stroke-linejoin=\"miter\" stroke=\"rgb(0%, 0%, 0%)\" stroke-opacity=\"1\" stroke-miterlimit=\"10\" d=\"M 561.914062 57.73112 L 776.188151 57.73112 M 669.042969 57.73112 L 669.042969 52.539062 \" transform=\"matrix(0.24, 0, 0, -0.24, 0, 277)\"/>\n",
       "<g fill=\"rgb(0%, 0%, 100%)\" fill-opacity=\"1\">\n",
       "<use xlink:href=\"#glyph-7-0 5267019076842502971\" x=\"131.768105\" y=\"258.495585\"/>\n",
       "</g>\n",
       "<path fill=\"none\" stroke-width=\"2.08333\" stroke-linecap=\"butt\" stroke-linejoin=\"miter\" stroke=\"rgb(0%, 0%, 0%)\" stroke-opacity=\"1\" stroke-miterlimit=\"10\" d=\"M 776.188151 57.73112 L 990.478516 57.73112 M 883.333333 57.73112 L 883.333333 52.539062 \" transform=\"matrix(0.24, 0, 0, -0.24, 0, 277)\"/>\n",
       "<g fill=\"rgb(100%, 0%, 0%)\" fill-opacity=\"1\">\n",
       "<use xlink:href=\"#glyph-8-0 5267019076842502971\" x=\"184.626148\" y=\"262.643089\"/>\n",
       "</g>\n",
       "<path fill=\"none\" stroke-width=\"2.08333\" stroke-linecap=\"butt\" stroke-linejoin=\"miter\" stroke=\"rgb(0%, 0%, 0%)\" stroke-opacity=\"1\" stroke-miterlimit=\"10\" d=\"M 990.478516 57.73112 L 1204.752604 57.73112 M 1097.623698 57.73112 L 1097.623698 47.314453 \" transform=\"matrix(0.24, 0, 0, -0.24, 0, 277)\"/>\n",
       "<g fill=\"rgb(0%, 0%, 0%)\" fill-opacity=\"1\">\n",
       "<use xlink:href=\"#glyph-0-2 5267019076842502971\" x=\"261.204209\" y=\"273.642807\"/>\n",
       "</g>\n",
       "<g fill=\"rgb(0%, 50.193787%, 0%)\" fill-opacity=\"1\">\n",
       "<use xlink:href=\"#glyph-9-0 5267019076842502971\" x=\"238.214191\" y=\"262.643089\"/>\n",
       "</g>\n",
       "<path fill=\"none\" stroke-width=\"2.08333\" stroke-linecap=\"butt\" stroke-linejoin=\"miter\" stroke=\"rgb(0%, 0%, 0%)\" stroke-opacity=\"1\" stroke-miterlimit=\"10\" d=\"M 1204.752604 57.73112 L 1419.042969 57.73112 M 1311.914062 57.73112 L 1311.914062 52.539062 \" transform=\"matrix(0.24, 0, 0, -0.24, 0, 277)\"/>\n",
       "<g fill=\"rgb(100%, 0%, 0%)\" fill-opacity=\"1\">\n",
       "<use xlink:href=\"#glyph-10-0 5267019076842502971\" x=\"285.401228\" y=\"262.643089\"/>\n",
       "</g>\n",
       "<g fill=\"rgb(100%, 64.646912%, 0%)\" fill-opacity=\"1\">\n",
       "<use xlink:href=\"#glyph-11-0 5267019076842502971\" x=\"286.042229\" y=\"253.105881\"/>\n",
       "</g>\n",
       "<g fill=\"rgb(0%, 50.193787%, 0%)\" fill-opacity=\"1\">\n",
       "<use xlink:href=\"#glyph-12-0 5267019076842502971\" x=\"289.642232\" y=\"157.685905\"/>\n",
       "</g>\n",
       "<path fill=\"none\" stroke-width=\"2.08333\" stroke-linecap=\"butt\" stroke-linejoin=\"miter\" stroke=\"rgb(0%, 0%, 0%)\" stroke-opacity=\"1\" stroke-miterlimit=\"10\" d=\"M 1419.042969 57.73112 L 1633.333333 57.73112 M 1526.188151 57.73112 L 1526.188151 52.539062 \" transform=\"matrix(0.24, 0, 0, -0.24, 0, 277)\"/>\n",
       "<g fill=\"rgb(0%, 0%, 100%)\" fill-opacity=\"1\">\n",
       "<use xlink:href=\"#glyph-13-0 5267019076842502971\" x=\"337.55327\" y=\"262.163088\"/>\n",
       "</g>\n",
       "<g fill=\"rgb(0%, 50.193787%, 0%)\" fill-opacity=\"1\">\n",
       "<use xlink:href=\"#glyph-14-0 5267019076842502971\" x=\"341.071273\" y=\"233.780265\"/>\n",
       "</g>\n",
       "<g fill=\"rgb(100%, 64.646912%, 0%)\" fill-opacity=\"1\">\n",
       "<use xlink:href=\"#glyph-15-0 5267019076842502971\" x=\"337.47127\" y=\"196.328035\"/>\n",
       "</g>\n",
       "</svg>"
      ],
      "text/plain": [
       "<IPython.core.display.SVG object>"
      ]
     },
     "execution_count": 6,
     "metadata": {},
     "output_type": "execute_result"
    }
   ],
   "source": [
    "ppm_fig = seqlogo.Ppm(ppm)\n",
    "seqlogo.seqlogo(ppm_fig, font_size=30, ic_scale=False, format='svg') "
   ]
  },
  {
   "cell_type": "code",
   "execution_count": 7,
   "id": "006191c4",
   "metadata": {},
   "outputs": [
    {
     "name": "stdout",
     "output_type": "stream",
     "text": [
      "\n",
      "Sampled sequences and their probabilities:\n",
      "Sequence: TGGTAGG, Probability: 0.010001\n"
     ]
    }
   ],
   "source": [
    "# sample binding sites and print their associated probabilities\n",
    "num_samples = 1\n",
    "\n",
    "# sample binding sites from the pwm\n",
    "sampled_sequences = sample_binding_site_from_pwm(pwm, num_samples, dna_letters)\n",
    "\n",
    "# Testing: get most probable --> ensure this matches above num_samples!!\n",
    "# sampled_sequences = [most_probable_tf_binding_site]  \n",
    "\n",
    "# Calculate the probabilities of the sampled sequences\n",
    "sampled_probs = calculate_sequence_probability(pwm, sampled_sequences, dna_letters)\n",
    "print(\"\\nSampled sequences and their probabilities:\")\n",
    "for seq, prob in sampled_probs:\n",
    "    print(f\"Sequence: {seq}, Probability: {prob:.6f}\")"
   ]
  },
  {
   "cell_type": "code",
   "execution_count": 8,
   "id": "c602af93",
   "metadata": {},
   "outputs": [],
   "source": [
    "# Cleanup workspace\n",
    "# del max_length_pwm, pwm_raw, pwm_df, ppm_fig"
   ]
  },
  {
   "cell_type": "code",
   "execution_count": 9,
   "id": "2c0dc47b",
   "metadata": {},
   "outputs": [],
   "source": [
    "def create_random_sequence_with_sampled_sites(length, composition_bias, sampled_sequences):\n",
    "    # Generate a random sequence with the given length and background composition bias\n",
    "    random_sequence = ''.join(np.random.choice(dna_letters, size=length, p=composition_bias))\n",
    "\n",
    "    tf_positions = []\n",
    "    \n",
    "    # Randomly select positions to insert the sampled sequences\n",
    "    # no validation of positions, so may overlap\n",
    "    for seq in sampled_sequences:\n",
    "        pos = np.random.randint(0, length - len(seq) + 1)\n",
    "        tf_positions.append(pos)\n",
    "        random_sequence = random_sequence[:pos] + seq + random_sequence[pos + len(seq):]\n",
    "    \n",
    "    return random_sequence, tf_positions"
   ]
  },
  {
   "cell_type": "code",
   "execution_count": 10,
   "id": "9d8c300c",
   "metadata": {},
   "outputs": [
    {
     "data": {
      "text/markdown": [
       "\n",
       "Random sequence of length 200 with background composition bias [0.25 0.25 0.25 0.25]:"
      ],
      "text/plain": [
       "<IPython.core.display.Markdown object>"
      ]
     },
     "metadata": {},
     "output_type": "display_data"
    },
    {
     "data": {
      "text/markdown": [
       "Random sequence with sampled binding sites: TGCAAGAAATGTGGACCAACCTCAATACAGTTTCTTATAAGTGAGTTATCGGAGCGCGACAAGGTCGGGTTACCGCGGGAGTACCGCGCAGTAACGCACGGTGGTAGGAGGTGTAACCAACGGGTGGGTAAGGGTAACTCTCGAATACGCCAGGTTTGGACATCAGAGTCTTAAGCAGAAACCGCGCACGATTTACCCCA"
      ],
      "text/plain": [
       "<IPython.core.display.Markdown object>"
      ]
     },
     "metadata": {},
     "output_type": "display_data"
    },
    {
     "data": {
      "text/markdown": [
       "Sampled binding sites inserted at positions: [101]"
      ],
      "text/plain": [
       "<IPython.core.display.Markdown object>"
      ]
     },
     "metadata": {},
     "output_type": "display_data"
    }
   ],
   "source": [
    "# Create and print random sequence with sampled sites\n",
    "sequence_length = 200\n",
    "\n",
    "random_sequence, tf_positions = create_random_sequence_with_sampled_sites(sequence_length, bckg_composition_bias, sampled_sequences)\n",
    "\n",
    "jupyprint(f\"\\nRandom sequence of length {sequence_length} with background composition bias {bckg_composition_bias}:\")\n",
    "jupyprint(f\"Random sequence with sampled binding sites: {random_sequence}\")\n",
    "jupyprint(f\"Sampled binding sites inserted at positions: {tf_positions}\")"
   ]
  },
  {
   "cell_type": "code",
   "execution_count": 11,
   "id": "005f3e0d",
   "metadata": {},
   "outputs": [
    {
     "name": "stdout",
     "output_type": "stream",
     "text": [
      "\n",
      "Sanity Check binding site in the random sequence:\n",
      "{'TGGTAGG': [101]}\n"
     ]
    }
   ],
   "source": [
    "# Sanity Check Manually search string for the sampled binding sites with regex\n",
    "import re\n",
    "def find_binding_sites_in_sequence(sequence, binding_sites):\n",
    "    found_positions = {}\n",
    "    for site in binding_sites:\n",
    "        positions = [m.start() for m in re.finditer(site, sequence)]\n",
    "        if positions:\n",
    "            found_positions[site] = positions\n",
    "        else:\n",
    "            raise ValueError(f\"Binding site {site} not found in the sequence!!?!?!\")\n",
    "    return found_positions\n",
    "# Find binding sites in the random sequence\n",
    "found_positions = find_binding_sites_in_sequence(random_sequence, sampled_sequences)\n",
    "print(f\"\\nSanity Check binding site in the random sequence:\\n{found_positions}\")\n"
   ]
  },
  {
   "cell_type": "markdown",
   "id": "75c1a5b6",
   "metadata": {},
   "source": [
    "Check the log-likelihood of the sequence given the background composition\n",
    "$L(s|\\vec{x})=\\sum_in_i\\ \\text{log}_2(\\pi_i)$ just to make sure our random sequence didn't end up too biased"
   ]
  },
  {
   "cell_type": "code",
   "execution_count": 12,
   "id": "1c9f99f0",
   "metadata": {},
   "outputs": [
    {
     "name": "stdout",
     "output_type": "stream",
     "text": [
      "\n",
      "Log-Likelihood of the random sequence length 200 (independence assumption): -396.47 Expected: -400.0\n"
     ]
    }
   ],
   "source": [
    "counts = np.zeros((len(dna_letters),), dtype=int)\n",
    "# There's probably a nice regex to do this but this is easy\n",
    "for letter in random_sequence:\n",
    "    counts[dna_dict[letter]] += 1\n",
    "# Convert counts to log-likelihood\n",
    "EL_s = np.sum(counts * np.log2(bckg_composition_bias))\n",
    "L_s = np.sum(counts * np.log2(np.array(counts, dtype=\"float\")/len(random_sequence)))\n",
    "# P_s = 1 # Sanity Check probability and to see what 2^-400 is (3e-121)\n",
    "# for count in counts:\n",
    "#     P_s *= np.power(0.25,count)\n",
    "# print($\"Expected Likelihood of sequence given background composition{P_s}\")\n",
    "print(f\"\\nLog-Likelihood of the random sequence length {sum(counts)} (independence assumption): {L_s:.2f}\"+\n",
    "      f\" Expected: {EL_s}\")"
   ]
  },
  {
   "cell_type": "markdown",
   "id": "74be4011",
   "metadata": {},
   "source": [
    "#### Block 2 Inferring TF Binding Site with Forward-Backward Algorithm\n",
    "NOTE: this needs to be rewritten the simple 4-state hmm (start, bindingsite, background, end)"
   ]
  },
  {
   "cell_type": "code",
   "execution_count": 13,
   "id": "f51822a4",
   "metadata": {},
   "outputs": [
    {
     "data": {
      "image/svg+xml": [
       "<?xml version=\"1.0\" encoding=\"UTF-8\" standalone=\"no\"?>\n",
       "<!DOCTYPE svg PUBLIC \"-//W3C//DTD SVG 1.1//EN\"\n",
       " \"http://www.w3.org/Graphics/SVG/1.1/DTD/svg11.dtd\">\n",
       "<!-- Generated by graphviz version 2.43.0 (0)\n",
       " -->\n",
       "<!-- Title: %3 Pages: 1 -->\n",
       "<svg width=\"317pt\" height=\"188pt\"\n",
       " viewBox=\"0.00 0.00 316.59 187.94\" xmlns=\"http://www.w3.org/2000/svg\" xmlns:xlink=\"http://www.w3.org/1999/xlink\">\n",
       "<g id=\"graph0\" class=\"graph\" transform=\"scale(1 1) rotate(0) translate(4 183.94)\">\n",
       "<title>%3</title>\n",
       "<polygon fill=\"black\" stroke=\"transparent\" points=\"-4,4 -4,-183.94 312.59,-183.94 312.59,4 -4,4\"/>\n",
       "<!-- M -->\n",
       "<g id=\"node1\" class=\"node\">\n",
       "<title>M</title>\n",
       "<ellipse fill=\"black\" stroke=\"white\" cx=\"143.46\" cy=\"-49.3\" rx=\"27\" ry=\"18\"/>\n",
       "<text text-anchor=\"start\" x=\"135.46\" y=\"-45.6\" font-family=\"Times,serif\" font-size=\"14.00\" fill=\"white\">TF</text>\n",
       "</g>\n",
       "<!-- M&#45;&gt;M -->\n",
       "<g id=\"edge10\" class=\"edge\">\n",
       "<title>M:sw&#45;&gt;M:s</title>\n",
       "<path fill=\"none\" stroke=\"white\" d=\"M128.46,-34.3C116.96,-25.3 116.96,-13.3 135.96,-13.3 148.72,-13.3 152.91,-18.71 150.8,-24.09\"/>\n",
       "<polygon fill=\"white\" stroke=\"white\" points=\"148.14,-21.79 143.46,-31.3 153.04,-26.79 148.14,-21.79\"/>\n",
       "<text text-anchor=\"start\" x=\"122.08\" y=\"-4.8\" font-family=\"Times,serif\" font-size=\"14.00\" fill=\"white\">a</text>\n",
       "<text text-anchor=\"start\" x=\"129.08\" y=\"-4.8\" font-family=\"Times,serif\" baseline-shift=\"sub\" font-size=\"14.00\" fill=\"white\">MM</text>\n",
       "</g>\n",
       "<!-- B -->\n",
       "<g id=\"node3\" class=\"node\">\n",
       "<title>B</title>\n",
       "<ellipse fill=\"black\" stroke=\"white\" cx=\"143.46\" cy=\"-121.3\" rx=\"29.5\" ry=\"18\"/>\n",
       "<text text-anchor=\"start\" x=\"128.96\" y=\"-117.6\" font-family=\"Times,serif\" font-size=\"14.00\" fill=\"white\">BKG</text>\n",
       "</g>\n",
       "<!-- M&#45;&gt;B -->\n",
       "<g id=\"edge7\" class=\"edge\">\n",
       "<title>M&#45;&gt;B</title>\n",
       "<path fill=\"none\" stroke=\"white\" d=\"M157.3,-65.05C163.82,-75.36 165.37,-85.67 161.92,-95.98\"/>\n",
       "<polygon fill=\"white\" stroke=\"white\" points=\"158.75,-94.5 157.62,-105.04 165.07,-97.51 158.75,-94.5\"/>\n",
       "<text text-anchor=\"middle\" x=\"179.2\" y=\"-83.5\" font-family=\"Times,serif\" font-size=\"14.00\" fill=\"white\">1&#45;1/L</text>\n",
       "</g>\n",
       "<!-- E -->\n",
       "<g id=\"node4\" class=\"node\">\n",
       "<title>E</title>\n",
       "<polygon fill=\"black\" stroke=\"white\" points=\"295.15,-48.3 241.15,-48.3 241.15,-12.3 295.15,-12.3 295.15,-48.3\"/>\n",
       "<text text-anchor=\"start\" x=\"249.15\" y=\"-27.6\" font-family=\"Times,serif\" font-size=\"14.00\" fill=\"white\">E</text>\n",
       "<text text-anchor=\"start\" x=\"258.15\" y=\"-27.6\" font-family=\"Times,serif\" baseline-shift=\"sub\" font-size=\"14.00\" fill=\"white\">PWM</text>\n",
       "</g>\n",
       "<!-- M&#45;&gt;E -->\n",
       "<g id=\"edge3\" class=\"edge\">\n",
       "<title>M&#45;&gt;E</title>\n",
       "<path fill=\"none\" stroke=\"white\" d=\"M169.88,-45.36C187.49,-42.63 211.2,-38.96 230.8,-35.93\"/>\n",
       "<polygon fill=\"white\" stroke=\"white\" points=\"231.56,-39.35 240.91,-34.36 230.49,-32.43 231.56,-39.35\"/>\n",
       "</g>\n",
       "<!-- D -->\n",
       "<g id=\"node6\" class=\"node\">\n",
       "<title>D</title>\n",
       "<polygon fill=\"black\" stroke=\"white\" points=\"268.15,-102.3 227.76,-84.3 268.15,-66.3 308.53,-84.3 268.15,-102.3\"/>\n",
       "<text text-anchor=\"start\" x=\"254.15\" y=\"-80.6\" font-family=\"Times,serif\" font-size=\"14.00\" fill=\"white\">END</text>\n",
       "</g>\n",
       "<!-- M&#45;&gt;D -->\n",
       "<g id=\"edge6\" class=\"edge\">\n",
       "<title>M&#45;&gt;D</title>\n",
       "<path fill=\"none\" stroke=\"white\" d=\"M168.7,-56.21C187.1,-61.46 212.63,-68.75 233.08,-74.58\"/>\n",
       "<polygon fill=\"white\" stroke=\"white\" points=\"232.38,-78.02 242.96,-77.4 234.3,-71.29 232.38,-78.02\"/>\n",
       "<text text-anchor=\"middle\" x=\"200.2\" y=\"-72.1\" font-family=\"Times,serif\" font-size=\"14.00\" fill=\"white\">1/L</text>\n",
       "</g>\n",
       "<!-- S -->\n",
       "<g id=\"node2\" class=\"node\">\n",
       "<title>S</title>\n",
       "<polygon fill=\"black\" stroke=\"white\" points=\"38.6,-102.3 -0.1,-84.3 38.6,-66.3 77.31,-84.3 38.6,-102.3\"/>\n",
       "<text text-anchor=\"middle\" x=\"38.6\" y=\"-80.6\" font-family=\"Times,serif\" font-size=\"14.00\" fill=\"white\">Start</text>\n",
       "</g>\n",
       "<!-- S&#45;&gt;M -->\n",
       "<g id=\"edge1\" class=\"edge\">\n",
       "<title>S&#45;&gt;M</title>\n",
       "<path fill=\"none\" stroke=\"white\" d=\"M61.42,-76.87C75.25,-72.17 93.42,-65.98 109.05,-60.66\"/>\n",
       "<polygon fill=\"white\" stroke=\"white\" points=\"110.55,-63.85 118.88,-57.32 108.29,-57.23 110.55,-63.85\"/>\n",
       "<text text-anchor=\"start\" x=\"69.19\" y=\"-60.27\" font-family=\"Times,serif\" font-size=\"14.00\" fill=\"white\">a</text>\n",
       "<text text-anchor=\"start\" x=\"76.19\" y=\"-60.27\" font-family=\"Times,serif\" baseline-shift=\"sub\" font-size=\"14.00\" fill=\"white\">BM</text>\n",
       "</g>\n",
       "<!-- S&#45;&gt;B -->\n",
       "<g id=\"edge2\" class=\"edge\">\n",
       "<title>S&#45;&gt;B</title>\n",
       "<path fill=\"none\" stroke=\"white\" d=\"M60.92,-91.96C74.53,-96.86 92.48,-103.32 108.08,-108.93\"/>\n",
       "<polygon fill=\"white\" stroke=\"white\" points=\"107.33,-112.38 117.92,-112.47 109.7,-105.79 107.33,-112.38\"/>\n",
       "<text text-anchor=\"start\" x=\"67.49\" y=\"-110.65\" font-family=\"Times,serif\" font-size=\"14.00\" fill=\"white\">a</text>\n",
       "<text text-anchor=\"start\" x=\"74.49\" y=\"-110.65\" font-family=\"Times,serif\" baseline-shift=\"sub\" font-size=\"14.00\" fill=\"white\">BB</text>\n",
       "</g>\n",
       "<!-- B&#45;&gt;M -->\n",
       "<g id=\"edge9\" class=\"edge\">\n",
       "<title>B&#45;&gt;M</title>\n",
       "<path fill=\"none\" stroke=\"white\" d=\"M129.3,-105.04C122.94,-94.73 121.56,-84.42 125.16,-74.11\"/>\n",
       "<polygon fill=\"white\" stroke=\"white\" points=\"128.35,-75.57 129.61,-65.05 122.06,-72.48 128.35,-75.57\"/>\n",
       "<text text-anchor=\"start\" x=\"93.58\" y=\"-88.7\" font-family=\"Times,serif\" font-size=\"14.00\" fill=\"white\">a</text>\n",
       "<text text-anchor=\"start\" x=\"100.58\" y=\"-88.7\" font-family=\"Times,serif\" baseline-shift=\"sub\" font-size=\"14.00\" fill=\"white\">BM</text>\n",
       "</g>\n",
       "<!-- B&#45;&gt;B -->\n",
       "<g id=\"edge8\" class=\"edge\">\n",
       "<title>B&#45;&gt;B</title>\n",
       "<path fill=\"none\" stroke=\"white\" d=\"M135.24,-138.71C133.71,-148.38 136.45,-157.3 143.46,-157.3 147.84,-157.3 150.55,-153.82 151.59,-148.84\"/>\n",
       "<polygon fill=\"white\" stroke=\"white\" points=\"155.09,-148.73 151.67,-138.71 148.09,-148.68 155.09,-148.73\"/>\n",
       "<text text-anchor=\"start\" x=\"130.85\" y=\"-169.74\" font-family=\"Times,serif\" font-size=\"14.00\" fill=\"white\">a</text>\n",
       "<text text-anchor=\"start\" x=\"137.85\" y=\"-169.74\" font-family=\"Times,serif\" baseline-shift=\"sub\" font-size=\"14.00\" fill=\"white\">BB</text>\n",
       "</g>\n",
       "<!-- F -->\n",
       "<g id=\"node5\" class=\"node\">\n",
       "<title>F</title>\n",
       "<polygon fill=\"black\" stroke=\"white\" points=\"295.15,-156.3 241.15,-156.3 241.15,-120.3 295.15,-120.3 295.15,-156.3\"/>\n",
       "<text text-anchor=\"start\" x=\"251.15\" y=\"-135.6\" font-family=\"Times,serif\" font-size=\"14.00\" fill=\"white\">E</text>\n",
       "<text text-anchor=\"start\" x=\"260.15\" y=\"-135.6\" font-family=\"Times,serif\" baseline-shift=\"sub\" font-size=\"14.00\" fill=\"white\">BKG</text>\n",
       "</g>\n",
       "<!-- B&#45;&gt;F -->\n",
       "<g id=\"edge4\" class=\"edge\">\n",
       "<title>B&#45;&gt;F</title>\n",
       "<path fill=\"none\" stroke=\"white\" d=\"M172.3,-125.15C189.72,-127.57 212.33,-130.7 231.11,-133.3\"/>\n",
       "<polygon fill=\"white\" stroke=\"white\" points=\"230.71,-136.78 241.09,-134.69 231.67,-129.85 230.71,-136.78\"/>\n",
       "</g>\n",
       "<!-- B&#45;&gt;D -->\n",
       "<g id=\"edge5\" class=\"edge\">\n",
       "<title>B&#45;&gt;D</title>\n",
       "<path fill=\"none\" stroke=\"white\" d=\"M170.18,-113.54C188.69,-107.96 213.83,-100.38 233.87,-94.33\"/>\n",
       "<polygon fill=\"white\" stroke=\"white\" points=\"234.98,-97.65 243.54,-91.42 232.95,-90.95 234.98,-97.65\"/>\n",
       "<text text-anchor=\"middle\" x=\"200.2\" y=\"-110.1\" font-family=\"Times,serif\" font-size=\"14.00\" fill=\"white\">1/L</text>\n",
       "</g>\n",
       "</g>\n",
       "</svg>\n"
      ],
      "text/plain": [
       "<graphviz.graphs.Digraph at 0x70794ccdb970>"
      ]
     },
     "execution_count": 13,
     "metadata": {},
     "output_type": "execute_result"
    }
   ],
   "source": [
    "# Make nice visualization of HMM\n",
    "dot = graphviz.Digraph(comment='HMM', format='svg')\n",
    "\n",
    "dot.attr(rankdir='LR')\n",
    "dot.attr(bgcolor='black')\n",
    "dot.attr('edge', color='white',fontcolor='white')\n",
    "dot.attr('node', style='filled',fillcolor='black', fontcolor='white', color='white')\n",
    "\n",
    "# Nodes setup\n",
    "dot.node('M', label='<TF>')\n",
    "dot.node('S', label='Start', shape='diamond')\n",
    "dot.node('B', label='<BKG>')\n",
    "dot.node('E', label='<E<SUB>PWM</SUB>>', shape=\"rect\")\n",
    "dot.node('F', label=\"<E<SUB>BKG</SUB>>\", shape=\"rect\")\n",
    "dot.node('D', label=\"<END>\", shape='diamond')\n",
    "\n",
    "# Atrributes need to be applied to node individually\n",
    "# as syntax for specfic assignment (as in normal graphviz)\n",
    "# not working, not equivalent to dot\n",
    "\n",
    "    \n",
    "with dot.subgraph() as s:\n",
    "    s.attr(rank='source')\n",
    "    s.node('S')\n",
    "\n",
    "with dot.subgraph() as s:\n",
    "    s.attr(rank='same')\n",
    "    s.node('M')\n",
    "    s.node('B')\n",
    "\n",
    "with dot.subgraph() as s:\n",
    "    s.attr(rank='sink')\n",
    "    s.node('E')\n",
    "    s.node('F')\n",
    "    s.node('D')\n",
    "\n",
    "# dot.attr(rank=\"same;M;N;O;B\")\n",
    "# dot.attr(rank=\"sink;E;\")\n",
    "# dot.attr(rank=\"source;B;\")\n",
    "\n",
    "# Edges setup\n",
    "dot.edge('S', 'M', taillabel='<a<SUB>BM</SUB>>', labeldistance=\"2.5\", labelangle=\"345\")\n",
    "dot.edge('S', 'B', taillabel='<a<SUB>BB</SUB>>', labeldistance=\"2.8\", labelangle=\"30\")\n",
    "dot.edges(['ME', 'BF']) # edges doesn't work if node name > 1 char\n",
    "dot.edge('B','D', label=\"1/L\")\n",
    "dot.edge('M','D', label=\"1/L\")\n",
    "dot.edge('M','B', headlabel=\"1-1/L\", labeldistance=\"2.8\", labelangle=\"25\")\n",
    "dot.edge('B','B', headlabel=\"<a<SUB>BB</SUB>>\",\n",
    "         labeldistance=\"3.5\", labelangle=\"15\")\n",
    "# dot.edge('B', 'B', headlabel='<a<SUB>BB</SUB>>',\n",
    "#           labeldistance=\"2.0\", labelangle=\"270\",\n",
    "#           headport='nw', tailport=\"w\",\n",
    "#           labelfloat=\"true\", splines=\"curved\",\n",
    "#           constraint=\"false\", dir=\"forward\")\n",
    "dot.edge('B', 'M', headlabel='<a<SUB>BM</SUB>>',\n",
    "         labelfloat=\"true\",labeldistance=\"3.5\", labelangle=\"15\")\n",
    "# dot.edge('M', 'B', label='<a<SUB>MB</SUB>>')\n",
    "dot.edge('M', 'M', taillabel='<a<SUB>MM</SUB>>',headport='s', tailport='sw',\n",
    "         labeldistance=\"2.8\", labelangle=\"65\", splines='curved', dir='forward') #, constraint='false')\n",
    "\n",
    "dot\n"
   ]
  },
  {
   "cell_type": "code",
   "execution_count": 23,
   "id": "f2f31cd2",
   "metadata": {},
   "outputs": [
    {
     "data": {
      "text/markdown": [
       "Transition $T=\\begin{bmatrix}{} 0.995 & 0.005 \\\\ 1.0 & 0.0 \\\\ \\end{bmatrix}$"
      ],
      "text/plain": [
       "<IPython.core.display.Markdown object>"
      ]
     },
     "metadata": {},
     "output_type": "display_data"
    },
    {
     "data": {
      "text/markdown": [
       "Match Emission $E_{PWM}=\\begin{bmatrix}{} 0.0500005873856518 & 0.05205644902193339 & 0.050066364844356004 & 0.05000110502950906 & 0.5490317729182559 & 0.3443693961064397 & 0.11575458170849218 \\\\ 0.05 & 0.1877877025640597 & 0.5474968794800664 & 0.05000039446881209 & 0.050968227010102174 & 0.050000000000674144 & 0.10951974152217034 \\\\ 0.5487572793083728 & 0.6958439894711658 & 0.3500309680446767 & 0.35426351893387553 & 0.35 & 0.5383513657109475 & 0.7247256767676375 \\\\ 0.3512421333059755 & 0.06431185894284117 & 0.05240578763090081 & 0.5457349815678033 & 0.05000000007164194 & 0.06727923818193854 & 0.05000000000169996 \\\\ \\end{bmatrix}$"
      ],
      "text/plain": [
       "<IPython.core.display.Markdown object>"
      ]
     },
     "metadata": {},
     "output_type": "display_data"
    },
    {
     "data": {
      "text/markdown": [
       "Background Emission of TF Length 7 $E_{BKG}=\\begin{bmatrix}{} 0.25 & 0.25 & 0.25 & 0.25 & 0.25 & 0.25 & 0.25 \\\\ 0.25 & 0.25 & 0.25 & 0.25 & 0.25 & 0.25 & 0.25 \\\\ 0.25 & 0.25 & 0.25 & 0.25 & 0.25 & 0.25 & 0.25 \\\\ 0.25 & 0.25 & 0.25 & 0.25 & 0.25 & 0.25 & 0.25 \\\\ \\end{bmatrix}$"
      ],
      "text/plain": [
       "<IPython.core.display.Markdown object>"
      ]
     },
     "metadata": {},
     "output_type": "display_data"
    }
   ],
   "source": [
    "# Testing: this is unfortunately only going to work for TF length 6\n",
    "# since this is the size the T_m is initialized\n",
    "# Transition and Emission probabilities\n",
    "a_bm = num_samples/len(random_sequence)\n",
    "a_bb = 1 - a_bm\n",
    "p_end = 1/len(random_sequence) # Probability of the end of the sequence\n",
    "p_l = 1 - p_end  \n",
    "\n",
    "# Technically a_mm would be 1 - (#tf's - 1)\n",
    "# T_m is also A\n",
    "# with start and end state but will omit for simplification as\n",
    "# not sure how to handle certainty as is deterministic when we reach the end\n",
    "# T_m = np.array([\n",
    "#     [0, a_bb, a_bm, 0], # S\n",
    "#     [0, a_bb, a_bm, p_end], # B\n",
    "#     [0, p_l, a_bm, p_end], # M\n",
    "#     [0, 0, 0, 0], # E\n",
    "#     ])\n",
    "\n",
    "# for simplicity let's say that there is no chance two transcription factors are \n",
    "# next to each other to simplify the probabililties since this should change\n",
    "T_m = np.array([\n",
    "    [a_bb, a_bm], # B\n",
    "    [1, 0], # M\n",
    "    ])\n",
    "\n",
    "# shallow copy ok\n",
    "E_pwm = pwm\n",
    "E_B = np.ones((len(dna_letters), tf_length)) * bckg_composition_bias[:, np.newaxis]\n",
    "jupyprint(f\"Transition $T={arraytex(T_m)}$\")\n",
    "jupyprint(f\"Match Emission $E_{{PWM}}={arraytex(pwm)}$\")\n",
    "jupyprint(f\"Background Emission of TF Length {tf_length} $E_{{BKG}}={arraytex(E_B)}$\")"
   ]
  },
  {
   "cell_type": "markdown",
   "id": "11e3022a",
   "metadata": {},
   "source": [
    "Forward: $f_k(i)=e_k(x_i)\\ \\sum_lf_l(i-1)\\ a_{lk}$, i.e. emission of current state * sum of possible transitions to this state * previous term\n",
    "\n",
    "Backward: $b_k(i)=\\sum_lb_l(i+1)e_l(x_{i+1})a_{kl}$, i.e. sum of all possible transitions to this state * emissions of previous states to this one * previous term\n",
    "\n",
    "Where $k$ is the current state, $l$ is the previous state, $i$ is the position in the sequence, $x_i$ is the nucleotide at that position in the sequence, $e_k(x_i)$ is the probability of emission of nucleotide $x_i$ from state $k$, $a_{lk}$ is the probability of transition from state $l$ to state $k$.\n",
    "\n",
    "Define a TF-length state (TF length + 1, B) HMM for whether (M) or not (B) we are in transcription factor (with start and end state)\n",
    "\n",
    "We estimate the transition probabilities of Background to Match State based on the number of transcription factor binding sites we expect to find as $a_{BM}=n/L$. Since transitions between Match states for each nucleotide is 1, there is only one meaningful state transition $a_{BM}$."
   ]
  },
  {
   "cell_type": "markdown",
   "id": "e9f999e5",
   "metadata": {},
   "source": [
    "##### Notes\n",
    "Using 2-state HMM will definitely result in underflow, switch to log probabilities"
   ]
  },
  {
   "cell_type": "code",
   "execution_count": 25,
   "id": "05693550",
   "metadata": {},
   "outputs": [],
   "source": [
    "# Prevent 0 issues in T_m\n",
    "T_m = np.where(T_m == 0, 1e-10, T_m)  # Replace 0 with a small value to avoid log(0)"
   ]
  },
  {
   "cell_type": "code",
   "execution_count": null,
   "id": "09af6c59",
   "metadata": {},
   "outputs": [
    {
     "data": {
      "image/png": "[encoded data removed]",
      "text/plain": [
       "<Figure size 1500x500 with 1 Axes>"
      ]
     },
     "metadata": {},
     "output_type": "display_data"
    }
   ],
   "source": [
    "def forward_backward(sequence, T_m, E_pwm, E_B, dna_dict, tf_length):\n",
    "    seq_len = len(sequence)\n",
    "    num_states = T_m.shape[0]\n",
    "\n",
    "    # print(num_states)\n",
    "    # print(np.array_equal(E_pwm, E_B)) \n",
    "\n",
    "    epsilon = 1e-10\n",
    "    \n",
    "    # Forward and Backward size sequence length x number of states\n",
    "    forward = np.zeros((seq_len, num_states)) + 1.0\n",
    "    backward = np.zeros((seq_len, num_states)) + 1.0\n",
    "    \n",
    "    # Start in background state, playing forward through states sequences\n",
    "    # NOTE: this is assumption, will fail if the TF is at position 0\n",
    "    # forward[0, 0] = 1.0\n",
    "    forward[0, 0] = epsilon  # small value to avoid log(0) issues\n",
    "    \n",
    "    # Forward, could do log and just sum\n",
    "    for i in range(1, seq_len):  \n",
    "        for k in range(num_states): # outer state loop\n",
    "            for l in range(num_states): # inner state loop -> find transition probabilities\n",
    "                # forward[i, k] += forward[i-1, l] * T_m[l, k]  # here alternatively we would iterate through the PWM\n",
    "                # NOTE add scaling factor to avoid numerical issues as need to exponentiate it\n",
    "                # keep track of the scaling factor at every step and multiple at the end\n",
    "                forward[i, k] += forward[i-1, l] + np.log(T_m[l, k])  # here alternatively we would iterate through the PWM\n",
    "            \n",
    "            # Use correct emission matrix based on state\n",
    "            for s in range(0, tf_length):  # iterate through TF length\n",
    "                if i+s > seq_len - tf_length:  # if we are at the end of the sequence\n",
    "                    break  # no more emissions possible, skip - would this not artifically increase the probability?\n",
    "                # HACK technically not sound but for simplicity 2-state HMM\n",
    "                if k == 0:  # Background state\n",
    "                    forward[i, k] += np.log(E_B[dna_dict[sequence[i+s]], s])\n",
    "                else:  # Match state\n",
    "                    forward[i, k] += np.log(E_pwm[dna_dict[sequence[i+s]], s])\n",
    "                # if k == 0:  # Background state\n",
    "                #     forward[i, k] *= E_B[dna_dict[sequence[i+s]], s]\n",
    "                # else:  # Match state\n",
    "                #     forward[i, k] *= E_pwm[dna_dict[sequence[i+s]], s] \n",
    "  \n",
    "    # Initialize last column of backward matrix, evaluate all states\n",
    "    # backward[seq_len-1, :] = 1.0\n",
    "    backward[seq_len-1, :] = epsilon  # small value to avoid log(0) issues\n",
    "\n",
    "    # Backward, possibility that we ended in any of the states\n",
    "    for i in range(seq_len-2, -1, -1):\n",
    "        for k in range(num_states):\n",
    "            for l in range(num_states): # this time emissions are included in inner loop\n",
    "                # Use correct emission matrix based on state\n",
    "                e_p = 1.0\n",
    "                for s in range(0, tf_length):  # iterate through TF length\n",
    "                    if i+s > seq_len - tf_length:  # if we are at the end of the sequence\n",
    "                        break  # no more emissions possible, skip - would this not artifically increase the probability?\n",
    "                    if l == 0:\n",
    "                        e_p += np.log(E_B[dna_dict[sequence[i+s]], s])\n",
    "                    else:\n",
    "                        e_p += np.log(E_pwm[dna_dict[sequence[i+s]], s])\n",
    "                backward[i, k] += backward[i+1, l] + np.log(T_m[k, l]) + e_p\n",
    "\n",
    "                #     if l == 0:\n",
    "                #         e_p *= E_B[dna_dict[sequence[i+s]], s]\n",
    "                #     else:\n",
    "                #         e_p *= E_pwm[dna_dict[sequence[i+s]], s]\n",
    "                # backward[i, k] += backward[i+1, l] * T_m[k, l] * e_p\n",
    "\n",
    "    \n",
    "    # Calculate posterior probabilities (gamma)\n",
    "    # posterior = forward * backward\n",
    "    posterior = forward + backward\n",
    "    posterior = posterior / np.sum(posterior, axis=1, keepdims=True) # normalize to 1 for probabilities\n",
    "    m1_posterior = posterior[:, 1] # match state 1 is beginning of TF binding site\n",
    "    \n",
    "    return m1_posterior, forward, backward\n",
    "\n",
    "# Calculate posterior probabilities\n",
    "posterior_probs, forward, backward = forward_backward(random_sequence, T_m, E_pwm, E_B, dna_dict, tf_length)\n",
    "\n",
    "# Plot the results\n",
    "plt.figure(figsize=(15, 5))\n",
    "plt.plot(posterior_probs)\n",
    "plt.xlabel('Sequence Position')\n",
    "plt.ylabel('Posterior Probability')\n",
    "plt.title('Posterior Probability of TF Binding Sites')\n",
    "plt.grid(True)\n",
    "# Add vertical lines for true binding sites\n",
    "for pos in tf_positions:\n",
    "    plt.axvline(x=pos, color='r', linestyle='--', alpha=0.5)\n",
    "plt.legend(['Posterior Probability', 'M1 True Binding Sites'])\n",
    "\n",
    "plt.show()"
   ]
  },
  {
   "cell_type": "code",
   "execution_count": 17,
   "id": "130a7488",
   "metadata": {},
   "outputs": [
    {
     "ename": "IndexError",
     "evalue": "index 0 is out of bounds for axis 0 with size 0",
     "output_type": "error",
     "traceback": [
      "\u001b[0;31m---------------------------------------------------------------------------\u001b[0m",
      "\u001b[0;31mIndexError\u001b[0m                                Traceback (most recent call last)",
      "Cell \u001b[0;32mIn[17], line 4\u001b[0m\n\u001b[1;32m      1\u001b[0m \u001b[38;5;66;03m# Print the most likely binding site\u001b[39;00m\n\u001b[1;32m      2\u001b[0m \u001b[38;5;66;03m# most_likely_binding_site = np.argmax(posterior_probs)  # for if returning the first match state\u001b[39;00m\n\u001b[1;32m      3\u001b[0m most_likely_binding_site \u001b[38;5;241m=\u001b[39m np\u001b[38;5;241m.\u001b[39margwhere(posterior_probs \u001b[38;5;241m>\u001b[39m\u001b[38;5;241m=\u001b[39m np\u001b[38;5;241m.\u001b[39mmax(posterior_probs)\u001b[38;5;241m*\u001b[39m\u001b[38;5;241m0.99\u001b[39m)\u001b[38;5;241m.\u001b[39mreshape(\u001b[38;5;241m-\u001b[39m\u001b[38;5;241m1\u001b[39m)  \u001b[38;5;66;03m# hacky and unclean\u001b[39;00m\n\u001b[0;32m----> 4\u001b[0m \u001b[38;5;28mprint\u001b[39m(\u001b[38;5;124mf\u001b[39m\u001b[38;5;124m\"\u001b[39m\u001b[38;5;130;01m\\n\u001b[39;00m\u001b[38;5;124mMost likely binding site position: \u001b[39m\u001b[38;5;132;01m{\u001b[39;00m\u001b[43mmost_likely_binding_site\u001b[49m\u001b[43m[\u001b[49m\u001b[38;5;241;43m0\u001b[39;49m\u001b[43m]\u001b[49m\u001b[38;5;132;01m}\u001b[39;00m\u001b[38;5;124m\"\u001b[39m)\n\u001b[1;32m      5\u001b[0m \u001b[38;5;66;03m# Print the most likely binding site sequence\u001b[39;00m\n\u001b[1;32m      6\u001b[0m most_likely_binding_site_seq \u001b[38;5;241m=\u001b[39m random_sequence[most_likely_binding_site[\u001b[38;5;241m0\u001b[39m]:most_likely_binding_site[\u001b[38;5;241m0\u001b[39m] \u001b[38;5;241m+\u001b[39m tf_length]\n",
      "\u001b[0;31mIndexError\u001b[0m: index 0 is out of bounds for axis 0 with size 0"
     ]
    }
   ],
   "source": [
    "# Print the most likely binding site\n",
    "# most_likely_binding_site = np.argmax(posterior_probs)  # for if returning the first match state\n",
    "most_likely_binding_site = np.argwhere(posterior_probs >= np.max(posterior_probs)*0.99).reshape(-1)  # hacky and unclean\n",
    "print(f\"\\nMost likely binding site position: {most_likely_binding_site[0]}\")\n",
    "# Print the most likely binding site sequence\n",
    "most_likely_binding_site_seq = random_sequence[most_likely_binding_site[0]:most_likely_binding_site[0] + tf_length]\n",
    "print(f\"Most likely binding site sequence: {most_likely_binding_site_seq}\")\n",
    "# Print the real binding site location and sequence\n",
    "for pos in tf_positions:\n",
    "    print(f\"Real binding site position: {pos}\")\n",
    "    print(f\"Real binding site sequence: {random_sequence[pos:pos + tf_length]}\")"
   ]
  },
  {
   "cell_type": "markdown",
   "id": "72831692",
   "metadata": {},
   "source": [
    "#### Notes on Partition Function and Calculating Ratios of Sequence Likelihoods\n",
    "For words $\\alpha$ with probability to occur $\\mathcal{p}_{\\alpha}$, $\\sum_{\\alpha}\\mathcal{p}_{\\alpha}=1$, we maximize the likelihood of observing sequence $S$, defined with the partition function $Z$ of a sequence $$Z(S)=\\sum_P\\prod_{\\alpha}(\\mathcal{p}_{\\alpha})^{N_{\\alpha}(P)}$$Where $N_{\\alpha}$ is the number of words, and $P$ is all possible segmentations of sequence $S$. The sum over all possible partitions of all sequences of length of $S$ $S'$ is about the same as the sum over all possible probabilities of words to the power of the number of words, $\\sum_{S'}\\simeq\\left(\\sum_{\\alpha}\\mathcal{p}_{alpha}\\right)^{N_{av}}=1$. The average number of words can be given by $$\\langle N_{\\alpha}\\rangle=\\mathcal{p}_{\\alpha}(\\frac{\\partial}{\\partial \\mathcal{p}_{\\alpha}})=\\frac{1}{Z}\\sum_P\\prod_{\\alpha}N_{\\alpha}(P)(\\mathcal{p}_{\\alpha})^{N_{\\alpha}(P)}$$\n",
    "\n",
    "With lagrange multiplier $\\lambda$, the requirement $Z(S)-\\lambda(\\sum_{\\alpha}\\mathcal{p}_{\\alpha}-1)$ is stationary w.r.t. $\\lambda$ and $\\mathcal{p}_{\\alpha}$ for all $\\alpha$, and $\\mathcal{p}_{\\alpha}=\\frac{\\langle N_{\\alpha}\\rangle}{\\sum_{\\beta}\\langle N_{\\beta}\\langle}\\equiv \\mathcal{f}_{\\alpha}$\n",
    "\n",
    "With vector $p=(\\mathcal{p}_{\\alpha}|\\alpha \\in D)$, finding the vector $p$ that maximizes $Z$ is the same as finding the fixed point $p*$ of the nonlinear mapping $f(p)$ such that $f(p^*)=p^*$. How do we find this convergence? We iteratively find it as $f(p)+\\frac{\\partial f}{\\partial p}\\bigg\\rvert _p(p^*-p)=p^*$\n",
    "\n",
    "We can define $\\frac{\\partial f}{\\partial p}$ in terms of Free Energy $F=-\\text{log}Z$ and the relation to the average number of words $$\\langle N_{\\alpha}\\rangle =-\\mathcal{p}_{\\alpha}(\\frac{\\partial}{\\partial \\mathcal{p_{\\alpha}}})F $$. How solve for $F$? We define partition sum recursive relation $$Z(1,i)=\\sum_{\\mathcal{l}=1}^{\\mathcal{l}_{\\text{max}}}\\mathcal{p}_{\\sigma(i,\\mathcal{l})}Z(1,i-\\mathcal{l})$$, where $\\sigma_{i,l}$ is the substring of length $l$ that ends at $i$ in $S$, and when $\\alpha(i,l)\\notin D$, $\\mathcal{p}_{\\alpha(i,l)}=0$.\n",
    "\n",
    "We now define (forward) likelihood ratio $$R(i)=\\frac{Z(1,i)}{Z(1, i-1)}=\\mathcal{p}_{\\alpha(i,1)}+\\frac{\\sum_{l=2}^{l=\\text{max}}\\mathcal{p}_{\\alpha(i,l)}}{\\prod_{k=i-l+1}^{i-1}R(k)}$$ and backward likelihood ratio $$R'(i)=\\frac{Z(i,L)}{Z(i+1,L)}=\\mathcal{p}_{\\alpha(i+l-1,l)}+\\frac{\\sum_{l=2}^{l=\\text{max}}\\mathcal{p}_{\\alpha(i+l-1,l)}}{\\prod_{k=i+1}^{i+l-1}R'(k)}$$\n",
    "\n",
    "Unlike the forward/backward probabilities, all $R(i)$ terms are of the same order."
   ]
  },
  {
   "cell_type": "code",
   "execution_count": null,
   "id": "96fe82a2",
   "metadata": {},
   "outputs": [
    {
     "data": {
      "image/png": "[encoded data removed]",
      "text/plain": [
       "<Figure size 1500x500 with 1 Axes>"
      ]
     },
     "metadata": {},
     "output_type": "display_data"
    }
   ],
   "source": [
    "def calculate_likelihood_ratios(sequence, E_B, E_pwm, dna_dict, tf_length):\n",
    "    # Note that this doesn't use the transition matrix\n",
    "    seq_len = len(sequence)\n",
    "    \n",
    "    # Initialize forward and backward ratios\n",
    "    R = np.zeros(seq_len)  # R(i) = Z(1,i)/Z(1,i-1)\n",
    "    Rp = np.zeros(seq_len)  # R'(i) = Z(i,L)/Z(i+1,L)\n",
    "    \n",
    "    # Forward pass to calculate R\n",
    "    # Initialize first position - Background state assumption again\n",
    "    R[0] = E_B[dna_dict[sequence[0]], 0]  # probability of first nucleotide in background\n",
    "    \n",
    "    # Calculate forward ratios\n",
    "    for i in range(1, seq_len):\n",
    "        # Background contribution\n",
    "        bg_contribution = E_B[dna_dict[sequence[i]], 0]\n",
    "        \n",
    "        # PWM contribution (if enough positions left)\n",
    "        pwm_contribution = 0\n",
    "        if i >= tf_length - 1:\n",
    "            # Calculate probability of the segment being a binding site\n",
    "            pwm_prob = 1.0\n",
    "            for j in range(tf_length):\n",
    "                pos = i - tf_length + j + 1\n",
    "                pwm_prob *= E_pwm[dna_dict[sequence[pos]], j+1]\n",
    "            \n",
    "            # Divide by background probabilities of the previous positions\n",
    "            for j in range(tf_length-1):\n",
    "                pwm_prob /= R[i-tf_length+j+1]\n",
    "            \n",
    "            pwm_contribution = pwm_prob\n",
    "            \n",
    "        R[i] = bg_contribution + pwm_contribution\n",
    "    \n",
    "    # Backward pass to calculate R'\n",
    "    # Initialize last position\n",
    "    Rp[seq_len-1] = E_B[dna_dict[sequence[-1]], 0]\n",
    "    \n",
    "    # Calculate backward ratios\n",
    "    for i in range(seq_len-2, -1, -1):\n",
    "        # Background contribution\n",
    "        bg_contribution = E_B[dna_dict[sequence[i]], 0]\n",
    "        \n",
    "        # PWM contribution (if enough positions left)\n",
    "        pwm_contribution = 0\n",
    "        if i <= seq_len - tf_length:\n",
    "            # Calculate probability of the segment being a binding site\n",
    "            pwm_prob = 1.0\n",
    "            for j in range(tf_length):\n",
    "                pwm_prob *= E_pwm[dna_dict[sequence[i+j]], j]\n",
    "            \n",
    "            # Divide by backward ratios of the following positions\n",
    "            for j in range(1, tf_length):\n",
    "                pwm_prob /= Rp[i+j]\n",
    "                \n",
    "            pwm_contribution = pwm_prob\n",
    "            \n",
    "        Rp[i] = bg_contribution + pwm_contribution\n",
    "    \n",
    "    # Calculate posterior probabilities\n",
    "    posterior = np.zeros(seq_len)\n",
    "    for i in range(seq_len - tf_length + 1):  # Stop when we can't go through the TF length\n",
    "        pwm_prob = 1.0\n",
    "        for j in range(tf_length):\n",
    "            pwm_prob *= E_pwm[dna_dict[sequence[i+j]], j]  # product of forward emissions of match states every position\n",
    "        \n",
    "        # Normalize by forward and backward ratios\n",
    "        if i > 0:\n",
    "            for j in range(i):\n",
    "                pwm_prob /= R[j]\n",
    "        for j in range(i+tf_length, seq_len):\n",
    "            pwm_prob /= Rp[j]\n",
    "            \n",
    "        posterior[i] = pwm_prob\n",
    "\n",
    "    # Normalize posterior probabilities\n",
    "    posterior = posterior / np.sum(posterior)\n",
    "    \n",
    "    return R, Rp, posterior\n",
    "\n",
    "# Calculate likelihood ratios and posterior probabilities\n",
    "R, Rp, posterior = calculate_likelihood_ratios(random_sequence, E_B, E_pwm, dna_dict, tf_length)\n",
    "\n",
    "# Plot results\n",
    "plt.figure(figsize=(15, 5))\n",
    "plt.plot(posterior)\n",
    "plt.xlabel('Sequence Position')\n",
    "plt.ylabel('Posterior Probability')\n",
    "plt.title('TF Binding Site Posterior Probabilities (Likelihood Ratio Method)')\n",
    "plt.grid(True)\n",
    "\n",
    "# Add vertical lines for true binding sites\n",
    "for pos in tf_positions:\n",
    "    plt.axvline(x=pos, color='r', linestyle='--', alpha=0.5)\n",
    "plt.legend(['Posterior Probability', 'True Binding Sites'])\n",
    "plt.show()"
   ]
  },
  {
   "cell_type": "markdown",
   "id": "5b41e3c2",
   "metadata": {},
   "source": [
    "#### Block 3 Inferring Transition and Emission Matrices\n",
    "This section also does not follow the guideline (4 state HMM, Start, Random, BindingSite, End) but would require minimal editing as both transition and emission A and B are reinferred based on the above A B.\n",
    "However this doesn't really work and I'm honestly not sure if the implementation is correct. \n",
    "\n",
    "Baum-Welch algorithm for reinferring the transition and emission matrices using Expectation Maximization and Bayes' Theorem. This starts by the: \n",
    "\n",
    "##### Expectation Step\n",
    "Using the forward-backward algorithm to find likelihood of each state given the sequence: $$\\alpha_i(t) = \\sum_j \\alpha_j(t-1) a_{ji} \\theta_{i,x_t}, \\quad \\alpha_i(1) = \\pi_i \\theta_{i,x_1}$$ $$\\beta_i(t) = \\sum_j a_{ij} \\theta_{j,x_{t+1}} \\beta_j(t+1), \\quad \\beta_i(T) = 1$$ computes $\\gamma=P(X_t=i|Y,\\theta)$ (posterior of being in state $i$ at sequence position $t$ given observations $Y$ and HMM $\\theta$), which at each nucleotide in the sequence $x_i$ is the probability of observing that nucleotide given the state and given the model, $$\\gamma_i(t) = \\frac{\\alpha_i(t) \\beta_i(t)}{\\sum_j \\alpha_j(t) \\beta_j(t)}$$ Then we recompute the transition probabilities for all state transition pairs in the sequence, finding the expected number of transitions from state $i$ to $j$ is computed using the joint probability: $$\\xi_{ij}(t) = \\frac{\\alpha_i(t) a_{ij} \\theta_{j,x_{t+1}} \\beta_j(t+1)}{\\sum_{i,j} \\alpha_i(t) a_{ij} \\theta_{j,x_{t+1}} \\beta_j(t+1)}$$\n",
    "\n",
    "\n",
    "##### Maximization Step\n",
    "We then update the Position Weight Matrix (part of our emission matrix) $\\leftarrow$ (needs to change) using $$\\theta_{k,x} = \\frac{\\sum_{t: x_t = x} \\gamma_k(t)}{\\sum_t \\gamma_k(t)}$$ and for the emission matrix: $$a_{ij} = \\frac{\\sum_t \\xi_{ij}(t)}{\\sum_t \\gamma_i(t)}$$\n",
    "\n",
    "We'll start with 100 reps or the PWM converges.\n"
   ]
  },
  {
   "cell_type": "code",
   "execution_count": null,
   "id": "d886e548",
   "metadata": {},
   "outputs": [],
   "source": [
    "def baum_welch(sequence, num_states, max_iterations=100, tolerance=1e-6):\n",
    "    seq_len = len(sequence)\n",
    "    \n",
    "    # Initialize random transition matrix\n",
    "    # Keep structure similar to original but with random probabilities\n",
    "    A = np.zeros((num_states, num_states))\n",
    "    A[0,0] = 0.9  # High probability to stay in background\n",
    "    A[0,1] = 0.1  # Low probability to transition to motif\n",
    "    # Force transitions through motif states\n",
    "    for i in range(1, num_states-1):\n",
    "        A[i, i+1] = 1.0\n",
    "    A[-1,0] = 1.0  # Return to background after motif\n",
    "    \n",
    "    # Initialize random emission matrix\n",
    "    B = np.random.rand(4, num_states)\n",
    "    # Make background emissions roughly uniform\n",
    "    B[:,0] = np.array([0.25, 0.25, 0.25, 0.25])\n",
    "    # Normalize other columns\n",
    "    B = B / B.sum(axis=0)\n",
    "    \n",
    "    for _ in range(max_iterations):\n",
    "        # deep copy to check convergence\n",
    "        old_A = A.copy()\n",
    "        old_B = B.copy()\n",
    "        \n",
    "        # Forward-Backward\n",
    "        forward = np.zeros((seq_len, num_states))\n",
    "        backward = np.zeros((seq_len, num_states))\n",
    "        \n",
    "        # Initialize forward\n",
    "        forward[0,0] = 1.0\n",
    "        \n",
    "        # Forward pass\n",
    "        for t in range(1, seq_len):\n",
    "            for j in range(num_states):\n",
    "                for i in range(num_states):\n",
    "                    forward[t,j] += forward[t-1,i] * A[i,j]\n",
    "                forward[t,j] *= B[dna_dict[sequence[t]], j]\n",
    "        \n",
    "        # Initialize backward\n",
    "        backward[seq_len-1,:] = 1.0\n",
    "        \n",
    "        # Backward pass\n",
    "        for t in range(seq_len-2, -1, -1):\n",
    "            for i in range(num_states):\n",
    "                for j in range(num_states):\n",
    "                    backward[t,i] += backward[t+1,j] * A[i,j] * B[dna_dict[sequence[t+1]], j]\n",
    "        \n",
    "        # Update parameters\n",
    "        # Compute xi (transition) and gamma (emission) probabilities\n",
    "        xi = np.zeros((seq_len-1, num_states, num_states))\n",
    "        gamma = np.zeros((seq_len, num_states))\n",
    "        \n",
    "        # Calculate gamma\n",
    "        for t in range(seq_len):\n",
    "            gamma[t] = forward[t] * backward[t]\n",
    "            gamma[t] /= gamma[t].sum()\n",
    "        \n",
    "        # Calculate xi\n",
    "        for t in range(seq_len-1):\n",
    "            for i in range(num_states):\n",
    "                for j in range(num_states):\n",
    "                    xi[t,i,j] = forward[t,i] * A[i,j] * B[dna_dict[sequence[t+1]], j] * backward[t+1,j]\n",
    "            xi[t] /= xi[t].sum()\n",
    "        \n",
    "        # Update transition matrix A\n",
    "        for i in range(num_states):\n",
    "            for j in range(num_states):\n",
    "                numerator = xi[:,i,j].sum()\n",
    "                denominator = gamma[:-1,i].sum()\n",
    "                if denominator > 0:\n",
    "                    A[i,j] = numerator / denominator\n",
    "        \n",
    "        # Update emission matrix B\n",
    "        for k in range(4):  # For each nucleotide\n",
    "            for j in range(num_states):\n",
    "                numerator = sum(gamma[t,j] for t in range(seq_len) if sequence[t] == dna_letters[k])\n",
    "                denominator = gamma[:,j].sum()\n",
    "                if denominator > 0:\n",
    "                    B[k,j] = numerator / denominator\n",
    "        \n",
    "        # Check convergence\n",
    "        if (np.abs(A - old_A).max() < tolerance and \n",
    "            np.abs(B - old_B).max() < tolerance):\n",
    "            break\n",
    "    \n",
    "    return A, B\n"
   ]
  },
  {
   "cell_type": "code",
   "execution_count": null,
   "id": "de1eb83f",
   "metadata": {},
   "outputs": [
    {
     "data": {
      "text/markdown": [
       "\n",
       "Original Transition Matrix:"
      ],
      "text/plain": [
       "<IPython.core.display.Markdown object>"
      ]
     },
     "metadata": {},
     "output_type": "display_data"
    },
    {
     "data": {
      "text/markdown": [
       "\\begin{bmatrix}{} 0.995 & 0.005 & 0.0 & 0.0 & 0.0 & 0.0 & 0.0 & 0.0 \\\\ 0.0 & 0.0 & 1.0 & 0.0 & 0.0 & 0.0 & 0.0 & 0.0 \\\\ 0.0 & 0.0 & 0.0 & 1.0 & 0.0 & 0.0 & 0.0 & 0.0 \\\\ 0.0 & 0.0 & 0.0 & 0.0 & 1.0 & 0.0 & 0.0 & 0.0 \\\\ 0.0 & 0.0 & 0.0 & 0.0 & 0.0 & 1.0 & 0.0 & 0.0 \\\\ 0.0 & 0.0 & 0.0 & 0.0 & 0.0 & 0.0 & 1.0 & 0.0 \\\\ 0.0 & 0.0 & 0.0 & 0.0 & 0.0 & 0.0 & 0.0 & 1.0 \\\\ 1.0 & 0.0 & 0.0 & 0.0 & 0.0 & 0.0 & 0.0 & 0.0 \\\\ \\end{bmatrix}"
      ],
      "text/plain": [
       "<IPython.core.display.Markdown object>"
      ]
     },
     "metadata": {},
     "output_type": "display_data"
    },
    {
     "data": {
      "text/markdown": [
       "\n",
       "Inferred Transition Matrix:"
      ],
      "text/plain": [
       "<IPython.core.display.Markdown object>"
      ]
     },
     "metadata": {},
     "output_type": "display_data"
    },
    {
     "data": {
      "text/markdown": [
       "\\begin{bmatrix}{} 0.9038653841624235 & 0.09613461583757651 & 0.0 & 0.0 & 0.0 & 0.0 & 0.0 & 0.0 \\\\ 0.0 & 0.0 & 1.0 & 0.0 & 0.0 & 0.0 & 0.0 & 0.0 \\\\ 0.0 & 0.0 & 0.0 & 1.0 & 0.0 & 0.0 & 0.0 & 0.0 \\\\ 0.0 & 0.0 & 0.0 & 0.0 & 1.0000000000000002 & 0.0 & 0.0 & 0.0 \\\\ 0.0 & 0.0 & 0.0 & 0.0 & 0.0 & 1.0 & 0.0 & 0.0 \\\\ 0.0 & 0.0 & 0.0 & 0.0 & 0.0 & 0.0 & 1.0 & 0.0 \\\\ 0.0 & 0.0 & 0.0 & 0.0 & 0.0 & 0.0 & 0.0 & 0.9999999999999999 \\\\ 1.0000000000000002 & 0.0 & 0.0 & 0.0 & 0.0 & 0.0 & 0.0 & 0.0 \\\\ \\end{bmatrix}"
      ],
      "text/plain": [
       "<IPython.core.display.Markdown object>"
      ]
     },
     "metadata": {},
     "output_type": "display_data"
    },
    {
     "data": {
      "text/markdown": [
       "\n",
       "Original Emission Matrix:"
      ],
      "text/plain": [
       "<IPython.core.display.Markdown object>"
      ]
     },
     "metadata": {},
     "output_type": "display_data"
    },
    {
     "data": {
      "text/markdown": [
       "\\begin{bmatrix}{} 0.25 & 0.05000675188975273 & 0.5453575571769426 & 0.05583940728482751 & 0.3623074223374083 & 0.050043142765806195 & 0.05000000937714809 & 0.14469791118225725 \\\\ 0.25 & 0.5479886867335553 & 0.05000001810972187 & 0.05851826446364811 & 0.05529613248024754 & 0.33119644820727634 & 0.05002646289458974 & 0.05000000000311761 \\\\ 0.25 & 0.352004561376692 & 0.3500000000176797 & 0.8356423276549675 & 0.5049717190865414 & 0.5019597386195157 & 0.8499657472473058 & 0.7309978822536712 \\\\ 0.25 & 0.05 & 0.054642424695655806 & 0.05000000059655687 & 0.07742472609580274 & 0.11680067040740189 & 0.05000778048095642 & 0.07430420656095392 \\\\ \\end{bmatrix}"
      ],
      "text/plain": [
       "<IPython.core.display.Markdown object>"
      ]
     },
     "metadata": {},
     "output_type": "display_data"
    },
    {
     "data": {
      "text/markdown": [
       "\n",
       "Inferred Emission Matrix:"
      ],
      "text/plain": [
       "<IPython.core.display.Markdown object>"
      ]
     },
     "metadata": {},
     "output_type": "display_data"
    },
    {
     "data": {
      "text/markdown": [
       "\\begin{bmatrix}{} 0.276472841582434 & 6.769674775252479e-100 & 3.64112830270798e-59 & 0.1771135898931985 & 0.09100162100786588 & 0.638131860073904 & 0.47861767578285186 & 9.309074216786316e-44 \\\\ 0.40767811515239855 & 0.21750841326738207 & 8.561126421646751e-15 & 0.07680342321325791 & 6.04967442854598e-22 & 6.775203358962085e-48 & 0.16610217491799545 & 0.24775046385119037 \\\\ 0.1622359803578764 & 0.17667978105078078 & 0.9999999999999915 & 0.4190476910447319 & 0.5526949677391534 & 4.988017943534404e-31 & 0.1826266781530297 & 0.2521063840291113 \\\\ 0.15361306290729096 & 0.6058118056818371 & 1.3796509704452937e-18 & 0.32703529584881164 & 0.356303411252981 & 0.36186813992609596 & 0.17265347114612298 & 0.5001431521196984 \\\\ \\end{bmatrix}"
      ],
      "text/plain": [
       "<IPython.core.display.Markdown object>"
      ]
     },
     "metadata": {},
     "output_type": "display_data"
    }
   ],
   "source": [
    "# Run Baum-Welch algorithm\n",
    "inferred_T, inferred_E = baum_welch(random_sequence, T_m.shape[0])\n",
    "\n",
    "# Print results\n",
    "jupyprint(\"\\nOriginal Transition Matrix:\")\n",
    "jupyprint(arraytex(T_m))\n",
    "jupyprint(\"\\nInferred Transition Matrix:\")\n",
    "jupyprint(arraytex(inferred_T))\n",
    "jupyprint(\"\\nOriginal Emission Matrix:\")\n",
    "jupyprint(arraytex(E_m))\n",
    "jupyprint(\"\\nInferred Emission Matrix:\")\n",
    "jupyprint(arraytex(inferred_E))"
   ]
  },
  {
   "cell_type": "code",
   "execution_count": null,
   "id": "46783788",
   "metadata": {},
   "outputs": [
    {
     "data": {
      "image/png": "[encoded data removed]",
      "text/plain": [
       "<IPython.core.display.Image object>"
      ]
     },
     "execution_count": 20,
     "metadata": {},
     "output_type": "execute_result"
    }
   ],
   "source": [
    "# Plot sequence logos for comparison - Original\n",
    "seqlogo.seqlogo(seqlogo.Ppm(E_m[:,1:].T), font_size=30, ic_scale=True, format='png')"
   ]
  },
  {
   "cell_type": "code",
   "execution_count": null,
   "id": "f6f03038",
   "metadata": {},
   "outputs": [
    {
     "data": {
      "image/png": "[encoded data removed]",
      "text/plain": [
       "<IPython.core.display.Image object>"
      ]
     },
     "execution_count": 21,
     "metadata": {},
     "output_type": "execute_result"
    }
   ],
   "source": [
    "# Inferred PWM\n",
    "seqlogo.seqlogo(seqlogo.Ppm(inferred_E[:,1:].T), font_size=30, ic_scale=True, format='png')"
   ]
  },
  {
   "cell_type": "code",
   "execution_count": null,
   "id": "3b4c87e2",
   "metadata": {},
   "outputs": [
    {
     "name": "stdout",
     "output_type": "stream",
     "text": [
      "\n",
      "Most probable TF binding site sequence: CAGGGGG with probability 0.0393\n",
      "\n",
      "Most probable TF binding site sequence: TGGGAAT with probability 0.0214\n"
     ]
    }
   ],
   "source": [
    "# Print most likely sequence from pwm\n",
    "pwm_orig = np.array(E_m[:,1:])\n",
    "most_probable_tf_binding_site_original = ''.join([dna_letters[np.argmax(pwm_orig[:,i])] for i in range(tf_length)])\n",
    "most_probable_tf_probability_original = calculate_sequence_probability(pwm_orig, [most_probable_tf_binding_site_original], dna_letters)\n",
    "print(f\"\\nMost probable TF binding site sequence: {most_probable_tf_binding_site_original} with probability {list(most_probable_tf_probability_original)[0][1]:0.4f}\")\n",
    "\n",
    "pwm_inferred = np.array(inferred_E[:,1:])\n",
    "most_probable_tf_binding_site_inferred = ''.join([dna_letters[np.argmax(pwm_inferred[:,i])] for i in range(tf_length)])\n",
    "most_probable_tf_probability_inferred = calculate_sequence_probability(pwm_inferred, [most_probable_tf_binding_site_inferred], dna_letters)\n",
    "print(f\"\\nMost probable TF binding site sequence: {most_probable_tf_binding_site_inferred} with probability {list(most_probable_tf_probability_inferred)[0][1]:0.4f}\")\n"
   ]
  }
 ],
 "metadata": {
  "kernelspec": {
   "display_name": "comp2",
   "language": "python",
   "name": "python3"
  },
  "language_info": {
   "codemirror_mode": {
    "name": "ipython",
    "version": 3
   },
   "file_extension": ".py",
   "mimetype": "text/x-python",
   "name": "python",
   "nbconvert_exporter": "python",
   "pygments_lexer": "ipython3",
   "version": "3.10.16"
  }
 },
 "nbformat": 4,
 "nbformat_minor": 5
}

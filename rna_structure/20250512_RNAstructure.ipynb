{
 "cells": [
  {
   "cell_type": "markdown",
   "id": "5914210b-7320-43ad-a74a-4ae9d89db6e9",
   "metadata": {},
   "source": [
    "## RNA secondary structure\n",
    "\n",
    "As we will discuss in the lecture, the 3D structure of biopolymers, whether proteins or RNAs, is crucial for their functions. For instance, tRNAs fold into characteristic clover leaf structures, while miRNAs - which are small RNAs (~22 nucleotides in their final functional form) - are generated from precursors that fold into hairpins. These structures are maintained though evolution, despite changes in the sequence. Consequently, one approach to finding regions in the genome that encode particular types of RNAs is to look for regions that fold into the structure characteristic for the RNA of interest.\n",
    "\n",
    "The hairpin structure of miRNA precursors can be found quite frequently in genomes, so on its own, is not sufficient for a reliable prediction of miRNA-encoding genes. However, one study (https://academic.oup.com/bioinformatics/article/20/17/2911/186725) went a step further in evaluating the significance of hairpin-forming sequences. Specifically, the authors reasoned that miRNA sequences have undergone evolutionary optimization to form the hairpins that they form, while other sequences with the same nucleotide composition would not. They went to show this via randomization, which you can try to replicate.\n",
    "\n",
    "Specifically, \n",
    "1. you can download miRNA precursor sequences from the standard repository of the field, miRBase, https://www.mirbase.org/download/.\n",
    "There are sequences from many organisms, you can recognize the human sequences by the prefix of their name - hsa.\n",
    "2. using either the webserver or the distributable version of RNAfold (http://rna.tbi.univie.ac.at/cgi-bin/RNAWebSuite/RNAfold.cgi), predict the secondary structure of human miRNA precursors and record their minimum free energy of folding.\n",
    "3. for each human miRNA precursor generate 1000 shuffled variant sequences, with the same nucleotide composition.\n",
    "4. predict the MFE for all of the shuffled variants and calculate the z-score of the original sequence with respect to its shuffled variants.\n",
    "\n",
    "You could try the same procedure for tRNAs (from https://gtrnadb.ucsc.edu/genomes/eukaryota/Hsapi38/hg38-mature-tRNAs.fa).\n",
    "\n",
    "What do you conclude?\n",
    "\n",
    "**Note**: if you cannot install the standalone version of RNAfold, limit the number of miRNAs/tRNAs that you submit to the server."
   ]
  },
  {
   "cell_type": "code",
   "execution_count": null,
   "id": "041ca4e5-0e23-42be-8db7-c64eb1478f52",
   "metadata": {},
   "outputs": [],
   "source": []
  }
 ],
 "metadata": {
  "kernelspec": {
   "display_name": "Python 3 (ipykernel)",
   "language": "python",
   "name": "python3"
  },
  "language_info": {
   "codemirror_mode": {
    "name": "ipython",
    "version": 3
   },
   "file_extension": ".py",
   "mimetype": "text/x-python",
   "name": "python",
   "nbconvert_exporter": "python",
   "pygments_lexer": "ipython3",
   "version": "3.12.7"
  }
 },
 "nbformat": 4,
 "nbformat_minor": 5
}

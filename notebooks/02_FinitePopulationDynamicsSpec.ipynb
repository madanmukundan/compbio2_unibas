{
 "cells": [
  {
   "cell_type": "markdown",
   "metadata": {},
   "source": [
    "## Finite population dynamics\n",
    "\n",
    "The diversity of life on Earth that we observe today is the result of evolution, which has taken place within finite populations, in conditions of limited resources.\n",
    "\n",
    "To develop intuitions about this evolutionary process, we want to study various scenarios in an object-oriented simulation.\n",
    "\n",
    "Think about the objects that you may use. At the minimum, we would have to represent:\n",
    "- **Individual** - characterized primarily by its genome, i.e. a string of nucleotides (A, C, G, T). Should be able to make a copy of itself, potentially imperfect copy (with mutations).\n",
    "- **Population** - composed of all individuals that are \"alive\" at a given time. We should be able to initialize the population in various ways, as well as evolve it in a various ways. One scenario, at which we will also look in the lecture, is replicating the population generation by generation, creating a new generation by sampling, with replacement, and replicating individuals from the old generation.\n",
    "\n",
    "The implementation should allow us to ask questions like the following:\n",
    "1. What is the trace of ancestors of an individual in the current population?\n",
    "2. How many generations ago did two individuals have a common ancestor?\n",
    "3. How long ago did **all** individuals from the current generation have a common ancestor?\n",
    "4. What is the genetic distance between two individuals in the current population?\n",
    "5. What is the relationship between the population size and the time to the most recent common ancestor?\n"
   ]
  },
  {
   "cell_type": "code",
   "execution_count": null,
   "metadata": {},
   "outputs": [],
   "source": []
  }
 ],
 "metadata": {
  "kernelspec": {
   "display_name": "Python 3",
   "language": "python",
   "name": "python3"
  },
  "language_info": {
   "codemirror_mode": {
    "name": "ipython",
    "version": 3
   },
   "file_extension": ".py",
   "mimetype": "text/x-python",
   "name": "python",
   "nbconvert_exporter": "python",
   "pygments_lexer": "ipython3",
   "version": "3.8.5"
  }
 },
 "nbformat": 4,
 "nbformat_minor": 4
}

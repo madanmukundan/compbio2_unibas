{
 "cells": [
  {
   "cell_type": "markdown",
   "metadata": {},
   "source": [
    "## Discovering transcription factor binding motifs and binding sites in promoter sequences\n",
    "\n",
    "As we discussed in the introduction session, transcription of DNA into RNA is carried out by the RNA polymerase, which is recruited to the DNA by transcription factors (TFs), proteins that bind specific sequence elements in the DNA. We typically describe the sequence specificity of transcription factors by position-specific weight matrices (PWMs), giving the probabilities of finding each of the four nucleotides at each position of binding sites. Let's see how we can use the HMM framework to describe promoter sequences, find binding sites and infer the PWM of a transcription factor from sequences that contain such binding sites.\n",
    "\n",
    "### Block 1. Generating synthetic sequence data\n",
    "\n",
    "Testing with ground truth data is crucial when we develop code. Ground truth biological data is often difficult to obtain, as even the measurement processes are complex, with hard to identify and characterize biases. That is why synthetic data is important: it allows us to determine whether our code works correctly within the assumptions of the model underlying the code. Of course, this does not mean that real data obeys these assumptions, which is why showing that the code works on synthetic data doesn't mean that we have a good tool to analyze real data. Nevertheless, the correctness of the implementation is the first step that we always need to check. So let's generate ourselves a ground truth dataset of \"promoter sequences\" containing binding sites for a transcription factor.\n",
    "\n",
    "1. Generate a PWM of your liking\n",
    "- typical length for eukaryotic TF binding sites is 6-8 nucleotides\n",
    "- play around with the **bias** of your PWM, i.e. the sequence that has the highest probability under the PWM model\n",
    "- make sure to write functions that:\n",
    "    - calculate the information content of the PWM (we'll look into this in a future session)\n",
    "    - *sample* a binding site from this PWM in proportion to its probability\n",
    "2. Generate random promoter sequences your chosen A,C,G,T composition.\n",
    "3. Introduce binding sites sampled from the PWM in the promoter sequences. Keep track of this information to be able to check it later.\n",
    "4. Check if motif finding software (e.g. MEME, we'll talk about it later as well) recovers the motif you places in your sequence.\n",
    "\n",
    "### Block 2. Predicting binding sites for TFs with known sequence specificity\n",
    "\n",
    "1. Implement the forward/backward algorithms. Can you run them on your sequences?\n",
    "2. Adapt your code to calculate instead ratios of sequence likelihoods (as described in https://cdn.aaai.org/ISMB/2000/ISMB00-007.pdf).\n",
    "2. Use the functions you implemented to evaluate the posterior probability of binding sites along the promoter sequences you created.\n",
    "3. Compare your results with your ground truth data.\n",
    "\n",
    "### Block 3. Training the HMM\n",
    "\n",
    "Now let's see if we can use the tools we got to actually infer the specificity of the TF from the synthetic data that you generated.\n",
    "\n",
    "1. Implement the Baum-Welch algorithm to infer the PWM and the transition probability between random sequence and binding sites in promoter sequences (assuming an HMM with 4 states: Start, Random, BindingSite, End).\n",
    "2. Does it inferred PWM match the one you picked the beginning?\n"
   ]
  },
  {
   "cell_type": "code",
   "execution_count": null,
   "metadata": {},
   "outputs": [],
   "source": []
  }
 ],
 "metadata": {
  "kernelspec": {
   "display_name": "Python 3",
   "language": "python",
   "name": "python3"
  },
  "language_info": {
   "codemirror_mode": {
    "name": "ipython",
    "version": 3
   },
   "file_extension": ".py",
   "mimetype": "text/x-python",
   "name": "python",
   "nbconvert_exporter": "python",
   "pygments_lexer": "ipython3",
   "version": "3.8.5"
  }
 },
 "nbformat": 4,
 "nbformat_minor": 4
}

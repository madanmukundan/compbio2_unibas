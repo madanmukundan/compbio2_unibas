{
 "cells": [
  {
   "cell_type": "markdown",
   "metadata": {},
   "source": [
    "## Finite population dynamics\n",
    "\n",
    "The diversity of life on Earth that we observe today is the result of evolution, which has taken place within finite populations, in conditions of limited resources.\n",
    "\n",
    "To develop intuitions about this evolutionary process, we want to study various scenarios in an object-oriented simulation.\n",
    "\n",
    "Think about the objects that you may use. At the minimum, we would have to represent:\n",
    "- **Individual** - characterized primarily by its genome, i.e. a string of nucleotides (A, C, G, T). Should be able to make a copy of itself, potentially imperfect copy (with mutations).\n",
    "- **Population** - composed of all individuals that are \"alive\" at a given time. We should be able to initialize the population in various ways, as well as evolve it in a various ways. One scenario, at which we will also look in the lecture, is replicating the population generation by generation, creating a new generation by sampling, with replacement, and replicating individuals from the old generation.\n",
    "\n",
    "The implementation should allow us to ask questions like the following:\n",
    "1. What is the trace of ancestors of an individual in the current population?\n",
    "2. How many generations ago did two individuals have a common ancestor?\n",
    "3. How long ago did **all** individuals from the current generation have a common ancestor?\n",
    "4. What is the genetic distance between two individuals in the current population?\n",
    "5. What is the relationship between the population size and the time to the most recent common ancestor?\n"
   ]
  },
  {
   "cell_type": "code",
   "execution_count": null,
   "metadata": {},
   "outputs": [],
   "source": [
    "import os, sys\n",
    "sys.path.append(os.path.join(os.path.dirname(os.getcwd()), 'population_dynamics'))\n",
    "from population import Population  # jupyter import bug, is fine\n",
    "# from individual import Individual  # jupyter import bug, is fine\n",
    "import matplotlib.pyplot as plt\n",
    "import networkx as nx"
   ]
  },
  {
   "cell_type": "code",
   "execution_count": null,
   "metadata": {},
   "outputs": [],
   "source": [
    "# Set population parameters and initialize\n",
    "initial_size = 10\n",
    "genome_length = 50\n",
    "mutation_rate = 0\n",
    "\n",
    "# Initialize population\n",
    "my_pop = Population(initial_size, genome_length, mutation_rate)\n",
    "print(str(my_pop))"
   ]
  },
  {
   "cell_type": "code",
   "execution_count": null,
   "metadata": {},
   "outputs": [],
   "source": [
    "# Evolve population in iterative steps\n",
    "number_of_generations = 25\n",
    "print(\"Evolving for \" + str(number_of_generations) + \" generations\")\n",
    "for p_i in range(number_of_generations):\n",
    "    my_pop.get_next_generation()\n",
    "\n",
    "print(str(my_pop))"
   ]
  },
  {
   "cell_type": "code",
   "execution_count": null,
   "metadata": {},
   "outputs": [],
   "source": [
    "import networkx as nx\n",
    "\n",
    "import matplotlib.pyplot as plt\n",
    "\n",
    "# Create a directed graph\n",
    "G = nx.DiGraph()\n",
    "\n",
    "# Add nodes for all individuals in all generations\n",
    "positions = {}\n",
    "for gen_idx, generation in enumerate(my_pop.generations):\n",
    "    y_pos = -gen_idx  # Negative to have first generation at top\n",
    "    for ind_idx, individual in enumerate(generation):\n",
    "        # Use individual's ID as node identifier\n",
    "        node_id = individual.id\n",
    "        G.add_node(node_id)\n",
    "        # Position nodes in a row for each generation\n",
    "        x_pos = (ind_idx - len(generation)/2) / len(generation)  # Center individuals horizontally\n",
    "        positions[node_id] = (x_pos, y_pos)\n",
    "\n",
    "# Add edges (arrows) from individuals to their parents\n",
    "for gen_idx, generation in enumerate(my_pop.generations[1:], 1):  # Start from second generation\n",
    "    for individual in generation:\n",
    "        if hasattr(individual, 'parent') and individual.parent:\n",
    "            G.add_edge(individual.id, individual.parent.id)\n",
    "\n",
    "# Create the plot\n",
    "plt.figure(figsize=(15, 10))\n",
    "nx.draw(G, pos=positions, \n",
    "        node_size=100,\n",
    "        node_color='lightblue',\n",
    "        edge_color='gray',\n",
    "        arrowsize=10,\n",
    "        with_labels=False)\n",
    "\n",
    "# Add generation labels on the y-axis\n",
    "plt.ylim(-(len(my_pop.generations)-0.5), 0.5)\n",
    "plt.title('Population Tree\\n(arrows point from individuals to their ancestors)')\n",
    "plt.show()"
   ]
  },
  {
   "cell_type": "code",
   "execution_count": null,
   "metadata": {},
   "outputs": [],
   "source": [
    "# Print ancestor trace of a given individual\n",
    "individual_index = 0\n",
    "my_pop.individuals[individual_index].print_ancestor_tree()"
   ]
  },
  {
   "cell_type": "code",
   "execution_count": null,
   "metadata": {},
   "outputs": [],
   "source": [
    "# Find how many generations ago two individuals shared a common ancestor\n",
    "individual_index_1 = 0\n",
    "individual_index_2 = 8\n",
    "current_generation = len(my_pop.generations) - 1\n",
    "\n",
    "# Find common ancestor\n",
    "_, _, common_ancestor = (my_pop.\n",
    "                   find_most_recent_common_ancestor(\n",
    "                                                    (my_pop.individuals[individual_index_1],\n",
    "                                                     my_pop.individuals[individual_index_2])))\n",
    "\n",
    "# Find common ancestor\n",
    "# a, b = (my_pop.\n",
    "#                    find_most_recent_common_ancestor(\n",
    "#                                                     (my_pop.individuals[individual_index_1],\n",
    "#                                                      my_pop.individuals[individual_index_2])))\n",
    "\n",
    "if common_ancestor:\n",
    "    print(f\"Individuals {str(individual_index_1)} and \"+\n",
    "        f\"{str(individual_index_2)} in this Generation #{len(my_pop.generations)-1}\\n\"+\n",
    "        f\"share a common ancestor:\\n{repr(common_ancestor)}\")\n",
    "else:\n",
    "    print(f\"Individuals {str(individual_index_1)} and \"+\n",
    "        f\"{str(individual_index_2)} in this Generation #{len(my_pop.generations)-1}\\n \"+\n",
    "        \"do not share a common ancestor\")"
   ]
  },
  {
   "cell_type": "code",
   "execution_count": null,
   "metadata": {},
   "outputs": [],
   "source": [
    "# Calculate and report genetic distance between two individuals in current population\n",
    "individual_index_1 = 0\n",
    "individual_index_2 = 8\n",
    "genetic_distance = my_pop.individuals[individual_index_1].get_genetic_distance(\n",
    "    my_pop.individuals[individual_index_2])\n",
    "# Similarity as 1 - dissimilarity\n",
    "genetic_similarity = (1 - genetic_distance/len(my_pop.individuals[individual_index_1].genome))*100\n",
    "print(f\"Genetic distance between individuals {individual_index_1} and {individual_index_2}: {genetic_distance}\\n\"+\n",
    "      f\"#{individual_index_1} {repr(my_pop.individuals[individual_index_1])}\\n\"+\n",
    "      f\"#{individual_index_2} {repr(my_pop.individuals[individual_index_2])}\\n\"+\n",
    "      f\"Genetic similarity: {genetic_similarity:.2f}%\")"
   ]
  },
  {
   "cell_type": "code",
   "execution_count": null,
   "metadata": {},
   "outputs": [],
   "source": [
    "# Find out how long ago all individuals shared a common ancestor\n",
    "tmrca, mrca_individual = my_pop.time_to_most_recent_common_ancestor()\n",
    "\n",
    "print(f\"Time to most recent common ancestor: {tmrca} generations\\n{repr(mrca_individual)}\")"
   ]
  },
  {
   "cell_type": "code",
   "execution_count": null,
   "metadata": {},
   "outputs": [],
   "source": [
    "\n",
    "# Graph of population to trace most recent common ancestor\n",
    "G = nx.DiGraph()\n",
    "\n",
    "# Add edges only for chosen individual(s) in current generation\n",
    "# individual_idxs = [0, 8]\n",
    "individual_idxs = [i for i in range(len(my_pop.individuals))]\n",
    "gen_limit = mrca_individual.generation\n",
    "# individual_idxs = [0]\n",
    "\n",
    "# Add nodes for all individuals in all generations\n",
    "positions = {}\n",
    "for gen_idx, generation in reversed(list(enumerate(my_pop.generations))):\n",
    "    if gen_idx < gen_limit-1:\n",
    "        break\n",
    "    y_pos = -gen_idx  # Negative to have first generation at top\n",
    "    for ind_idx, individual in enumerate(generation):\n",
    "        # Use individual's ID as node identifier\n",
    "        node_id = individual.id\n",
    "        G.add_node(node_id)\n",
    "        # Position nodes in a row for each generation\n",
    "        x_pos = (ind_idx - len(generation)/2) / len(generation)  # Center individuals horizontally\n",
    "        positions[node_id] = (x_pos, y_pos)\n",
    "\n",
    "\n",
    "for individual_idx in individual_idxs:\n",
    "    individual = my_pop.individuals[individual_idx]\n",
    "    if hasattr(individual, 'parent'):\n",
    "        while individual.parent is not None and individual.parent.generation >= gen_limit:\n",
    "            G.add_edge(individual.id, individual.parent.id)\n",
    "            individual = individual.parent\n",
    "\n",
    "# Create the plot\n",
    "plt.figure(figsize=(15, 10))\n",
    "nx.draw(G, pos=positions, \n",
    "        node_size=100,\n",
    "        node_color='lightblue',\n",
    "        edge_color='gray',\n",
    "        arrowsize=10,\n",
    "        with_labels=False)\n",
    "\n",
    "# Add generation labels on the y-axis\n",
    "plt.ylim(-(len(my_pop.generations)-0.5), 0.5-gen_idx)\n",
    "plt.title('Population Tree\\n(arrows point from individuals to their ancestors)')\n",
    "plt.show()"
   ]
  },
  {
   "cell_type": "code",
   "execution_count": null,
   "metadata": {},
   "outputs": [],
   "source": [
    "%history -g -f \"02_FinitePopulationDynamicsSpec.ipynb\""
   ]
  },
  {
   "cell_type": "code",
   "execution_count": null,
   "metadata": {},
   "outputs": [],
   "source": [
    "# Define population sizes to analyze\n",
    "# sizes = [5, 10, 20, 30, 40, 50, 60, 70, 90, 100, 200, 300, 400, 500]\n",
    "# sizes = [50, 100, 200, 300, 400, 500]\n",
    "sizes = [i for i in range(5,50,10)]\n",
    "simulation_reps = 50\n",
    "# Run analysis\n",
    "means, results = my_pop.analyze_population_size_vs_mrca_time(sizes, repetitions=simulation_reps)"
   ]
  },
  {
   "cell_type": "code",
   "execution_count": null,
   "metadata": {},
   "outputs": [],
   "source": [
    "for size, avg_time in means.items():\n",
    "    print(f\"Population Size {size}: Average TMRCA = {avg_time:.2f} generations, all: {results[size]}\\n\")"
   ]
  },
  {
   "cell_type": "code",
   "execution_count": null,
   "metadata": {},
   "outputs": [],
   "source": [
    "# Plot MRCA\n",
    "fig, ax = plt.subplots(figsize=(10, 4))\n",
    "\n",
    "sizes = list(means.keys())\n",
    "times = [means[size] for size in sizes]\n",
    "max_size = max(sizes)\n",
    "offset = round(max_size/10)\n",
    "\n",
    "# Plot 1x and 2x line, simulation means/results\n",
    "ax.plot(sizes, times, 'o-', color='blue')\n",
    "ax.plot([0, max_size+offset], [0,max_size+offset], '--', color='cyan')\n",
    "ax.plot([0, max_size+offset], [0,max_size*2+2*offset], '--', color='cyan')\n",
    "ax.set_xlabel('Population Size')\n",
    "ax.set_ylabel('Time to MRCA (generations)')\n",
    "ax.set_title(f'Relationship Between Population Size and Time to MRCA {simulation_reps:0.0f} Repetitions')\n",
    "ax.grid(True)\n",
    "ax.legend([\"TMRCA\", \"1X\", \"2X\"], loc='upper left')\n",
    "plt.show()"
   ]
  }
 ],
 "metadata": {
  "kernelspec": {
   "display_name": "comp2",
   "language": "python",
   "name": "python3"
  },
  "language_info": {
   "codemirror_mode": {
    "name": "ipython",
    "version": 3
   },
   "file_extension": ".py",
   "mimetype": "text/x-python",
   "name": "python",
   "nbconvert_exporter": "python",
   "pygments_lexer": "ipython3",
   "version": "3.10.16"
  }
 },
 "nbformat": 4,
 "nbformat_minor": 4
}

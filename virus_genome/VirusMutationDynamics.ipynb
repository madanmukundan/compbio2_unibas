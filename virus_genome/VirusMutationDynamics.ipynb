{
 "cells": [
  {
   "cell_type": "markdown",
   "metadata": {},
   "source": [
    "## Molecular evolution of the influenza virus\n",
    "\n",
    "The text file **influenza_HA_dna_sequences.fasta** contains the complete DNA sequence of the hemagglutinin (HA) gene of 841 influenza viruses samples collected between 1968 and 2005. Hemagglutinin is a protein that mediates the virus entry into cells and is a target of antibodies produced by the human host that neutralize the virus. To avoid recognition by the immune system, the virus changes its hemagglitinin gene sequence over time. Analyze these sequence data to answer the following questions:\n",
    "\n",
    "* How do mutations accumulate as a function of time? That is, how does the number of single nucleotide differences between the first sample (A/Aichi/2/1968) and samples from a given year vary as a function of time? Make the graph.\n",
    "\n",
    "* What fraction of the HA gene has changed as a function of time?\n",
    "\n",
    "* What is the genetic variation (average pairwise distance) between the strains from the same year?\n",
    "\n",
    "* How long would we have to wait for the population to accumulate the same number of genetic differences that typically separate co-circulating strains?"
   ]
  },
  {
   "cell_type": "code",
   "execution_count": 1,
   "metadata": {},
   "outputs": [
    {
     "ename": "",
     "evalue": "",
     "output_type": "error",
     "traceback": [
      "\u001b[1;31mRunning cells with 'miniforge3 (Python 3.12.8)' requires the ipykernel package.\n",
      "\u001b[1;31mRun the following command to install 'ipykernel' into the Python environment. \n",
      "\u001b[1;31mCommand: 'conda install -p /home/madan/miniforge3 ipykernel --update-deps --force-reinstall'"
     ]
    }
   ],
   "source": [
    "from Bio import SeqIO\n",
    "from Bio.Align import PairwiseAligner\n",
    "import sys\n",
    "import os\n",
    "sys.path.append(os.path.join(os.path.dirname(os.getcwd()), 'population_dynamics'))\n",
    "import matplotlib.pyplot as plt\n",
    "import numpy as np\n",
    "from scipy import stats\n",
    "import re\n",
    "from individual import Individual"
   ]
  },
  {
   "cell_type": "code",
   "execution_count": 2,
   "metadata": {},
   "outputs": [],
   "source": [
    "# Load collection of sequences\n",
    "fasta_path = os.path.join(os.getcwd(),\"influenza_HA_dna_sequences.fasta\")\n",
    "sequences = {s.id: s.seq for s in SeqIO.parse(fasta_path, 'fasta')}"
   ]
  },
  {
   "cell_type": "code",
   "execution_count": null,
   "metadata": {},
   "outputs": [],
   "source": [
    "# Nicely print first or last 5 elements of sequences\n",
    "# for i, (k, v) in enumerate(reversed(sequences.items())):\n",
    "for i, (k, v) in enumerate(sequences.items()):\n",
    "    print(f\"{k}: {v}\")\n",
    "    if i == 5: break"
   ]
  },
  {
   "cell_type": "code",
   "execution_count": null,
   "metadata": {},
   "outputs": [],
   "source": [
    "# Quickly check if all sequences have the same length\n",
    "lengths = set(len(v) for v in sequences.values())\n",
    "if len(lengths) == 1:\n",
    "    print(f\"All sequences have length {lengths}\")\n",
    "else:\n",
    "    print(f\"Sequences have different lengths: {lengths}\")\n",
    "genome_length = lengths.pop()"
   ]
  },
  {
   "cell_type": "code",
   "execution_count": null,
   "metadata": {},
   "outputs": [],
   "source": [
    "# Couple entries missing year information\n",
    "years = [re.search(r\"\\d{4}$\", k) for k in sequences.keys()]  # retain order of sequences\n",
    "years = [int(year.group(0)) if year is not None else -1 for year in years]\n",
    "print(years)"
   ]
  },
  {
   "cell_type": "code",
   "execution_count": null,
   "metadata": {},
   "outputs": [],
   "source": [
    "print(type(sequences[\"A/Aichi/2/1968\"]))\n",
    "print(sequences[\"A/Aichi/2/1968\"])  # Seq is an iterable?"
   ]
  },
  {
   "cell_type": "code",
   "execution_count": 7,
   "metadata": {},
   "outputs": [],
   "source": [
    "# Assumed that HA DNA is aligned but align and iterate to find SNPs\n",
    "def align_and_find_snps(seq1, seq2, alignment_length):\n",
    "    aligner = PairwiseAligner()\n",
    "    alignments = aligner.align(seq1[:alignment_length], seq2[:alignment_length])  # Align specified base pairs\n",
    "    best_alignment = alignments[0]\n",
    "    snps = []\n",
    "    for i in range(len(seq1[:alignment_length])):\n",
    "        if seq1[i] != seq2[i]:\n",
    "            snps.append((i, seq1[i], seq2[i])) # Position, base1, base2\n",
    "    return snps, best_alignment"
   ]
  },
  {
   "cell_type": "code",
   "execution_count": 8,
   "metadata": {},
   "outputs": [],
   "source": [
    "# Find number of SNP differences between first sample and all other samples as a function of time\n",
    "first_sequence = sequences[\"A/Aichi/2/1968\"]\n",
    "snp_differences = np.zeros(len(sequences))\n",
    "years = np.zeros(len(sequences))\n",
    "seq_strings = []  # need to construct list and convert after to fixed-width string ndarray\n",
    "for i, (k, v) in enumerate(sequences.items()):\n",
    "    if k == \"A/Aichi/2/1968\":\n",
    "        years[i] = 1968\n",
    "        snp_differences[i] = 0\n",
    "        seq_strings.append(str(v))\n",
    "        continue\n",
    "    year = re.search(r\"\\d{4}$\", k)\n",
    "    if year is not None:\n",
    "        years[i] = int(year.group(0))\n",
    "    else:\n",
    "        years[i] = -1\n",
    "    snps, _ = align_and_find_snps(first_sequence, v, genome_length)  # Takes a second for alignment\n",
    "    snp_differences[i] = len(snps)\n",
    "    seq_strings.append(str(v))\n",
    "\n",
    "# Vectors >>> dictionaries\n",
    "seq_strings = np.array(seq_strings, dtype=f\"<U{genome_length}\")"
   ]
  },
  {
   "cell_type": "code",
   "execution_count": 9,
   "metadata": {},
   "outputs": [],
   "source": [
    "def get_best_fit_boostrappedCI(plot_years, plot_snps):\n",
    "    # linear regression\n",
    "    slope, intercept, r_value, p_value, std_err = stats.linregress(plot_years, plot_snps)\n",
    "\n",
    "    # Create line of best fit for plot\n",
    "    line = slope * plot_years + intercept\n",
    "\n",
    "    # Bootstrap method to estimate confidence interval\n",
    "    n_bootstrap = 10000\n",
    "    bootstrap_slopes = np.zeros(n_bootstrap)\n",
    "    bootstrap_intercepts = np.zeros(n_bootstrap)\n",
    "\n",
    "    # Perform bootstrap resampling creating fit for each sample\n",
    "    for i in range(n_bootstrap):\n",
    "        # Resample with replacement\n",
    "        indices = np.random.randint(0, len(plot_years), len(plot_years))\n",
    "        sample_years = plot_years[indices]\n",
    "        sample_snps = plot_snps[indices]\n",
    "        \n",
    "        # Compute regression for each bootstrap sample\n",
    "        boot_slope, boot_intercept, _, _, _ = stats.linregress(sample_years, sample_snps)\n",
    "        bootstrap_slopes[i] = boot_slope\n",
    "        bootstrap_intercepts[i] = boot_intercept\n",
    "\n",
    "    # Compute confidence intervals for slope and intercept\n",
    "    # slope_ci = np.percentile(bootstrap_slopes, [2.5, 97.5])\n",
    "    # intercept_ci = np.percentile(bootstrap_intercepts, [2.5, 97.5])\n",
    "\n",
    "    # Generate prediction intervals\n",
    "    def generate_bootstrap_line(x):\n",
    "        # Sample random slope and intercept from bootstrap results\n",
    "        idx = np.random.randint(0, n_bootstrap)\n",
    "        return bootstrap_slopes[idx] * x + bootstrap_intercepts[idx]\n",
    "\n",
    "    # Generate multiple bootstrap lines\n",
    "    n_lines = 200\n",
    "    bootstrap_lines = np.array([generate_bootstrap_line(plot_years) for _ in range(n_lines)])\n",
    "\n",
    "    # Compute envelope of bootstrap lines\n",
    "    lower_envelope = np.percentile(bootstrap_lines, 2.5, axis=0)\n",
    "    upper_envelope = np.percentile(bootstrap_lines, 97.5, axis=0)\n",
    "\n",
    "    return line, r_value, lower_envelope, upper_envelope, slope"
   ]
  },
  {
   "cell_type": "code",
   "execution_count": null,
   "metadata": {},
   "outputs": [],
   "source": [
    "# Plot Years vs SNPs with boostrapped confidence interval\n",
    "plot_years = years[years!=-1]\n",
    "plot_snps = snp_differences[years!=-1]\n",
    "\n",
    "# Get bootstrapped CI\n",
    "line, r_value, lower_envelope, upper_envelope, main_slope = get_best_fit_boostrappedCI(plot_years, plot_snps)\n",
    "\n",
    "plt.plot(plot_years, plot_snps, '.', label='SNP differences')\n",
    "plt.xlabel(\"Years\")\n",
    "plt.ylabel(\"SNP differences\")\n",
    "plt.plot(plot_years, line, color='red', label=f'Linear Fit (R²={r_value**2:.3f} Slope = {main_slope:.3f})')\n",
    "# Plot confidence interval\n",
    "plt.fill_between(plot_years, \n",
    "                lower_envelope, \n",
    "                upper_envelope, \n",
    "                color='gray', \n",
    "                alpha=0.2, \n",
    "                label='95% Confidence Interval')\n",
    "# add legend to upper left corner\n",
    "plt.legend(loc='upper left')"
   ]
  },
  {
   "cell_type": "code",
   "execution_count": null,
   "metadata": {},
   "outputs": [],
   "source": [
    "# Matched Neutal Evolution Theory\n",
    "# Plot Years vs SNPs with boostrapped confidence interval\n",
    "plot_years = years[years!=-1]\n",
    "plot_snps = snp_differences[years!=-1]/genome_length\n",
    "\n",
    "# Get bootstrapped CI\n",
    "line, r_value, lower_envelope, upper_envelope, slope = get_best_fit_boostrappedCI(plot_years, plot_snps)\n",
    "\n",
    "plt.plot(plot_years, plot_snps, '.', label='SNP difference fractions')\n",
    "plt.xlabel(\"Years\")\n",
    "plt.ylabel(\"SNP differences\")\n",
    "plt.plot(plot_years, line, color='red', label=f'Linear Fit (R²={r_value**2:.3f} Slope = {slope:.3f})')\n",
    "# Plot confidence interval\n",
    "plt.fill_between(plot_years, \n",
    "                lower_envelope, \n",
    "                upper_envelope, \n",
    "                color='gray', \n",
    "                alpha=0.2, \n",
    "                label='95% Confidence Interval')\n",
    "# add legend to upper left corner\n",
    "plt.legend(loc='upper left')\n",
    "plt.title(\"Influenza HA Normalized SNP differences\")"
   ]
  },
  {
   "cell_type": "code",
   "execution_count": null,
   "metadata": {},
   "outputs": [],
   "source": [
    "# Find the mean pairwise SNP differences between strains of the same year\n",
    "plot_years = years[years!=-1]\n",
    "plot_snps = snp_differences[years!=-1]\n",
    "yearly_snps = {year: 0. for year in set(plot_years)}\n",
    "\n",
    "for i, v in enumerate(plot_years):\n",
    "    yearly_snps[v] = np.mean(plot_snps[plot_years==v])\n",
    "\n",
    "plot_years, plot_snps = np.array(list(yearly_snps.keys())), np.array(list(yearly_snps.values()))\n",
    "\n",
    "# Get bootstrapped CI\n",
    "line, r_value, lower_envelope, upper_envelope, slope = get_best_fit_boostrappedCI(plot_years, plot_snps)\n",
    "\n",
    "plt.plot(list(yearly_snps.keys()), list(yearly_snps.values()), '.', label='Mean SNP differences')\n",
    "plt.plot(plot_years, line, color='red', label=f'Linear Fit (R²={r_value**2:.3f} Slope = {slope:.3f})')\n",
    "# Plot confidence interval\n",
    "plt.fill_between(plot_years, \n",
    "                lower_envelope, \n",
    "                upper_envelope, \n",
    "                color='gray', \n",
    "                alpha=0.2, \n",
    "                label='95% Confidence Interval')\n",
    "# add legend to upper left corner\n",
    "plt.xlabel(\"Years\")\n",
    "plt.ylabel(\"Mean SNP differences\")\n",
    "plt.legend(loc='upper left')\n",
    "plt.title(\"Influenza HA SNP differences averaged per year\")"
   ]
  },
  {
   "cell_type": "code",
   "execution_count": null,
   "metadata": {},
   "outputs": [],
   "source": [
    "# Find mean pairwise distance of sequences in same year\n",
    "plot_years = years[years!=-1]\n",
    "plot_seqs = seq_strings[years!=-1]\n",
    "\n",
    "mean_pairwise_dist = {year: 0 for year in set(plot_years)}\n",
    "\n",
    "for y in mean_pairwise_dist.keys():\n",
    "    year_logical = plot_years==y\n",
    "    if np.sum(year_logical) <= 1:\n",
    "        continue\n",
    "    distances = Individual.calculate_genetic_distance(list(plot_seqs[plot_years==y]))\n",
    "    mean_pairwise_dist[y] = np.mean(np.array([d for d in distances.values()]))  # np.mean doesn't like dict values\n",
    "    \n",
    "plt.bar(list(mean_pairwise_dist.keys()), list(mean_pairwise_dist.values()))\n",
    "plt.xlabel(\"Year\")\n",
    "plt.ylabel(\"Mean Pairwise Distance (abs. #SNPs)\")\n",
    "plt.title(\"Influenza HA mean Pairwise Distance in SNPs within Year\")"
   ]
  },
  {
   "cell_type": "code",
   "execution_count": null,
   "metadata": {},
   "outputs": [],
   "source": [
    "# Number of years to accumulate same distance which typically circulates strains\n",
    "# Equivalent to ~mean(mean_pairwise_distance_over_years) / slope of best fit line\n",
    "mean_pairwise_distance_over_time = np.array(list(mean_pairwise_dist.values()))\n",
    "mean_pairwise_distance_over_time = np.mean(mean_pairwise_distance_over_time[mean_pairwise_distance_over_time!=0])\n",
    "\n",
    "years_to_match_variation = mean_pairwise_distance_over_time/main_slope\n",
    "months_to_match_variation = (years_to_match_variation % np.floor(years_to_match_variation)) * 12\n",
    "\n",
    "print(f\"The mean variation (pairwise distance) within year for the influenza HA is:\\n\"+\n",
    "      f\"{mean_pairwise_distance_over_time:0.0f} nucleotides, or {100*mean_pairwise_distance_over_time/genome_length:0.0f}%\\n\"+\n",
    "      f\"Using the slope of SNP/time of {main_slope:0.02f} nucleotides per year, it would take approximately \"+\n",
    "      f\"{years_to_match_variation:0.0f} years, {months_to_match_variation:0.0f} months.\")\n"
   ]
  }
 ],
 "metadata": {
  "kernelspec": {
   "display_name": "comp2_unibas",
   "language": "python",
   "name": "comp2_unibas"
  },
  "language_info": {
   "codemirror_mode": {
    "name": "ipython",
    "version": 3
   },
   "file_extension": ".py",
   "mimetype": "text/x-python",
   "name": "python",
   "nbconvert_exporter": "python",
   "pygments_lexer": "ipython3",
   "version": "3.12.8"
  }
 },
 "nbformat": 4,
 "nbformat_minor": 4
}

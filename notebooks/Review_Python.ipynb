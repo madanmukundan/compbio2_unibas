{
 "cells": [
  {
   "cell_type": "markdown",
   "metadata": {},
   "source": [
    "# Table of Contents\n",
    "* [Introduction](#Introduction-to-Python)\n",
    "* [Anacoda](#Anaconda)\n",
    "* [Variables](#Variables)\n",
    "* [Data types](#Data-types)\n",
    "* [Assignment](#Assignment)\n",
    "* [Comments](#Comments)\n",
    "* [Printing data](#Printing-data)\n",
    "* [Strings](#Strings)\n",
    "* [Numeric types](#Numeric-types)\n",
    "* [Conditional statements](#Python's-conditional-statement:-if---elif---else)\n",
    "* [Loops](#Python's-loops)\n",
    "* [Functions](#More-about-Python's-functions)\n",
    "* [Lists](#Python's-lists)\n",
    "* [Dictionaries](#Dictionaries)\n",
    "* [Input Output](#Input/Output)\n",
    "* [Additional practice](#Additional-practice)\n",
    "* [Homework](#Homework)"
   ]
  },
  {
   "cell_type": "markdown",
   "metadata": {},
   "source": [
    "# Introduction to Python\n",
    "\n",
    "<http://www.python.org>\n",
    "\n",
    "**Python** is an interpreted, object-oriented, high-level programming language with dynamic semantics. Its high-level built-in data structures, combined with dynamic typing and dynamic binding, make it very attractive for Rapid Application Development, as well as for use as a scripting or glue language to connect existing components together. Python's simple, easy-to-learn syntax emphasizes readability and therefore reduces the cost of program maintenance. Python supports modules and packages, which encourages program modularity and code reuse. The Python interpreter and the extensive standard library are available in source or binary form without charge for all major platforms, and can be freely distributed.\n",
    "\n",
    "\n",
    "## Python tutorials\n",
    "\n",
    "* Codecademy: <https://www.codecademy.com/learn/learn-python>\n",
    "* More tutorials: <https://wiki.python.org/moin/BeginnersGuide/Programmers>"
   ]
  },
  {
   "cell_type": "markdown",
   "metadata": {},
   "source": [
    "# Developer environments\n",
    "\n",
    "\n",
    "## Anaconda \n",
    "\n",
    "<https://www.anaconda.com/>\n",
    "\n",
    "* Python distribution for large-scale data processing, predictive analytics, and scientific computing\n",
    "* Includes many libraries useful for biological data analysis\n",
    "* Free\n",
    "* Cross-platform\n",
    "* Auto-updating\n",
    "* Includes easy-to-use tools\n",
    "\n",
    "### Documentation\n",
    "\n",
    "<https://docs.anaconda.com/anaconda/>\n",
    "\n",
    "### Download\n",
    "\n",
    "Please select **Python3 version** for download\n",
    "\n",
    "<https://www.anaconda.com/download/>\n",
    "\n",
    "### Installation\n",
    "\n",
    "Open the downloded package and follow instructions on your screen.\n",
    "\n",
    "### Starting the Anaconda Navigator\n",
    "\n",
    "Anaconda Navigator is a launcher that allows to start various components of the anaconda package. The Anaconda Navigator can be found in the *bin* directory of your Anaconda installation (`anaconda-navigator`). Depending on your installation, you may find it also in the standard places for applications on your computer, i.e. in the Windows Start menu on Windows systems, or Applications folder on MacOs."
   ]
  },
  {
   "cell_type": "markdown",
   "metadata": {},
   "source": [
    "## Jupyter notebooks\n",
    "\n",
    "<http://jupyter.org/>\n",
    "\n",
    "Project Jupyter is an open-source web application that allows you to create and share *notebook documents* that contain live code, equations, visualizations and explanatory text. It is a great way to keep track of the programs you write, annotate them with comments (making it easier to follow and communicate what your program does) and - at the same time - write and execute them, generating output that you can view *on-the-fly*.\n",
    "\n",
    "### Documentation\n",
    "<http://jupyter-notebook.readthedocs.io/en/latest/>\n",
    "\n",
    "### Start Jupyter with the Anaconda Navigator\n",
    "\n",
    "In Anaconda Navigator click on the Jupyter Notebook icon. It opens a file browser window where you can open an existing notebook or create a new one.\n",
    "\n",
    "Alternatively, if your *path* is set to include the Anaconda binaries, you can simply type at your commandline prompt:\n",
    "\n",
    "```python\n",
    "jupyter notebook\n",
    "```\n",
    "\n",
    "### Create a new folder\n",
    "\n",
    "Let's create a new folder which will contain materials for this course. Find the *New* button in the top right corner. Click it and select the *Folder* option from the drop-down menu. An `Untitled Folder` will be created. Now click the checkbox in front of the folder. On the top left corner click the *Rename* button and enter e.g. `PythonCourse` in the dialog box. Click the *Rename* button in the dialog box. Now click on the new folder to change to that directory. \n",
    "\n",
    "### Create a new notebook\n",
    "\n",
    "Let's create our first Jupyter notebook. Click the *New* button in the top right corner and select the *Python 3* option from the drop-down menu. A new window will be opened in your browser. In the header, click on `Untitled` and type a new name for your notebook, for example `Session1`.\n",
    "\n",
    "### Notebook cells\n",
    "\n",
    "The notebook consists of a sequence of cells. A cell is a multiline text input field, and its contents can be executed by pressing Shift-Enter, or by clicking the *Run* button in the toolbar. The execution behavior of a cell is determined by the cell’s type. There are different types of cells, but here we will only use two of them: code cells and markdown cells. The default type is *Code*, but this can be changed with the drop-down menu in the toolbar.\n",
    "\n",
    "### Document your work\n",
    "\n",
    "We will use markdown cells for storing longer text information, e.g. the description of the project or detailed information about the following code cell. So let's change the type of the first cell to *Markdown* and type the following into the cell:\n",
    "```\n",
    "# My first python notebook\n",
    "```\n",
    "Now press <kbd>Shift</kbd>+<kbd>Enter</kbd> or click the *Run* button. This will evaluate the content of the current cell and format it accordingly. It also opens a new cell for us (or move to the next cell if there already is one). You can also create new cells manually.\n",
    "\n",
    "### Working with cells\n",
    "\n",
    "You can add and delete cells using the *Edit* and *Insert* menus fron the notebook toolbar.\n",
    "\n",
    "### Write and execute code\n",
    "\n",
    "Type in a new *Code* cell:\n",
    "```python\n",
    "print(\"Welcome to Python!\")\n",
    "```\n",
    "Now evaluate the cell by pressing <kbd>Shift</kbd>+<kbd>Enter</kbd> or clicking the *Run* button. Under the cell you should now see the sentence `Welcome to Python!`. This is the *output* of your code."
   ]
  },
  {
   "cell_type": "code",
   "execution_count": 2,
   "metadata": {},
   "outputs": [
    {
     "name": "stdout",
     "output_type": "stream",
     "text": [
      "Welcome to Python!\n"
     ]
    }
   ],
   "source": [
    "print(\"Welcome to Python!\")"
   ]
  },
  {
   "cell_type": "markdown",
   "metadata": {},
   "source": [
    "***Great!*** We wrote and executed our first python program in this class!\n",
    "\n",
    "### Saving your notebook\n",
    "\n",
    "Yur notebook is saved automatically every two minutes. Do not forget to save your notebook by clicking the disc icon in toolbar after making some changes or before exiting the notebook.\n",
    "\n",
    "### Exiting your notebook\n",
    "\n",
    "To exit a notebook simply close the browser tab or window. Would be good to shutdown the kernel if you are done with the notebook, otherwise you will have to do it from the commandline. Do not forget to save your work before exiting! Afterwards you can close the Anaconda Navigator.\n",
    "\n",
    "### More about markdown cells\n",
    "\n",
    "Markdown (<https://daringfireball.net/projects/markdown/>) is a text formatting syntax that allows you to write using an easy-to-read, easy-to-write plain text format which can then be converted to *pretty*, formatted text by applications that support it (such as Jupyter and many others). It can be used to indicate headers and URLs, emphasize text, and generate lists, among others things (see this text for an example). Note that the single <kbd>#</kbd> character transformed the text in our previous markdown cell into a *level 1* header - this is markdown in action! While learning the ins and outs of markdown is outside the scope of this course, make sure to have a look at this *cheat sheet* to see how it's used: <https://github.com/adam-p/markdown-here/wiki/Markdown-Cheatsheet>. As you can see, it's really quite simple!"
   ]
  },
  {
   "cell_type": "markdown",
   "metadata": {},
   "source": [
    "## Visual Studio\n",
    "\n",
    "This is another environment you can use to write and test code, which can be installed from\n",
    "\n",
    "https://code.visualstudio.com/\n",
    "\n",
    "You can install handy extensions such as **Python** extension that has syntax and error-checking support for Python and **Github Copilot**, an AI code generation app that analyzes your code context and suggests pieces of code that you may want to type next, saving you time with typing, documentation of your code etc. It's very useful if you know what you want and can evaluate the correctness and efficiency of the suggested code.\n",
    "\n",
    "You can also work with jupyter notebooks in VSCode."
   ]
  },
  {
   "cell_type": "markdown",
   "metadata": {},
   "source": [
    "# Variables\n",
    "\n",
    "We use computer programs to process information. Typically, a computer program takes some information as input, carries out a number of operations that use that information and then reports some results to the user. Fundamental requirements for manipulating information are to be able to store, retrieve and change it. An object designed for this purpose is the *variable*."
   ]
  },
  {
   "cell_type": "markdown",
   "metadata": {},
   "source": [
    "# Data types\n",
    "\n",
    "Variables can be of different *types*, reflecting the different kinds of data that we work with and the operations that we typically perform (and that make sense to perform) on these data. Typical data types available in most programming languages are strings, numbers, and objects that can be enumerated (e.g. lists). In Python and many other languages, additional/custom data types can be defined by the user. A typical example would be a `Student` data type that might be handy for handling administrative information about students in a university. \n",
    "\n",
    "### Strings and numbers\n",
    "\n",
    "*Strings* are arbitrarily long sequences of arbitrary characters. Operations on strings that are built into Python are, for e.g., scanning a string for the occurrence of *substrings*, splitting it into pieces or concatenating several strings together. Numbers are combinations of digits, and in Python3 they can more specifically be divided into three distinct data types: *integers*, *floating point numbers*, and *complex numbers*. Standard operations implemented for numeric data types are arithmetic operations such as addition, subtraction and multiplication. Note however that the way these operations are defined and implemented depends on the specific type of the number in question.\n",
    "\n",
    "### Type checking\n",
    "\n",
    "When trying to execute a command, Python checks the type of the data, and based on that, it decides which implementation to use for the requested operation (multiplication is different for integers and complex numbers!). Python also checks whether the types of variables are consistent with the operations that the user wants to perform on them. If it detects an inconsistency, Python quits execution, giving an informative error message. For example, you can *not* multiply a string with another string as this operation is not defined for two strings (you *can* multiply a single string with an integer though; can you guess what this operation returns?)."
   ]
  },
  {
   "cell_type": "code",
   "execution_count": 3,
   "metadata": {},
   "outputs": [
    {
     "ename": "TypeError",
     "evalue": "can't multiply sequence by non-int of type 'str'",
     "output_type": "error",
     "traceback": [
      "\u001b[0;31m---------------------------------------------------------------------------\u001b[0m",
      "\u001b[0;31mTypeError\u001b[0m                                 Traceback (most recent call last)",
      "Cell \u001b[0;32mIn[3], line 1\u001b[0m\n\u001b[0;32m----> 1\u001b[0m \u001b[38;5;124;43m\"\u001b[39;49m\u001b[38;5;124;43mA\u001b[39;49m\u001b[38;5;124;43m\"\u001b[39;49m\u001b[43m \u001b[49m\u001b[38;5;241;43m*\u001b[39;49m\u001b[43m \u001b[49m\u001b[38;5;124;43m\"\u001b[39;49m\u001b[38;5;124;43m3\u001b[39;49m\u001b[38;5;124;43m\"\u001b[39;49m\n",
      "\u001b[0;31mTypeError\u001b[0m: can't multiply sequence by non-int of type 'str'"
     ]
    }
   ],
   "source": [
    "\"A\" * \"3\""
   ]
  },
  {
   "cell_type": "code",
   "execution_count": null,
   "metadata": {},
   "outputs": [],
   "source": [
    "\"A\" * 3"
   ]
  },
  {
   "cell_type": "markdown",
   "metadata": {},
   "source": [
    "### Common data types in Python\n",
    "\n",
    "* `str`: A string (sequence of characters surrounded by single or double quote symbols) QUOTES!\n",
    "```pyhton\n",
    "\"ACGT-GGTC\"\n",
    "'-4.56'\n",
    "\"%78*@@@-#R!C\"\n",
    "```\n",
    "\n",
    "* `int`: An integer (integral number) NO QUOTES!\n",
    "```python\n",
    "10\n",
    "348203032920\n",
    "```\n",
    "* `float`: A floating point number (number with integral and fractional part, separated by dot) NO QUOTES!\n",
    "```python\n",
    "2.0\n",
    "3.141592653589793\n",
    "```\n",
    "\n",
    "* `bool`: A boolean (variable containing true/false value) NO QUOTES! \n",
    "```python\n",
    "True\n",
    "False\n",
    "```\n",
    "\n",
    "* `list`: A list (comma-separated sequence of objects enclosed in square brackets) They don't need to be of the same kind!\n",
    "```python\n",
    "[0, 1, 2, 3, 4]\n",
    "[\"A\", \"C\", \"T\", \"G\"]\n",
    "[0, \"A\", 1, \"B\"]\n",
    "```\n",
    "\n",
    "* `dict`: A dictionary (set of key:value pairs, separated by commas and enclosed in curly brackets)\n",
    "```python\n",
    "{1:2.1243, 2:8.98398, 3:-0.0045}\n",
    "{\"John\": 30, \"Adam\": 29}\n",
    "```\n",
    "The indicated names for each data type (e.g. `str`) correspond to how they are called inside Python. Note that a few more basic data types are implemented in Python, but for now we will focus only on these common ones.\n",
    "\n",
    "## Variable naming\n",
    "\n",
    "Variable names should start with a letter and may contain letters, digits and underscores (<kbd>_</kbd>). Spaces are not allowed in variable names.\n",
    "\n",
    "Python is case sensitive, so `var1` and `Var1` are two different variables.\n",
    "\n",
    "* Valid variable names: `x`, `param1`, `file_name`\n",
    "* Invalid variable names: `1variable`, `max x`, `%&#!`"
   ]
  },
  {
   "cell_type": "code",
   "execution_count": null,
   "metadata": {},
   "outputs": [],
   "source": [
    "var1 = 23\n",
    "Var1 = \"A\"\n",
    "print(f'var1={var1} Var1={Var1}')"
   ]
  },
  {
   "cell_type": "markdown",
   "metadata": {},
   "source": [
    "## Variables in Jupyter notebooks\n",
    "\n",
    "**IMPORTANT**: All variables and functions defined in one cell of a notebook are accessible from other cells of the same notebook. However, for a variable defined within a cell to be accessible, the cell containing it **has to be evaluated**. Moreover, **the order of evaluations matters**. That is, you can move around in the notebook and reevaluate cells, and the variables will follow the order of evaluation, not the order in which the cells occur in the notebook."
   ]
  },
  {
   "cell_type": "markdown",
   "metadata": {},
   "source": [
    "# Assignment\n",
    "\n",
    "Values are stored inside variables with the assignment operator: <kbd>=</kbd>\n",
    "\n",
    "In your program you use variable names to access the value that has been stored into that variable. Here are some examples of assigning various types of values to variables:\n",
    "\n",
    "```python\n",
    "# assignment examples\n",
    "my_string = \"ACTG\"\n",
    "my_int_number = 3\n",
    "my_float_number = 3.14\n",
    "my_boolean = True\n",
    "# reminder: this is not an assigment!\n",
    "my_variable == 3   # this actually tests whether the value inside `my_variable` equals 3\n",
    "```"
   ]
  },
  {
   "cell_type": "code",
   "execution_count": null,
   "metadata": {},
   "outputs": [],
   "source": [
    "my_variable == 3"
   ]
  },
  {
   "cell_type": "code",
   "execution_count": null,
   "metadata": {},
   "outputs": [],
   "source": [
    "my_variable = 5\n",
    "print(my_variable == 3)\n",
    "print(my_variable)"
   ]
  },
  {
   "cell_type": "markdown",
   "metadata": {},
   "source": [
    "Assignments can be more complex. For instance, you can assign an entire expression to a variable (don't forget the order of operations!): \n",
    "\n",
    "```python\n",
    "# math expression\n",
    "result = 2.4 * 5 / 0.001 + 3.4\n",
    "```\n",
    "\n",
    "...or the result of a function evaluation (we will look at that more carefully in a later session, here we use a `built-in` function):\n",
    "\n",
    "```python\n",
    "# result of a function evaluation\n",
    "counts = [3, 4, 5]\n",
    "my_sum = sum(counts)\n",
    "```"
   ]
  },
  {
   "cell_type": "code",
   "execution_count": null,
   "metadata": {},
   "outputs": [],
   "source": [
    "counts = [3, 4, 5]\n",
    "my_sum = sum(counts)\n",
    "print(f'Sum of elements of {counts} is {my_sum}')"
   ]
  },
  {
   "cell_type": "markdown",
   "metadata": {},
   "source": [
    "An expression on the right side of an assignment is always evaluated *before* the assignment. This is why it is perfectly valid (and common!) to use the variable that you are assigning to inside the expression (given that it has been previously defined). For example:"
   ]
  },
  {
   "cell_type": "code",
   "execution_count": null,
   "metadata": {},
   "outputs": [],
   "source": [
    "x = 1\n",
    "print(f'x = {x}')\n",
    "x = x + 1\n",
    "print(f'Now x = {x}')"
   ]
  },
  {
   "cell_type": "markdown",
   "metadata": {},
   "source": [
    "Once defined, variables can be used in your expression/functions. During code execution, Python will substitute the values that are stored in the corresponding variables to compute results:\n",
    "\n",
    "```python\n",
    "x = 1.2\n",
    "y = 3\n",
    "result = x / y\n",
    "```\n",
    "\n",
    "Variables can be reassigned:\n",
    "```python\n",
    "x = 1.2\n",
    "# value of x is 1.2\n",
    "\n",
    "x = -33.3\n",
    "# value of x is now -33.3\n",
    "```\n",
    "\n",
    "And a special feature of Python is that it allows us to use the same variable name to store different types of objects **at different times**:"
   ]
  },
  {
   "cell_type": "code",
   "execution_count": null,
   "metadata": {},
   "outputs": [],
   "source": [
    "x = 1.2\n",
    "print(f'Value of x is {x}')\n",
    "\n",
    "x = \"String instead of a number\"\n",
    "print(f'Value of x is now {x}')\n"
   ]
  },
  {
   "cell_type": "markdown",
   "metadata": {},
   "source": [
    "# Comments\n",
    "\n",
    "Lines starting with the <kbd>#</kbd> character are interpreted as *comments*. During execution, they are ignored by Python. Comments can thus be used to annotate your code. It is good practice and extremely helpful to use comments to explain what each part of a program is doing. Comments make the code easier to read and understand, especially when reading one's old code or the code of another person."
   ]
  },
  {
   "cell_type": "markdown",
   "metadata": {},
   "source": [
    "# Printing data\n",
    "\n",
    "One of the most basic functions implemented in Python (and many other programming languages) is the **`print()`** *function*. It is used to write text to a user interface, like this:\n",
    "\n",
    "```python\n",
    "result = 3 / 2\n",
    "print(result)\n",
    "# Output\n",
    "1.5\n",
    "```\n",
    "\n",
    "If you want to write out multiple items at the same time, separate them by commas within the `print()` function. When *printing* them to the screen, they will be separated by spaces, similar to the words of a sentence.\n",
    "\n",
    "```python\n",
    "result = 3 / 2\n",
    "print(\"My result is\", result)\n",
    "# Output\n",
    "My result: 1.5\n",
    "\n",
    "string1 = \"My\"\n",
    "string2 = \"result\"\n",
    "string3 = \"is\"\n",
    "print(string1, string2, string3, result)\n",
    "# Output\n",
    "My result is 1.5\n",
    "```"
   ]
  },
  {
   "cell_type": "code",
   "execution_count": null,
   "metadata": {},
   "outputs": [],
   "source": [
    "result = 3 / 2\n",
    "print(\"My result is\\t\", result)\n"
   ]
  },
  {
   "cell_type": "markdown",
   "metadata": {},
   "source": [
    "# Strings\n",
    "\n",
    "Strings are sequences of characters (letters, digits, spaces, special characters). Strings should be surrounded by quotation marks, which can be either single or double quotes, but not mixtures of the two. While both of them are okay to use, it is good practice to be consistent about which quotation mark type to use. However, it can be useful/convenient to use one type of quote even if you're typically using the other. Can you guess why/when?\n",
    "\n",
    "```python\n",
    "string1 = \"test string 1\"\n",
    "string2 = 'test string 2'\n",
    "# wrong\n",
    "string3 = \"this is not good'\n",
    "string4 = 'this isn't good either'\n",
    "```\n",
    "\n",
    "Characters in a string are associated with their positions (*indices*). You can *access* individual characters by their indices. \n",
    "\n",
    "**IMPORTANT:** The first element of a string (or list, as you will see later) is found at index `0`.\n",
    "\n",
    "```python\n",
    "my_string = \"test string\"\n",
    "# print first and third element of the string\n",
    "print(my_string[0], my_string[2])\n",
    "# t s\n",
    "```\n",
    "\n",
    "## String manipulations\n",
    "\n",
    "As mentioned above, a data type does not only say that a given piece of data is of a certain kind, it is also associated with a set of operations that can be performed on objects of that kind. These operations are referred to as *methods* of that data type. In Python, to apply a method to an object, we generally use the following syntax: `object_name.method_name`, i.e. the object and method names separated by a dot (<kbd>.</kbd>).\n",
    "\n",
    "Below we will introduce three commonly used methods implemented for `str` objects. Take a look for a minute at the expression below and make sure you understand it. What is the function name? Which are the parameters? Which parameters are necessary and which are optional?\n",
    "\n",
    "### Find substring\n",
    "\n",
    "`str.find(sub[, start[, end]])`\n",
    "\n",
    "Returns the lowest index in the string `str`, where substring `sub` is found, starting from index `start` and ending (not including) `end`. Returns -1 if sub is not found.\n",
    "\n",
    "Example:\n",
    "\n",
    "```python\n",
    "my_string = \"ACTGACTG\"\n",
    "print(my_string.find(\"TGA\"))\n",
    "# 2\n",
    "```\n",
    "\n",
    "### Substitute characters\n",
    "\n",
    "`str.replace(old, new[, count])`\n",
    "\n",
    "Returns a copy of the string with all occurrences of substring `old` replaced by `new`. If the optional argument `count` is given, only the first `count` occurrences are replaced.\n",
    "\n",
    "Example:\n",
    "\n",
    "``` python\n",
    "my_dna = \"ACTGACTG\"\n",
    "print(my_dna)\n",
    "# ACTGACTG\n",
    "\n",
    "my_rna = my_dna.replace(\"T\", \"U\")\n",
    "print(my_rna)\n",
    "# ACUGACUG\n",
    "```\n",
    "\n",
    "### Concatenate strings\n",
    "\n",
    "This operation is not applied to just one, but to multiple strings. Joining together strings can be done either with the <kbd>+</kbd> operator or using the `str.join()` (looks more complicated but performs better!) method:\n",
    "\n",
    "`str.join(sequence)`\n",
    "\n",
    "Returns a string in which the string elements of `sequence` have been joined by the `str` separator.\n",
    "\n",
    "Examples:\n",
    "\n",
    "```python\n",
    "a = \"ACTTCA\"\n",
    "b = \"AGGTC\"\n",
    "c = a + b\n",
    "print(\"concatenated string:\", c)\n",
    "# concatenated string: ACTTCAAGGTC\n",
    "\n",
    "c = \"\".join([a, b])   # Think of what we are doing here!\n",
    "print(\"concatenated string:\", c)\n",
    "# concatenated string: ACTTCAAGGTC\n",
    "\n",
    "c = \"-\".join([a, b])  # Now we are using \"-\" as the separator\n",
    "print(\"concatenated string:\", c)\n",
    "# concatenated string: ACTTCA-AGGTC\n",
    "```"
   ]
  },
  {
   "cell_type": "code",
   "execution_count": null,
   "metadata": {},
   "outputs": [],
   "source": [
    "join([\"a\", \"b\"], sep=\"\\t\")"
   ]
  },
  {
   "cell_type": "markdown",
   "metadata": {},
   "source": [
    "# Numeric types\n",
    "\n",
    "In Python, numbers come in multiple flavors, the most commonly used are:\n",
    "\n",
    "* integers (e.g. 5)\n",
    "* floating point numbers (e.g. 5.5)\n",
    "\n",
    "## Mathematical operations\n",
    "\n",
    "Standard mathematical operations are denoted by the familiar operators:\n",
    "\n",
    "Expression | Operation\n",
    "--- | ---\n",
    "`x + y` | sum of x and y\t \n",
    "`x - y` | difference of x and y\t \n",
    "`x * y` | product of x and y\t \n",
    "`x / y` | division of x by y\n",
    "`-x`    | negation\n",
    "`x // y` | integer division of x by y\n",
    "`x % y` | remainder of x / y\n",
    "`abs(x)` | absolute value or magnitude of x\t\n",
    "`int(x)` | the integer representation of x \n",
    "`float(x)` | the floating point representation of x\n",
    "`pow(x, y)` | x to the power y\n",
    "`x ** y` | x to the power y\n",
    "\n",
    "Example:\n",
    "```python\n",
    "x = 6.0\n",
    "y = 4.1\n",
    "z = x / (x + y)**3 - (y + y**2) / (x / y)\n",
    "print(z)\n",
    "# -14.28267645911243\n",
    "```\n",
    "\n"
   ]
  },
  {
   "cell_type": "markdown",
   "metadata": {},
   "source": [
    "# Mixing variables of different types\n",
    "\n",
    "Executing the following code...\n",
    "```python\n",
    "x = \"2\"   # string\n",
    "z = 3 + x # add numeric type to string type\n",
    "```\n",
    "\n",
    "...will return the following error (or similar):\n",
    "```\n",
    "Traceback (most recent call last):\n",
    "  File \"<stdin>\", line 1, in <module>\n",
    "TypeError: unsupported operand type(s) for +: 'int' and 'str'\n",
    "```\n",
    "\n",
    "This tells us that Python does not know how to add a string to an integer. It could be that you mean converting the integer to a string and then concatenating the two strings, or that you mean to convert the string to the number that it specifies and then add the two numbers. You will have to specify precisely what you mean, for e.g. converting the string to an integer first if you mean to add two numbers:\n",
    "\n",
    "```python\n",
    "x = int(x) # convert x to type 'int'\n",
    "z = 3 + x\n",
    "print(z)\n",
    "# 5\n",
    "```\n",
    "\n",
    "We could also convert it to a floating point number:\n",
    "```python\n",
    "x = float(x) # convert x to type 'float'\n",
    "z = x + 3\n",
    "print(z)\n",
    "# 5.0\n",
    "```\n",
    "\n",
    "Why is there a difference in the output? What is Python doing here?"
   ]
  },
  {
   "cell_type": "markdown",
   "metadata": {},
   "source": [
    "# <span style=\"color:red\"> Exercises: make sure that you are familiar with the concepts illustrated below. </span>\n",
    "\n",
    "## Printing\n",
    "* Define variables that hold the following values:\n",
    "    * your name (string)\n",
    "    * your age (integer)\n",
    "    * the string `\"My name is\"`\n",
    "    * the string `\"I am\"`\n",
    "    * the string `\"years old\"`\n",
    "    * the string `\".\"`\n",
    "* Use these variables to print a text like this:\n",
    "\n",
    "```\n",
    "My name is Methusalem.\n",
    "I am 969 years old.\n",
    "```\n",
    "\n",
    "## Mathematical operations\n",
    "* Assign numbers `5`, `12`, `3.5` to variables `x`, `y` and `z`.\n",
    "* Divide `x` by `y` and mutiply the result by `z`. Print the result.\n",
    "* Calculate the value of the following expression $\\frac{x^2 - y}{(z + y)^3} - \\frac{1}{x-y-z}$. Print the result.\n",
    "\n",
    "## String manipulations: Substrings\n",
    "* Assign string \"GGATCTTTGAAACCGG\" to a variable. \n",
    "* Find the position where substring \"CTT\" starts and assign it to a variable.\n",
    "* Print the position where the substring occurs in the string.\n",
    "* Print the character at this position.\n",
    "\n",
    "## String manipulations: Replace & concatenate\n",
    "* Create two string variables \"GGACTT\" and \"ATAGATT\".\n",
    "* In the first string replace every \"*T*\" with a \"*G*\". In the second string replace every \"*A*\" with a \"*C*\"\n",
    "* Concatenate these strings and print the result.\n"
   ]
  },
  {
   "cell_type": "markdown",
   "metadata": {},
   "source": [
    "# Controlling program flow"
   ]
  },
  {
   "cell_type": "markdown",
   "metadata": {},
   "source": [
    "## Important note: Indentation\n",
    "\n",
    "One of the most obvious peculiarities of Python is that it enforces strict indentation rules for better readability. In particular: All statements within a dependent **code block** have to be indented relative to the code it depends on. Moreover, all statements within that dependent code block (i.e. within the same **scope**) have to be indented by the same amount! Here's what we mean:\n",
    "    \n"
   ]
  },
  {
   "cell_type": "markdown",
   "metadata": {},
   "source": [
    "<code>flow control statement:\n",
    "    beginning of code_block dependent on above control flow statement\n",
    "    ...\n",
    "    end of code_block dependent on above control flow statement\n",
    "    \n",
    "code independent of the above control flow statement<code>"
   ]
  },
  {
   "cell_type": "markdown",
   "metadata": {},
   "source": [
    "### Example"
   ]
  },
  {
   "cell_type": "markdown",
   "metadata": {},
   "source": [
    "This is what Python wants:"
   ]
  },
  {
   "cell_type": "markdown",
   "metadata": {},
   "source": [
    "```py\n",
    "if weather is \"nice\":\n",
    "    print(\"Go outside and enjoy the sun!\")\n",
    "else:\n",
    "    print(\"Go to the spa?\")\n",
    "    changeWeather()\n",
    "```"
   ]
  },
  {
   "cell_type": "markdown",
   "metadata": {},
   "source": [
    "If you are messy, Python will reprimand you with an ```IndentationError```:"
   ]
  },
  {
   "cell_type": "markdown",
   "metadata": {},
   "source": [
    "```py\n",
    "# Don't do this:\n",
    "while \"I have better things to do...\":\n",
    "print(\"I don't care about indentation!\")\n",
    "```"
   ]
  },
  {
   "cell_type": "markdown",
   "metadata": {},
   "source": [
    "```py\n",
    "# Or this:\n",
    " print(\"I'm\")\n",
    "     print(\"a little\")\n",
    "    print(\"chaotic!\")\n",
    "```"
   ]
  },
  {
   "cell_type": "markdown",
   "metadata": {},
   "source": [
    "## Python's conditional statement: if - elif - else\n",
    "\n",
    "Conditional statements allow your program to take different paths, dependent on a **condition**. The condition is an expression that must evaluate to type Boolean, i.e. the result of the evaluation can be understood by the computer as either `True` or `False`. Different instructions can then be executed according to whether the condition evaluates to `True` or `False`. The basic structure for this type of flow control structure looks like this:"
   ]
  },
  {
   "cell_type": "code",
   "execution_count": null,
   "metadata": {},
   "outputs": [],
   "source": [
    "if 5 < 3:                    # '5 > 3' is the condition\n",
    "  print(\"Can you see me?\")   # is printed because 5 is bigger than 3"
   ]
  },
  {
   "cell_type": "markdown",
   "metadata": {},
   "source": [
    "That is, the `if` keyword, the expression whose truth values is to be determined, and the block of instructions to be executed if the conditional expression evaluates to `True`.\n",
    "\n",
    "But what if we want some instructions to be executed when the condition is `True`, and other instructions when the condition is `False`? In this case, we use `if` together with **`else`**.`else` is a catch-all, it doesn't go with another condition, but rather is executed if and only if the condition going with the `if` statement evaluates to `False`. For more complex control flow, there is also **`elif`** (short for `else if`) which is very helpful for **nesting** conditions.\n",
    "\n",
    "Here is how you use **`if`**, **`elif`** and **`else`** together:\n"
   ]
  },
  {
   "cell_type": "markdown",
   "metadata": {},
   "source": [
    "```py\n",
    "if condition_1:\n",
    "    statement_1      # |\n",
    "    ...              # |=> code block\n",
    "    statement_n      # |\n",
    "\n",
    "elif condition_2:    # |\n",
    "    code_block       # |\n",
    "elif condition_3:    # |=> optional! \n",
    "    code_block       # |\n",
    "else:                # |\n",
    "    code_block       # |\n",
    "```"
   ]
  },
  {
   "cell_type": "markdown",
   "metadata": {},
   "source": [
    "### Conditional expressions - remind yourself how these expressions are evaluated.\n",
    "\n",
    "Conditional expressions evaluate to a Boolean value, 'True' or 'False'. However, Python more generally assigns truth values to other types of expression, including to variables. For example: \n",
    "  * numbers: 3, 0, ...        # all numbers except for 0 evaluate to `True`\n",
    "  * strings: \"False\", \"\"      # all strings except the *empty string* \"\" evaluate to `True`, even the string \"False\"!"
   ]
  },
  {
   "cell_type": "markdown",
   "metadata": {},
   "source": [
    "### Comparison operators"
   ]
  },
  {
   "cell_type": "markdown",
   "metadata": {},
   "source": [
    "Perhaps the most widely used type of conditional expression is the comparison: Does something equal something else? Is this value bigger than what it should be? For such comparisons, there exists a set of comparison operators:"
   ]
  },
  {
   "cell_type": "markdown",
   "metadata": {},
   "source": [
    "```py\n",
    "x is y   # x and y refer to the same object\n",
    "x == y   # x and y have the same value; this is what you generally want to use\n",
    "x != y   # x does not have the same value as y\n",
    "x > y    # x is greater than y\n",
    "x >= y   # x is greater than or equal to y\n",
    "x < y    # x is less than y\n",
    "x <= y   # x is less than or equal to y\n",
    "```"
   ]
  },
  {
   "cell_type": "markdown",
   "metadata": {},
   "source": [
    "### Logical operators"
   ]
  },
  {
   "cell_type": "markdown",
   "metadata": {},
   "source": [
    "Conditional expressions can also be further modified/chained with logical operators (recall boolean algebra):"
   ]
  },
  {
   "cell_type": "markdown",
   "metadata": {},
   "source": [
    "```py\n",
    "condition_1 or condition_2     # logical \"or\"; True if either condition_1 *or* condition_2 evaluates to True\n",
    "condition_1 and condition_2    # logical \"and\"; True only if condition_1 *and* condition_2 evaluate to True\n",
    "not condition                  # logical \"not\"; True only if condition evaluates to False\n",
    "```"
   ]
  },
  {
   "cell_type": "markdown",
   "metadata": {},
   "source": [
    "### Let's play around with an example.\n",
    "To make it more interesting, we will use Python's input() function, which provides the program with whatever the user types at the command line. Note the usage of input():"
   ]
  },
  {
   "cell_type": "code",
   "execution_count": null,
   "metadata": {},
   "outputs": [],
   "source": [
    "x = int(input(\"Please enter an integer: \"))   # The input() function asks for user input from the keyboard\n",
    "if x < 0 or x > 1000000:\n",
    "    x = 0\n",
    "    print('Negative and very high values changed to zero')\n",
    "elif x == 0:\n",
    "    print('Nada')\n",
    "elif x == 1:\n",
    "    print('One')\n",
    "elif x == 2 or x == 3 or x == 4:\n",
    "    print('Few')\n",
    "else:\n",
    "    print('Many')"
   ]
  },
  {
   "cell_type": "markdown",
   "metadata": {},
   "source": [
    "## Python's loops"
   ]
  },
  {
   "cell_type": "markdown",
   "metadata": {},
   "source": [
    "### The `for` loop"
   ]
  },
  {
   "cell_type": "markdown",
   "metadata": {},
   "source": [
    "This type of loop is used most commonly when a specific piece of code is to be executed a fixed number of times, e.g. when **iterating** over the items in a list or the key-value pairs in a dictionary.\n",
    "\n",
    "The basic syntax is:\n"
   ]
  },
  {
   "cell_type": "markdown",
   "metadata": {},
   "source": [
    "```py\n",
    "for name in sequence:\n",
    "    statement_1\n",
    "    statement_2\n",
    "    statement_3\n",
    "    # ...\n",
    "    statement_n\n",
    "```"
   ]
  },
  {
   "cell_type": "markdown",
   "metadata": {},
   "source": [
    "where `name` is an arbitrary variable name and `sequence` is a list or similar structure that can be iterated over."
   ]
  },
  {
   "cell_type": "markdown",
   "metadata": {},
   "source": [
    "#### Examples"
   ]
  },
  {
   "cell_type": "code",
   "execution_count": null,
   "metadata": {},
   "outputs": [],
   "source": [
    "# Looping over an explicitly defined list\n",
    "for i in [0, 1, 2, 3]:\n",
    "    print(i + 1)"
   ]
  },
  {
   "cell_type": "code",
   "execution_count": null,
   "metadata": {},
   "outputs": [],
   "source": [
    "# Or another predefined list\n",
    "words = ['cat', 'window', 'defenestrate']\n",
    "for w in words:\n",
    "    print(w, len(w))    # the len() function returns the length of a string or, when called on a \n",
    "                        # list/dictionary, the number of items or key-value pairs"
   ]
  },
  {
   "cell_type": "code",
   "execution_count": null,
   "metadata": {},
   "outputs": [],
   "source": [
    "# Looping over a iterator returned by a function\n",
    "sum_i = 0\n",
    "for i in range(1, 11):  # range([start,] stop [, step]) generates a sequence of integers from start to stop-1, with step size step (default: 1)\n",
    "    print(i)            # |=> These lines are within the scope of the for loop\n",
    "    sum_i = sum_i + i   # |\n",
    "    \n",
    "print('sum =', sum_i) # | This line is outside of the for loop scope"
   ]
  },
  {
   "cell_type": "code",
   "execution_count": null,
   "metadata": {},
   "outputs": [],
   "source": [
    "# Looping over a sequence of indices in a list\n",
    "a = ['Mary', 'had', 'a', 'little', 'lamb']\n",
    "for i in a:    # range(n) with a single argument n generates a sequence from 0 to n-1\n",
    "    print(i)"
   ]
  },
  {
   "cell_type": "markdown",
   "metadata": {},
   "source": [
    "Note that `range(m, n, s)` can also be called with three arguments. It then generates a sequence of integers from `m` to `n-1`, with `s` as the *step size*, e.g.:"
   ]
  },
  {
   "cell_type": "markdown",
   "metadata": {},
   "source": [
    "```py\n",
    "seq = range(0,5,2)   # generates 0, 2, 4\n",
    "```"
   ]
  },
  {
   "cell_type": "markdown",
   "metadata": {},
   "source": [
    "### The `while` loop"
   ]
  },
  {
   "cell_type": "markdown",
   "metadata": {},
   "source": [
    "The code block in the `while` loop is executed if and as long as the associated condition remains `True` (use carefully, cause if your condition is not changed as the block of intructions is executed you end up in an **infinite loop**!).\n",
    "\n",
    "The basic syntax is:\n"
   ]
  },
  {
   "cell_type": "markdown",
   "metadata": {},
   "source": [
    "```py\n",
    "while condition:\n",
    "    statement_1\n",
    "    statement_2\n",
    "    statement_3\n",
    "    ...\n",
    "    statement_n\n",
    "```"
   ]
  },
  {
   "cell_type": "markdown",
   "metadata": {},
   "source": [
    "#### Examples"
   ]
  },
  {
   "cell_type": "code",
   "execution_count": null,
   "metadata": {},
   "outputs": [],
   "source": [
    "# Print square of integer until user enter `q` or `quit`\n",
    "user_input = False\n",
    "while not user_input in ['q', 'quit']:\n",
    "    if user_input:\n",
    "        square = int(user_input)**2\n",
    "        print(square)\n",
    "    user_input = input(\"Enter integer or 'q'/'quit' to exit: \")"
   ]
  },
  {
   "cell_type": "markdown",
   "metadata": {},
   "source": [
    "```py\n",
    "#DO NOT DO THIS! Infinite loop\n",
    "while True:\n",
    "    print(\"Now try to stop me!\")\n",
    "```"
   ]
  },
  {
   "cell_type": "markdown",
   "metadata": {},
   "source": [
    "### Loop control with `break` and `continue`"
   ]
  },
  {
   "cell_type": "markdown",
   "metadata": {},
   "source": [
    "The loop can be exited with **`break`** keyword and the program will jump to the first intruction after the loop:"
   ]
  },
  {
   "cell_type": "code",
   "execution_count": null,
   "metadata": {},
   "outputs": [],
   "source": [
    "# Exit loop under defined condition\n",
    "for num in range(21):        # Iterate over sequence of integers from 0 to 20\n",
    "    print(num)\n",
    "    if num >= 7:\n",
    "        print(\"I'm tired. Give me a rest!\")\n",
    "        break\n",
    "print(\"Done!\")"
   ]
  },
  {
   "cell_type": "markdown",
   "metadata": {},
   "source": [
    "One can skip to the next iteration of the loop with the **`continue`** keyword\n",
    "\n",
    "### Analyze the following piece of code:"
   ]
  },
  {
   "cell_type": "code",
   "execution_count": null,
   "metadata": {},
   "outputs": [],
   "source": [
    "# Selective printing with 'continue'\n",
    "actions_input = \"\"\"\n",
    "# load data\n",
    "load\n",
    "\n",
    "# do some processing\n",
    "process\n",
    "\n",
    "# apply filter\n",
    "filter\n",
    "\n",
    "# plot results\n",
    "visualize\n",
    "\n",
    "# done\n",
    "stop\n",
    "\"\"\"\n",
    "\n",
    "actions = actions_input.split('\\n')     # Split string into list by newline character '\\n'\n",
    "print(actions)                          # Prints list\n",
    "\n",
    "for action in actions:\n",
    "    if action == \"\" or action[0]=='#':    # If list element is empty string or starts with comment character...\n",
    "        continue                          # ...skip to next iteration\n",
    "    \n",
    "    print(action)                         # If you're still around, print the string"
   ]
  },
  {
   "cell_type": "markdown",
   "metadata": {},
   "source": [
    "## More about Python's functions"
   ]
  },
  {
   "cell_type": "markdown",
   "metadata": {},
   "source": [
    "Functions are blocks of code that implement specific tasks that need to be repeatedly executed. They make the code more readable, ordered and reusable. Moreover, they reduce the chance of making mistakes when typing the same code multiple times and they make the code more **modular**. Once we coded and tested a function thoroughly, we shouldn't need to worry about its correctness anymore.\n",
    "\n",
    "In Python, functions can be **def**ined anywhere in the code, and the return() function is used to get values back from a function:\n"
   ]
  },
  {
   "cell_type": "markdown",
   "metadata": {},
   "source": [
    "```py\n",
    "def my_function(arguments): # parameters can be passed to functions\n",
    "    \"\"\"documentation\"\"\"     # note the multi-line comment with the special delimiter\n",
    "    statement\n",
    "    # ...                   # additional statements\n",
    "    return(expression)\n",
    "```"
   ]
  },
  {
   "cell_type": "code",
   "execution_count": null,
   "metadata": {},
   "outputs": [],
   "source": [
    "def get_square(x):\n",
    "    \"\"\"This function returns x^2.\"\"\"\n",
    "    return(x**2)"
   ]
  },
  {
   "cell_type": "markdown",
   "metadata": {},
   "source": [
    "Once a function is defined, it can be **called**:"
   ]
  },
  {
   "cell_type": "code",
   "execution_count": null,
   "metadata": {},
   "outputs": [],
   "source": [
    "get_square(4)"
   ]
  },
  {
   "cell_type": "markdown",
   "metadata": {},
   "source": [
    "A powerful feature of Python is that it functions can be used as variables, as in the following example:"
   ]
  },
  {
   "cell_type": "code",
   "execution_count": null,
   "metadata": {},
   "outputs": [],
   "source": [
    "funcVar = get_square\n",
    "print(type(funcVar))\n",
    "print(funcVar(5))"
   ]
  },
  {
   "cell_type": "markdown",
   "metadata": {},
   "source": [
    "You can access the documentation of a function by calling **`help()`** (also a function) on the function of your interest:"
   ]
  },
  {
   "cell_type": "code",
   "execution_count": null,
   "metadata": {},
   "outputs": [],
   "source": [
    "help(funcVar)"
   ]
  },
  {
   "cell_type": "markdown",
   "metadata": {},
   "source": [
    "Note the last line of text. Do you see where it comes from?\n",
    "\n",
    "Make sure to call the function with the right number of arguments or else you will get a `TypeError`:"
   ]
  },
  {
   "cell_type": "code",
   "execution_count": null,
   "metadata": {},
   "outputs": [],
   "source": [
    "get_square()"
   ]
  },
  {
   "cell_type": "markdown",
   "metadata": {},
   "source": [
    "Note, however, that not all parameters may require a value. One can use `default` values for parameters, which will be use if these parameters are not specifically set when the function is called. \n",
    "\n",
    "For example: "
   ]
  },
  {
   "cell_type": "code",
   "execution_count": null,
   "metadata": {},
   "outputs": [],
   "source": [
    "def get_square(x = 1):\n",
    "    \"\"\"This function returns x^2.\"\"\"\n",
    "    return(x**2)\n",
    "\n",
    "print(\"Using default parameter: \", get_square())\n",
    "print(\"Over-writing the default parameter: \", get_square(10))"
   ]
  },
  {
   "cell_type": "markdown",
   "metadata": {},
   "source": [
    "It gets more complicated with default parameters if the function has multiple arguments. Check out these function definitions and usage:"
   ]
  },
  {
   "cell_type": "code",
   "execution_count": null,
   "metadata": {},
   "outputs": [],
   "source": [
    "def add_two_numbers(a, b=10):\n",
    "    return a+b"
   ]
  },
  {
   "cell_type": "code",
   "execution_count": null,
   "metadata": {},
   "outputs": [],
   "source": [
    "print(\"add_two_numbers(1): \", str(add_two_numbers(1)))\n",
    "print(\"add_two_numbers(1, 20): \", str(add_two_numbers(1, 20)))\n",
    "print(\"add_two_numbers(): \", str(add_two_numbers()))"
   ]
  },
  {
   "cell_type": "code",
   "execution_count": null,
   "metadata": {},
   "outputs": [],
   "source": [
    "def add_two_numbers(a=1, b):\n",
    "    return a+b"
   ]
  },
  {
   "cell_type": "code",
   "execution_count": null,
   "metadata": {},
   "outputs": [],
   "source": [
    "def add_two_numbers(a=1, b=10):\n",
    "    return a+b"
   ]
  },
  {
   "cell_type": "code",
   "execution_count": null,
   "metadata": {},
   "outputs": [],
   "source": [
    "print(\"add_two_numbers(): \", str(add_two_numbers()))\n",
    "print(\"add_two_numbers(2): \", str(add_two_numbers(2)))\n",
    "print(\"add_two_numbers(2, 20): \", str(add_two_numbers(2, 20)))"
   ]
  },
  {
   "cell_type": "markdown",
   "metadata": {},
   "source": [
    "Also note that functions *always* return an object - even if `return()` is not explicitly called! The **`None`** object is frequently used to represent the absence of an explicit return value:"
   ]
  },
  {
   "cell_type": "code",
   "execution_count": null,
   "metadata": {},
   "outputs": [],
   "source": [
    "def printValue(value, precision=0):\n",
    "    formatted_value = \"{:.{}f}\".format(value, precision)\n",
    "    print(f'Print in function: The value is {formatted_value}')\n",
    "\n",
    "result = printValue(10.1, 5)\n",
    "print(\"Function's return value:\", result)"
   ]
  },
  {
   "cell_type": "markdown",
   "metadata": {},
   "source": [
    "### Recursions\n",
    "In the body of a function a call to the function that is being defined can be made. \n",
    "\n",
    "Functions calling themselves represent a useful (and famous) programming paradigm called recursion.\n",
    "\n",
    "See this example:"
   ]
  },
  {
   "cell_type": "code",
   "execution_count": null,
   "metadata": {},
   "outputs": [],
   "source": [
    "def order_of_magnitude(x):\n",
    "    if x >= 10:\n",
    "        return(d( x / 10) + 1)\n",
    "    else:\n",
    "        return(1)"
   ]
  },
  {
   "cell_type": "code",
   "execution_count": null,
   "metadata": {},
   "outputs": [],
   "source": [
    "print(\"9:\", order_of_magnitude(9))\n",
    "print(\"10:\", order_of_magnitude(10))\n",
    "print(\"1000000:\", order_of_magnitude(1000000))"
   ]
  },
  {
   "cell_type": "markdown",
   "metadata": {},
   "source": [
    "### <span style=\"color:red\"> Practice questions </span>\n",
    "\n",
    "1. Read an integer from the command line (hint: input() function). Double the number if it is positive. Halve the number if it is negative. Print the result.\n",
    "\n",
    "2. Define a list of at least ten strings. Print every second string.\n",
    "\n",
    "3. Read numbers from the command line. Add them up until 0 is entered. Afterwards print the sum.\n",
    "\n",
    "4. Read numbers from the command line. Sum them up if they are positive, ignore them if they are negative and stop when 0 is entered. Use continue and break!\n",
    "\n",
    "5. Write a function which returns the absolute difference between two numbers a and b: |a - b|. Call the function for five combinations for a and b.\n",
    "\n",
    "Try do solve at least one of the following, if you can (yes, they are a bit tougher!):\n",
    "* Write a function that computes and returns the factorial of any positive integer. Use either a `for` loop, a `while` loop, or recursion. Call the function for 13 and print the returned factorial to the console.\n",
    "* Write a function that decomposes any positive integer into its prime factors and returns them as a list. Call the function for 12341234 and print the list of prime factors to the console."
   ]
  },
  {
   "cell_type": "markdown",
   "metadata": {},
   "source": [
    "# Python's lists"
   ]
  },
  {
   "cell_type": "markdown",
   "metadata": {},
   "source": [
    "The `list` is a very versatile data type. In Python, lists are denoted by square brackets, between which a comma-separated list of values, typically referred to as ***items***, can be placed. \n",
    "\n",
    "It is important to remember that in Python, the **items of a list need not be of the same type**."
   ]
  },
  {
   "cell_type": "code",
   "execution_count": null,
   "metadata": {},
   "outputs": [],
   "source": [
    "# Lists\n",
    "my_list = []                    # empty list\n",
    "my_list = [1, 2, 3, 4]          # all items of type 'int'\n",
    "my_list = ['a', 2, 3.6, True]   # all items of different types (str, int, float, bool)\n",
    "my_list = ['M', 'o', 'n', 't', 'y', ' ', 'P', 'y', 't', 'h', 'o', 'n']   # all items of type 'str'"
   ]
  },
  {
   "cell_type": "code",
   "execution_count": null,
   "metadata": {},
   "outputs": [],
   "source": [
    "my_new_list = [1, [2, 3], {\"a\":2}, 23, 4]"
   ]
  },
  {
   "cell_type": "code",
   "execution_count": null,
   "metadata": {},
   "outputs": [],
   "source": [
    "my_new_list[1][1]"
   ]
  },
  {
   "cell_type": "markdown",
   "metadata": {},
   "source": [
    "## Accessing list items\n",
    "\n",
    "To access items of a list, append square brackets to the variable holding the list and place an index between the square brackets. This expression will return the list item available at that position, with its specific datatype."
   ]
  },
  {
   "cell_type": "markdown",
   "metadata": {},
   "source": [
    "<code>element = my_list[index]  # returns item at position 'index' and assigns it to variable 'element'</code>"
   ]
  },
  {
   "cell_type": "markdown",
   "metadata": {},
   "source": [
    "**Do not forget:** List indices in Python start at zero, i.e. the first element in the list is at index 0."
   ]
  },
  {
   "cell_type": "code",
   "execution_count": null,
   "metadata": {},
   "outputs": [],
   "source": [
    "my_list"
   ]
  },
  {
   "cell_type": "code",
   "execution_count": null,
   "metadata": {},
   "outputs": [],
   "source": [
    "my_list[0]  # returns *first* element"
   ]
  },
  {
   "cell_type": "code",
   "execution_count": null,
   "metadata": {},
   "outputs": [],
   "source": [
    "my_list[6]  # returns 7th element"
   ]
  },
  {
   "cell_type": "markdown",
   "metadata": {},
   "source": [
    "It is also possible to access **multiple items** at the same time, an operation referred to as ***slicing***. This operation has the following syntax:"
   ]
  },
  {
   "cell_type": "markdown",
   "metadata": {},
   "source": [
    "<code>slice = my_list[start_index:stop_index]</code>"
   ]
  },
  {
   "cell_type": "markdown",
   "metadata": {},
   "source": [
    "It returns again a list, containing the elements starting at index `start_index` and ending **but not including** stop_index from list `my_list`."
   ]
  },
  {
   "cell_type": "code",
   "execution_count": null,
   "metadata": {},
   "outputs": [],
   "source": [
    "my_list"
   ]
  },
  {
   "cell_type": "code",
   "execution_count": null,
   "metadata": {},
   "outputs": [],
   "source": [
    "my_list[6:10]  # returns slice of 4 items (10-6), \n",
    "#starting from the 7th item and ending with the 10th item"
   ]
  },
  {
   "cell_type": "code",
   "execution_count": null,
   "metadata": {},
   "outputs": [],
   "source": [
    "my_list[0:1]  # returns list of length 1"
   ]
  },
  {
   "cell_type": "code",
   "execution_count": null,
   "metadata": {},
   "outputs": [],
   "source": [
    "my_list[0:0]  # returns empty list"
   ]
  },
  {
   "cell_type": "code",
   "execution_count": null,
   "metadata": {},
   "outputs": [],
   "source": [
    "#negative indices also work, they indicate elements relative to the end of the list\n",
    "#just to check\n",
    "print(my_list[-1])\n",
    "#and now get a slice\n",
    "my_list[-12:-7]"
   ]
  },
  {
   "cell_type": "code",
   "execution_count": null,
   "metadata": {},
   "outputs": [],
   "source": [
    "my_list[3:-3]"
   ]
  },
  {
   "cell_type": "code",
   "execution_count": null,
   "metadata": {},
   "outputs": [],
   "source": [
    "my_list[4:3]"
   ]
  },
  {
   "cell_type": "code",
   "execution_count": null,
   "metadata": {},
   "outputs": [],
   "source": [
    "my_list[6:-7]"
   ]
  },
  {
   "cell_type": "markdown",
   "metadata": {},
   "source": [
    "Finally, note that you can also omit the start or end position of a slice (or even both). In that case, the returned slice will start at the first (omitting start index) or end with the last element (omitting the end index). Consequently, omitting both will return a **copy** of the entire list (which is sometimes useful):"
   ]
  },
  {
   "cell_type": "code",
   "execution_count": null,
   "metadata": {},
   "outputs": [],
   "source": [
    "my_list[:10]  # returns slice from first to tenth element"
   ]
  },
  {
   "cell_type": "code",
   "execution_count": null,
   "metadata": {},
   "outputs": [],
   "source": [
    "my_list[2:]  # returns slice from third to last element"
   ]
  },
  {
   "cell_type": "code",
   "execution_count": null,
   "metadata": {},
   "outputs": [],
   "source": [
    "my_list[:]  # returns copy of whole list"
   ]
  },
  {
   "cell_type": "markdown",
   "metadata": {},
   "source": [
    "**IMPORTANT:** Have a good look at the following scheme, which summarizes the list accession / slicing rules. It is important to remember these rules as working with lists is very common and wrong use of indices can lead to problems that are difficult to track down!"
   ]
  },
  {
   "attachments": {
    "session1_list_index.png": {
     "image/png": "[encoded data removed]"
    }
   },
   "cell_type": "markdown",
   "metadata": {},
   "source": [
    "![session1_list_index.png](attachment:session1_list_index.png)\n"
   ]
  },
  {
   "cell_type": "markdown",
   "metadata": {},
   "source": [
    "## Updating elements in Lists\n",
    "\n",
    "You can update single or multiple elements of lists by assigning a new value to an individual item or list slice:"
   ]
  },
  {
   "cell_type": "markdown",
   "metadata": {},
   "source": [
    "```py\n",
    "my_list[index] = value                      # updating one element\n",
    "my_list[start_index:stop_index] = values    # updating multiple elements\n",
    "```"
   ]
  },
  {
   "cell_type": "code",
   "execution_count": null,
   "metadata": {},
   "outputs": [],
   "source": [
    "# Update one item at a time\n",
    "my_list = ['B','i','o','l','o','g','y']\n",
    "my_list[0]='Z'\n",
    "my_list[1]='o'\n",
    "print(my_list)"
   ]
  },
  {
   "cell_type": "code",
   "execution_count": null,
   "metadata": {},
   "outputs": [],
   "source": [
    "# Update multiple elements at a time\n",
    "my_list = ['B','i','o','l','o','g','y']\n",
    "my_list[0:2] = ['G','e']\n",
    "print(my_list)"
   ]
  },
  {
   "cell_type": "markdown",
   "metadata": {},
   "source": [
    "## Deleting elements from Lists\n",
    "\n",
    "To remove a list element, use the **del** statement on the index or indices that you wish to delete."
   ]
  },
  {
   "cell_type": "code",
   "execution_count": null,
   "metadata": {},
   "outputs": [],
   "source": [
    "# Delete multiple elements at a time\n",
    "my_list = [1,2,3,4,5]\n",
    "del my_list[1:4]\n",
    "print(my_list)"
   ]
  },
  {
   "cell_type": "markdown",
   "metadata": {},
   "source": [
    "## Other list operations\n",
    "There are several other built-in functions that can be applied to every list. Some of the most useful ones are listed in the following table:"
   ]
  },
  {
   "cell_type": "markdown",
   "metadata": {},
   "source": [
    "<table align=\"left\" style=\"width:80%\">\n",
    "  <tr>\n",
    "    <td>**Method**</td>\n",
    "    <td>**Description**</td> \n",
    "  </tr>\n",
    "  <tr>\n",
    "    <td><code>my_list.append(x)</code></td>\n",
    "    <td>add *x* to the end of *my_list*</td> \n",
    "  </tr>\n",
    "  <tr>\n",
    "    <td><code>my_list.extend(L)</code></td>\n",
    "    <td>add all items of list *L* to end of *my_list*</td> \n",
    "  </tr>\n",
    "  <tr>\n",
    "    <td><code>my_list.insert(i,x)</code></td>\n",
    "    <td>insert *x* at a position *i* of *my_list*</td> \n",
    "  </tr>\n",
    "  <tr>\n",
    "    <td><code>my_list.remove(x)</code></td>\n",
    "    <td>remove from *my_list* the first item equal to *x*</td> \n",
    "  </tr>\n",
    "  <tr>\n",
    "    <td><code>my_list.count(x)</code></td>\n",
    "    <td>count the occurrences of *x* in *my_list*</td> \n",
    "  </tr>\n",
    "  <tr>\n",
    "    <td><code>my_list.sort()</code></td>\n",
    "    <td>sort *my_list*</td> \n",
    "  </tr>\n",
    "  <tr>\n",
    "    <td><code>len(my_list)</code></td>\n",
    "    <td>returns the number of elements in *my_list*</td> \n",
    "  </tr>\n",
    "</table>"
   ]
  },
  {
   "cell_type": "code",
   "execution_count": null,
   "metadata": {},
   "outputs": [],
   "source": [
    "my_list = []\n",
    "my_list.append(1) # element\n",
    "print(my_list)\n",
    "my_list.append(1) # duplicates are allowed\n",
    "print(my_list)\n",
    "my_list.append([1]) # but pay attention to this! Python allows heterogeneous types in a list.\n",
    "print(my_list)"
   ]
  },
  {
   "cell_type": "code",
   "execution_count": null,
   "metadata": {},
   "outputs": [],
   "source": [
    "my_list = [1, 2, 3]\n",
    "my_list.extend([4, 5, 6]) #list\n",
    "print(my_list)"
   ]
  },
  {
   "cell_type": "code",
   "execution_count": null,
   "metadata": {},
   "outputs": [],
   "source": [
    "my_list = [1, 2, 4]\n",
    "my_list.insert(2, 3)\n",
    "print(my_list)"
   ]
  },
  {
   "cell_type": "code",
   "execution_count": null,
   "metadata": {},
   "outputs": [],
   "source": [
    "my_list = [1, 2, 3, 4, 5]\n",
    "my_list.remove(4)\n",
    "print(my_list)"
   ]
  },
  {
   "cell_type": "code",
   "execution_count": null,
   "metadata": {},
   "outputs": [],
   "source": [
    "my_list = [\"PASSED\", \"FAILED\", \"PASSED\", \"PASSED\", \"FAILED\", \"PASSED\"]\n",
    "count = my_list.count(\"PASSED\")\n",
    "print(count)"
   ]
  },
  {
   "cell_type": "code",
   "execution_count": null,
   "metadata": {},
   "outputs": [],
   "source": [
    "my_list = [5, 4, 3, 2, 1]\n",
    "my_list.sort()\n",
    "print(my_list)"
   ]
  },
  {
   "cell_type": "code",
   "execution_count": null,
   "metadata": {},
   "outputs": [],
   "source": [
    "my_list = [1, 2, 3, 4, 5]\n",
    "result = len(my_list)\n",
    "print(result)"
   ]
  },
  {
   "cell_type": "markdown",
   "metadata": {},
   "source": [
    "Note that **strings can also be interpreted as a list of characters** (or strings of length 1). Therefore, some (but not all) of these operations also work on strings:"
   ]
  },
  {
   "cell_type": "code",
   "execution_count": null,
   "metadata": {},
   "outputs": [],
   "source": [
    "my_str = \"Creative choice of words\"\n",
    "length = len(my_str)\n",
    "ohs = my_str.count('o')\n",
    "my_slice = my_str[0] + my_str[10] + my_str[12:14] + my_str[16]\n",
    "print(length, ohs, my_slice)"
   ]
  },
  {
   "cell_type": "markdown",
   "metadata": {},
   "source": [
    "### <span style=\"color:red\"> If you need a bit more practice, try these exercises: <span>"
   ]
  },
  {
   "cell_type": "markdown",
   "metadata": {},
   "source": [
    "**1.** Define a function that receives a list as an argument and replaces the highest value in that list by twice its value."
   ]
  },
  {
   "cell_type": "code",
   "execution_count": 8,
   "metadata": {},
   "outputs": [],
   "source": [
    "def multiplyMaxByTwo(my_list):\n",
    "    return [e if e!=max(my_list) else e*2 for e in my_list]"
   ]
  },
  {
   "cell_type": "code",
   "execution_count": null,
   "metadata": {},
   "outputs": [
    {
     "name": "stdout",
     "output_type": "stream",
     "text": [
      "[1, 2, 10, 3, 2]\n"
     ]
    }
   ],
   "source": [
    "#example\n",
    "result = multiplyMaxByTwo([1,2,5,3,2])\n",
    "print(result)\n",
    "[1,2,10,3,2]"
   ]
  },
  {
   "cell_type": "markdown",
   "metadata": {},
   "source": [
    "**2.** Define a function that receives a list as an argument and deletes the lowest value in that list."
   ]
  },
  {
   "cell_type": "code",
   "execution_count": 10,
   "metadata": {
    "collapsed": true,
    "jupyter": {
     "outputs_hidden": true
    }
   },
   "outputs": [],
   "source": [
    "def deleteMin(my_list):\n",
    "    return [e for e in my_list if e!=min(my_list)]"
   ]
  },
  {
   "cell_type": "code",
   "execution_count": null,
   "metadata": {},
   "outputs": [
    {
     "name": "stdout",
     "output_type": "stream",
     "text": [
      "[2, 5, 3, 2]\n"
     ]
    }
   ],
   "source": [
    "#example\n",
    "result = deleteMin([1,2,5,3,2])\n",
    "print(result)\n",
    "[2,5,3,2]"
   ]
  },
  {
   "cell_type": "markdown",
   "metadata": {},
   "source": [
    "**3.** Define a function that receives two lists as arguments and returns a new list with the sum of the two lists per index. Check if the lists have equal length. In case of different length return an error message."
   ]
  },
  {
   "cell_type": "code",
   "execution_count": 19,
   "metadata": {
    "collapsed": true,
    "jupyter": {
     "outputs_hidden": true
    }
   },
   "outputs": [],
   "source": [
    "def sumLists(my_list1,my_list2):\n",
    "    if len(my_list1)!=len(my_list2): raise ValueError(\"Input lists must have the same size.\")\n",
    "    return [my_list1[i]+my_list2[i] for i, _ in enumerate(my_list1)]"
   ]
  },
  {
   "cell_type": "code",
   "execution_count": null,
   "metadata": {
    "collapsed": true,
    "jupyter": {
     "outputs_hidden": true
    }
   },
   "outputs": [
    {
     "name": "stdout",
     "output_type": "stream",
     "text": [
      "[5, 7, 9]\n"
     ]
    },
    {
     "data": {
      "text/plain": [
       "[5, 7, 9]"
      ]
     },
     "execution_count": 20,
     "metadata": {},
     "output_type": "execute_result"
    }
   ],
   "source": [
    "#example\n",
    "result = sumLists([1,2,3],[4,5,6])\n",
    "print(result)\n",
    "[5,7,9]"
   ]
  },
  {
   "cell_type": "markdown",
   "metadata": {},
   "source": [
    "**4.** Define a function that receives a list as an argument and returns a reversed list."
   ]
  },
  {
   "cell_type": "code",
   "execution_count": 21,
   "metadata": {
    "collapsed": true,
    "jupyter": {
     "outputs_hidden": true
    }
   },
   "outputs": [],
   "source": [
    "def reverseList(my_list):\n",
    "    return my_list[::-1]"
   ]
  },
  {
   "cell_type": "code",
   "execution_count": null,
   "metadata": {
    "collapsed": true,
    "jupyter": {
     "outputs_hidden": true
    }
   },
   "outputs": [
    {
     "name": "stdout",
     "output_type": "stream",
     "text": [
      "[6, 5, 4, 3, 2, 1]\n"
     ]
    },
    {
     "data": {
      "text/plain": [
       "[6, 5, 4, 3, 2, 1]"
      ]
     },
     "execution_count": 22,
     "metadata": {},
     "output_type": "execute_result"
    }
   ],
   "source": [
    "#example\n",
    "result = reverseList([1,2,3,4,5,6])\n",
    "print(result)\n",
    "[6,5,4,3,2,1]"
   ]
  },
  {
   "cell_type": "markdown",
   "metadata": {},
   "source": [
    "**5.** Define a function that receives a list as an argument and returns a list with *only* the even numbers."
   ]
  },
  {
   "cell_type": "code",
   "execution_count": 23,
   "metadata": {
    "collapsed": true,
    "jupyter": {
     "outputs_hidden": true
    }
   },
   "outputs": [],
   "source": [
    "def evenNumbers(my_list):\n",
    "    return [e for e in my_list if e%2==0]"
   ]
  },
  {
   "cell_type": "code",
   "execution_count": null,
   "metadata": {
    "collapsed": true,
    "jupyter": {
     "outputs_hidden": true
    }
   },
   "outputs": [
    {
     "name": "stdout",
     "output_type": "stream",
     "text": [
      "[2, 4, 6]\n"
     ]
    },
    {
     "data": {
      "text/plain": [
       "[2, 4, 6]"
      ]
     },
     "execution_count": 24,
     "metadata": {},
     "output_type": "execute_result"
    }
   ],
   "source": [
    "#example\n",
    "result = evenNumbers([1,2,3,4,5,6])\n",
    "print(result)\n",
    "[2,4,6]"
   ]
  },
  {
   "cell_type": "markdown",
   "metadata": {},
   "source": [
    "**6.** Define a function that receives a list as an argument and returns a list containing [min,max,sum,average]."
   ]
  },
  {
   "cell_type": "code",
   "execution_count": 25,
   "metadata": {
    "collapsed": true,
    "jupyter": {
     "outputs_hidden": true
    }
   },
   "outputs": [],
   "source": [
    "def computeStatistics(my_list):\n",
    "    return [min(my_list), max(my_list), sum(my_list), sum(my_list)/len(my_list)]"
   ]
  },
  {
   "cell_type": "code",
   "execution_count": 26,
   "metadata": {
    "collapsed": true,
    "jupyter": {
     "outputs_hidden": true
    }
   },
   "outputs": [
    {
     "name": "stdout",
     "output_type": "stream",
     "text": [
      "[1, 6, 21, 3.5]\n"
     ]
    },
    {
     "data": {
      "text/plain": [
       "[1, 6, 21, 3.5]"
      ]
     },
     "execution_count": 26,
     "metadata": {},
     "output_type": "execute_result"
    }
   ],
   "source": [
    "#example\n",
    "result = computeStatistics([1,2,3,4,5,6])\n",
    "print(result)\n",
    "[1,6,21,3.5]"
   ]
  },
  {
   "cell_type": "markdown",
   "metadata": {},
   "source": [
    "# Dictionaries\n",
    "\n",
    "This class of data container is very useful for storing **\"paired data\"**. Consider, for example:\n",
    "\n",
    "* gene or protein names and the corresponding sequence(s)\n",
    "* gene or protein names and the corresponding annotation(s)\n",
    "* restriction enzymes and their motifs\n",
    "* etc\n",
    "\n",
    "Accessing values in this type of data structure is similar to how we access data in lists, but instead of using an integer index we use a `key`.\n",
    "\n",
    "```python\n",
    "enzymes = { 'EcoRI':'GAATTC', 'AvaII':'GG(A|T)CC', 'BisI':'GC[ATGC]GC' }\n",
    "\n",
    "enzymes = {\n",
    "    'EcoRI' : 'GAATTC',\n",
    "    'AvaII' : 'GG(A|T)CC',\n",
    "    'BisI'  : 'GC[ATGC]GC'\n",
    "}\n",
    "\n",
    "print(enzymes['EcoRI'])\n",
    "```\n",
    "\n",
    "### Inserting in a dictionary \n",
    "\n",
    "Easy, we simply use assignment, e.g.\n",
    "\n",
    "```python\n",
    "enzymes['BamHI'] = 'GGATCC'\n",
    "enzymes['HindIII'] = 'AAGCTT'\n",
    "```\n",
    "\n",
    "Let's have a look at what we have in the dictionary so far. \n",
    "\n",
    "### Looping through a dictionary"
   ]
  },
  {
   "cell_type": "code",
   "execution_count": null,
   "metadata": {},
   "outputs": [],
   "source": [
    "enzymes = {\n",
    "    'EcoRI' : 'GAATTC',\n",
    "    'AvaII' : 'GG(A|T)CC',\n",
    "    'BisI'  : 'GC[ATGC]GC'\n",
    "}\n",
    "enzymes['BamHI'] = 'GGATCC'\n",
    "enzymes['HindIII'] = 'AAGCTT'\n",
    "\n",
    "for k in enzymes:\n",
    "    print(k, ':\\t', enzymes[k])\n",
    "    \n",
    "print(\"\\nOr like this\\n\")\n",
    "\n",
    "for k in enzymes.keys():\n",
    "    print(k, ':\\t', enzymes[k])\n",
    "    \n",
    "print(\"\\nOr even like this\\n\")\n",
    "\n",
    "for (k, v) in enzymes.items():\n",
    "    print(k, ':\\t', v)\n",
    "    \n",
    "print(\"\\nOr with the keys sorted alphabetically\")\n",
    "\n",
    "for k in sorted (enzymes.keys()):\n",
    "     print(k, ':\\t', enzymes[k])   "
   ]
  },
  {
   "cell_type": "markdown",
   "metadata": {},
   "source": [
    "### Removing items from the dictionary\n",
    "\n",
    "We can do this in several ways, using the `del` operator, or the `pop` function:"
   ]
  },
  {
   "cell_type": "code",
   "execution_count": null,
   "metadata": {},
   "outputs": [],
   "source": [
    "enzymes.pop('HindIII')\n",
    "for k in sorted (enzymes.keys()):\n",
    "     print(k, ':\\t', enzymes[k])   "
   ]
  },
  {
   "cell_type": "markdown",
   "metadata": {},
   "source": [
    "What happens if we try to access a non-existent key-value pair?"
   ]
  },
  {
   "cell_type": "markdown",
   "metadata": {},
   "source": [
    "There are a few ways to deal with this situation:\n",
    "\n",
    "Testing whether the key exists before trying to access it:\n",
    "```python\n",
    "if 'XbaI' in enzymes:\n",
    "    print(enzymes['XbaI'])\n",
    "    \n",
    "else:\n",
    "    print(\"RE does not exist in dict\")\n",
    "```\n",
    "\n",
    "Or using a default value with another access function:\n",
    "```python\n",
    "print(enzymes.get('EcoRI', \"NA\"))\n",
    "print(enzymes.get('XbaI', \"NA\"))\n",
    "```"
   ]
  },
  {
   "cell_type": "markdown",
   "metadata": {},
   "source": [
    "### Copying a dictionary\n",
    "\n",
    "This is more tricky. Let's have a look, starting from our enzyme dictionary:"
   ]
  },
  {
   "cell_type": "code",
   "execution_count": null,
   "metadata": {},
   "outputs": [],
   "source": [
    "print(\"Here is the first dictionary\")\n",
    "for k in sorted (enzymes.keys()):\n",
    "     print(k, ':\\t', enzymes[k])   \n",
    "        \n",
    "enzymes2 = enzymes\n",
    "print(\"\\n\")\n",
    "print(\"This is the copy\")\n",
    "for k in sorted (enzymes2.keys()):\n",
    "     print(k, ':\\t', enzymes2[k])   "
   ]
  },
  {
   "cell_type": "markdown",
   "metadata": {},
   "source": [
    "Now we change some entries in enzymes2:"
   ]
  },
  {
   "cell_type": "code",
   "execution_count": null,
   "metadata": {},
   "outputs": [],
   "source": [
    "enzymes2.pop(\"AvaII\")\n",
    "enzymes2['XbaI'] = 'TCTAGA'\n",
    "\n",
    "print(\"Here's what we got in enzymes2\")\n",
    "for k in sorted (enzymes2.keys()):\n",
    "     print(k, ':\\t', enzymes2[k])   \n",
    "\n",
    "print(\"\\nAnd the original dictionary is\")\n",
    "for k in sorted (enzymes.keys()):\n",
    "     print(k, ':\\t', enzymes[k])   \n"
   ]
  },
  {
   "attachments": {
    "session1_dict_copy.png": {
     "image/png": "[encoded data removed]"
    }
   },
   "cell_type": "markdown",
   "metadata": {},
   "source": [
    "The first dictionary has been modified as well! What happened?\n",
    "\n",
    "This is a more general issue with composite data types in Python. By default, when we assigned the dictionary *enzymes* to the variable *enzymes2*, Python simply made *enzymes2* point to the same place in memory where *enzymes* was pointing to. This resulted in any change being made through either the first or the second dictionary variable being visible in both.\n",
    "\n",
    "![session1_dict_copy.png](attachment:session1_dict_copy.png)\n",
    "This is why we have to take special care in copying composite variables. One way to do this is using the copy function:"
   ]
  },
  {
   "cell_type": "code",
   "execution_count": null,
   "metadata": {},
   "outputs": [],
   "source": [
    "enzymes = {\n",
    "    'EcoRI' : 'GAATTC',\n",
    "    'AvaII' : 'GG(A|T)CC',\n",
    "    'BisI'  : 'GC[ATGC]GC',\n",
    "    'BamHI' : 'GGATCC',\n",
    "    'HindIII' : 'AAGCTT'\n",
    "}\n",
    "enzymes2 = enzymes.copy()\n",
    "\n",
    "del enzymes2['HindIII']\n",
    "enzymes2['XbaI'] = 'TCTAGA'\n",
    "\n",
    "print(\"Here's what we got in enzymes2\")\n",
    "for k in sorted (enzymes2.keys()):\n",
    "     print(k, ':\\t', enzymes2[k])   \n",
    "\n",
    "print(\"\\nAnd the original dictionary is\")\n",
    "for k in sorted (enzymes.keys()):\n",
    "     print(k, ':\\t', enzymes[k])   "
   ]
  },
  {
   "cell_type": "markdown",
   "metadata": {},
   "source": [
    "# Input/Output\n",
    "\n",
    "Input/Output (or short **I/O**) is how we, humans, communicate with computers. Although we can provide input from the console, as we have done with the input() function, the input typically comes from files or, more generally, *data streams*, which can also be for e.g. databases. Data is *loaded*, i.e. copied (possibly in batches) from the relatively slow permanent storage location (e.g. a local *hard drive*) to your computer's fast *random access memory* (or short: *RAM*), where it is processed and eventually copied or written back to a permanent storage location (i.e. the data is *saved*).\n",
    "\n",
    "Files come in different flavors, or *formats*, typically indicated by their extension, which is a suffix such as `.mp3` at the end of a filename. Note: this may be hidden depending on the settings of your operating system). Following conventions, we will refer here to different file formats by abbreviations in all capitals, e.g. MP3. Typically the associated file extensions are written in lowercase and appended to a file's name via a <kbd>.</kbd>, as in `.mp3`.\n",
    "\n",
    "Owing to the essential nature of *I/O* operations, Python has *built-in*, straightforward and easy-to-use functions for reading and writing data, so that we don't have to deal with the nitty-gritty details of shifting data between permanent and temporary memory.\n",
    "\n",
    "The mechanisms that Python (and virtually all other programming languages) implemented to allow you to read data are in principle open to any kind of data, although many data types are not immediately intelligible by a \"human reader\". Thus, one can broadly distinguish two main categories of data:\n",
    "* binary data\n",
    "* human readable data"
   ]
  },
  {
   "cell_type": "markdown",
   "metadata": {},
   "source": [
    "### Binary files\n",
    "\n",
    "Binary files are *machine readable*, but when opened with a text editor, you will only see unintelligible, garbled text. This is e.g. the case for:\n",
    "* *compressed* files, such as ZIP (`.zip`), RAR (`.rar`), GZIP (`.gz`), or TAR (`.tar`)\n",
    "* compressed or uncompressed data, media or container file types, such as MP3 (`.mp3`), WAV (`.wav`), PDF (`.pdf`) or MKV (`.mkv`)\n",
    "* *bytecode* (optimized representation of a program's code, common in *compiled* programming languages), such as executable (`.exe`) or library (`.lib`) files in Windows\n",
    "\n",
    "### Human readable files\n",
    "\n",
    "Human readable (also known as *text*, *plain text* or *flat*) data formats can be opened/viewed and modified with any text editor.\n",
    "\n",
    "Format | Extension(s) | Description\n",
    "--- | --- | ---\n",
    "TXT | `.txt` / also commonly no extension | Plain unstructured text\n",
    "CSV | `.csv` | Tables and matrices; fields/columns delimited by <kbd>,</kbd>\n",
    "TSV | `.tsv` / `.tab` | Tables and matrices; fields/columns delimited by <kbd>Tab</kbd>\n",
    "PY | `.py` | Python code\n",
    "FASTA | `.fasta` / `.fa` | DNA or protein sequences \n",
    "XML | `.xml` | Represent schemas and arbitrary data structures\n",
    "JSON | `.json` | Represent schemas and arbitrary data structures\n",
    "\n",
    "**WARNING:** While you can also open text files with Microsoft Word and similar applications, these are word processors and are **not** regarded as text editors. It is recommended to use word processors only when editing their native file formats (e.g. those with extensions `.docx` and `.doc` for Microsoft Word), because due to *autoformatting* etc., writing or editing e.g. code with word processors often has unwanted *side effects*.\n",
    "\n",
    "Many file formats are also specific subsets or relatives of the above-mentioned formats. For example, the file format for Jupyter Notebooks (`.ipynb`), such as used in this tutorial, is actually a subset of JSON. Similarly, the vector graphics format SVG is in fact a specific subset of XML, while HTML (used for websites) is also very closely related to XML (though not exactly a subset).\n",
    "\n",
    "Several binary files are also just compressed versions of human readable files (or collections thereof). For example, since ~2007 the file formats of Microsoft Office documents are in fact just ZIP-compressed directories of (mostly) XML files. You can try this out by extracting a file with extension `.docx` and then exploring the resulting files with a text editor. Another similar example is the e-book format `.epub`."
   ]
  },
  {
   "cell_type": "markdown",
   "metadata": {},
   "source": [
    "## Opening a file\n",
    "\n",
    "A file needs to be **open**ed before the system can do something with it."
   ]
  },
  {
   "cell_type": "code",
   "execution_count": null,
   "metadata": {},
   "outputs": [],
   "source": [
    "#use the built-in function open to open the example file\n",
    "myfile = open('Data/proteins.fasta','r')\n",
    "print(myfile)"
   ]
  },
  {
   "cell_type": "markdown",
   "metadata": {},
   "source": [
    "## File object\n",
    "\n",
    "As you noticed, printing the variable *myfile* **did not** print the content of the file.  \n",
    "*myfile* is a *file object*, basically the address where the file can be found.  \n",
    "What you get printing *myfile* is 3 pieces of information:\n",
    "\n",
    "* the **name** of the opened file\n",
    "* the access **mode**\n",
    "* the **encoding** which specifies how the bits in the file are converted into characters\n",
    "\n",
    "The important bit is the **mode** argument: this specifies your intentions with the opened file.  \n",
    "The possible modes are easy to guess:\n",
    "\n",
    "* 'r'  = reading   (**default** one)\n",
    "* 'w'  = writing\n",
    "* 'a'  = append\n",
    "\n",
    "Let's see how we can actually get the content of the file..."
   ]
  },
  {
   "cell_type": "markdown",
   "metadata": {},
   "source": [
    "## Reading mode, 'r'\n",
    "\n",
    "A few of the most important functions are:\n",
    "\n",
    "**readline()**\n",
    "\n",
    "Reads a line of the file, automatically move the pointer (the address where we want to look next in the file) to the next line of the file. Let's try this out!"
   ]
  },
  {
   "cell_type": "code",
   "execution_count": null,
   "metadata": {},
   "outputs": [],
   "source": [
    "#open the file\n",
    "myfile = open('Data/proteins.fasta','r')\n",
    "\n",
    "#get some lines\n",
    "first = myfile.readline()\n",
    "second = myfile.readline()\n",
    "\n",
    "#print them\n",
    "print('1st line:', first)\n",
    "print('2nd line:', second)"
   ]
  },
  {
   "cell_type": "markdown",
   "metadata": {},
   "source": [
    "## Reading a file with a *for* loop\n",
    "\n",
    "The nice thing about the *file object* is that it is an *iterator*.\n",
    "\n",
    "An iterator is an object that has a notion of how to move step by step through data. \n",
    "\n",
    "In case of a file iterator, this is done line-by-line. This means you can use a file iterator directly in a **for loop** and it will call the function readline() for you."
   ]
  },
  {
   "cell_type": "code",
   "execution_count": null,
   "metadata": {},
   "outputs": [],
   "source": [
    "#open the file\n",
    "myfile = open('Data/proteins.fasta','r')\n",
    "\n",
    "#myfile is the iterator that returns a single line \n",
    "#and assign it to the variable 'myline'\n",
    "\n",
    "for myline in myfile:\n",
    "    print(myline)"
   ]
  },
  {
   "cell_type": "markdown",
   "metadata": {},
   "source": [
    "### close()\n",
    "When opening and reading a file, you *lock* the file, so that it is not changed by another program while you try to do something with the data in the file. To avoid multiple programs modifying a file at the same time, the OS automatically blocks the file, giving you *exclusive* access to the file. This also means that you should always close the file once you are done using it. Let's apply some of these notions."
   ]
  },
  {
   "cell_type": "code",
   "execution_count": null,
   "metadata": {},
   "outputs": [],
   "source": [
    "#open the file\n",
    "myfile = open('Data/proteins.fasta','r')\n",
    "print(myfile)"
   ]
  },
  {
   "cell_type": "code",
   "execution_count": null,
   "metadata": {},
   "outputs": [],
   "source": [
    "#do something with the file\n",
    "first = myfile.readline()\n",
    "print(\"First line:\", first)\n",
    "\n",
    "#close it\n",
    "myfile.close()\n",
    "print(myfile)"
   ]
  },
  {
   "cell_type": "markdown",
   "metadata": {},
   "source": [
    "Now try to read another line from that file:"
   ]
  },
  {
   "cell_type": "code",
   "execution_count": null,
   "metadata": {},
   "outputs": [],
   "source": [
    "second = myfile.readline()\n",
    "print(second)"
   ]
  },
  {
   "cell_type": "markdown",
   "metadata": {},
   "source": [
    "As you can see, you get an error, because you cannot not access data from a closed file."
   ]
  },
  {
   "cell_type": "markdown",
   "metadata": {},
   "source": [
    "## readlines()\n",
    "Reads the **entire file**, not just one line.  \n",
    "\n",
    "You can save the file as a *list* where each element is a line of the file.\n",
    "  \n",
    "In this way you will be able to keep the file content, while releasing the OS lock.\n",
    "\n",
    "However, not a good idea to do this with very large files."
   ]
  },
  {
   "cell_type": "code",
   "execution_count": null,
   "metadata": {},
   "outputs": [],
   "source": [
    "#read the file\n",
    "myfile = open('Data/proteins.fasta','r')\n",
    "\n",
    "#save the full file content into a local variable\n",
    "lines = myfile.readlines()\n",
    "\n",
    "#you can already close the file now!\n",
    "myfile.close()\n",
    "\n",
    "#print the first 3 lines\n",
    "for line in lines[:3]:\n",
    "    print(line)"
   ]
  },
  {
   "cell_type": "markdown",
   "metadata": {},
   "source": [
    "## Let's work a bit with these data\n",
    "\n",
    "What the file contains is a **fasta**-formatted list of protein sequences. \n",
    "\n",
    "Here's how we get the Swissprot ID from the description lines using a few string fuctions."
   ]
  },
  {
   "cell_type": "markdown",
   "metadata": {},
   "source": [
    "### startswith(string)\n",
    "\n",
    "This function returns `True` when the string object you are calling the function from starts with the string you provide as argument.\n",
    "\n",
    "### strip()\n",
    "\n",
    "Returns a copy of the string where all blank characters (space, tab, newline) at the beginning or end of the string have been removed. There are also functions that operate on only one side of the string, i.e. `lstrip()` and `rstrip`.\n",
    "\n",
    "**NOTE**: Remember that strings are *immutable* objects and there is no function which will directly modify a string. The modified string is copied into a new variable.\n",
    "\n",
    "### split(separator)\n",
    "\n",
    "Splits the string at each occurrence of the 'separator', returning the resulting list of substrings.\n",
    "\n",
    "Separator characters are removed."
   ]
  },
  {
   "cell_type": "code",
   "execution_count": null,
   "metadata": {},
   "outputs": [],
   "source": [
    "# Now let's use these functions\n",
    "myfile = open('Data/proteins.fasta','r')\n",
    "myline = myfile.readline()\n",
    "myline\n"
   ]
  },
  {
   "cell_type": "code",
   "execution_count": null,
   "metadata": {},
   "outputs": [],
   "source": [
    "stripped_line = myline.strip()\n",
    "stripped_line"
   ]
  },
  {
   "cell_type": "code",
   "execution_count": null,
   "metadata": {},
   "outputs": [],
   "source": [
    "# split by whitespaces\n",
    "words = stripped_line.split()\n",
    "print(words)"
   ]
  },
  {
   "cell_type": "code",
   "execution_count": null,
   "metadata": {},
   "outputs": [],
   "source": [
    "# split by |\n",
    "ids = words[0].split('|')\n",
    "\n",
    "# our Swissprot ID is at index 1\n",
    "print(ids[1])"
   ]
  },
  {
   "cell_type": "markdown",
   "metadata": {},
   "source": [
    "## Writing mode, 'w'\n",
    "Writing a file will create a **new file** (with the name of your choice) on your HARDDISK.  \n",
    "If the file is already there, Python will **overwrite** that file."
   ]
  },
  {
   "cell_type": "markdown",
   "metadata": {},
   "source": [
    "### write()\n",
    "This function writes a string in the opened file."
   ]
  },
  {
   "cell_type": "code",
   "execution_count": null,
   "metadata": {},
   "outputs": [],
   "source": [
    "#open a file in writing mode\n",
    "myfile = open('Data/kaos.txt','w')\n",
    "\n",
    "#and write some text in it\n",
    "text = \"I'm going to try writing a file!\"\n",
    "myfile.write(text)\n",
    "\n",
    "#close the file\n",
    "myfile.close()\n",
    "\n",
    "# Let's inspect the content"
   ]
  },
  {
   "cell_type": "code",
   "execution_count": null,
   "metadata": {},
   "outputs": [],
   "source": [
    "!cat Data/kaos.txt"
   ]
  },
  {
   "cell_type": "markdown",
   "metadata": {},
   "source": [
    "**Note**: only strings can be written to a file!"
   ]
  },
  {
   "cell_type": "code",
   "execution_count": null,
   "metadata": {},
   "outputs": [],
   "source": [
    "#open a file in writing mode\n",
    "myfile = open('Data/kaos.txt','w')\n",
    "\n",
    "myfile.write(100)"
   ]
  },
  {
   "cell_type": "code",
   "execution_count": null,
   "metadata": {},
   "outputs": [],
   "source": [
    "#but we can easily solve this by converting the number to string before writing it\n",
    "myfile.write(str(100))\n",
    "\n",
    "myfile.close()"
   ]
  },
  {
   "cell_type": "code",
   "execution_count": null,
   "metadata": {},
   "outputs": [],
   "source": [
    "!cat Data/kaos.txt"
   ]
  },
  {
   "cell_type": "markdown",
   "metadata": {},
   "source": [
    "Remember that the file must be opened with the correct mode, otherwise..."
   ]
  },
  {
   "cell_type": "code",
   "execution_count": null,
   "metadata": {},
   "outputs": [],
   "source": [
    "#open a file **not** in writing mode\n",
    "myfile = open('Data/kaos.txt','r')\n",
    "\n",
    "#and try to write some text in it\n",
    "text = 'This is not a smart move.'\n",
    "myfile.write(text)"
   ]
  },
  {
   "cell_type": "markdown",
   "metadata": {},
   "source": [
    "## More on close()\n",
    "When you are done writing, you usually want to save the file.\n",
    "Apart from releasing the OS lock on the file, this is exactly what close() does.\n",
    "\n",
    "For reasons of speed, the string you write to a file is first buffered (i.e. in the RAM).\n",
    "When you close the file it is saved to the HARD DISK.   \n",
    "\n",
    "Once a file object is closed you need to re-open it in order to read it or modify it."
   ]
  },
  {
   "cell_type": "code",
   "execution_count": null,
   "metadata": {},
   "outputs": [],
   "source": [
    "#open a file in writing mode\n",
    "myfile = open('Data/kaos.txt','w')\n",
    "\n",
    "#and write some text in it\n",
    "line1 = '1) This sentence will be always the first.' \n",
    "myfile.write(line1 + '\\n') #mind the new line character\n",
    "line2 = '2) This is just the second line.'\n",
    "myfile.write(line2 + '\\n') #mind the new line character\n",
    "\n",
    "#close it\n",
    "myfile.close()\n",
    "\n",
    "#read it again\n",
    "myfile = open('Data/kaos.txt','r')\n",
    "for line in myfile:\n",
    "    print(line.strip())    "
   ]
  },
  {
   "cell_type": "markdown",
   "metadata": {},
   "source": [
    "## Newlines\n",
    "Unfortunately there is no standard for the newline character and it is different depending on the OS:  \n",
    "\n",
    "* Linux: \\\\n\n",
    "* OS X: \\\\n\n",
    "* MAC: \\\\r\n",
    "* DOS, Windows: \\\\r\\\\n\n",
    "\n",
    "A general way to get the current system newline is importing the **os module**. More on *modules* later/"
   ]
  },
  {
   "cell_type": "markdown",
   "metadata": {},
   "source": [
    "## <span style=\"color:red\"> with </span> construct\n",
    "\n",
    "Doing the book keeping of file open and close can be cumbersome. That's why Python offers a shortcut that looks like this:"
   ]
  },
  {
   "cell_type": "code",
   "execution_count": null,
   "metadata": {},
   "outputs": [],
   "source": [
    "with open('Data/kaos.txt','r') as myfile:\n",
    "    for line in myfile:\n",
    "        print(line)"
   ]
  },
  {
   "cell_type": "markdown",
   "metadata": {},
   "source": [
    "## <span style=\"color:red\"> Exercises </span>\n",
    "\n",
    "1. Use the function *readline()* to print the first 10 lines of the file 'proteins.fasta'.\n",
    "\n",
    "2. How many proteins are listed in the file 'proteins.fasta'? "
   ]
  },
  {
   "cell_type": "markdown",
   "metadata": {},
   "source": [
    "### More on modules in future sessions."
   ]
  },
  {
   "cell_type": "markdown",
   "metadata": {},
   "source": [
    "# <span style=\"color:red\"> Additional practice </span>\n",
    "\n",
    "Here are a few more exercises for practicing the concepts we just reviewed:\n",
    "\n",
    "* Write a function that accepts two (short) DNA sequences and a name, and prints the FASTA formatted version of the two sequences concatenated together. Include the length of the concatenated DNA sequence in the fasta header.\n",
    "\n",
    "* Write a function that accepts a DNA sequence as an argument and returns the G/C content of the sequence.\n",
    "\n",
    "* Write a function that uses the find() method to determine the position(s) of the motif \"CTCGA\" in the sequence \"GTGCCCCTCGAGAGGAGGGCGCGCGCCGCGCGCTCGACGCGATCGGCGCTCAGCGAGCGAGCTCCTCGAAGCGATCCGCGCGCGCT\".\n",
    "\n",
    "* Write a function that uses the replace() method to create the complement of the above sequence.\n",
    "\n",
    "* Write a function that computes the number of occurrences if each 5-mer in an input sequence and returns the dictionary of counts."
   ]
  }
 ],
 "metadata": {
  "anaconda-cloud": {},
  "kernelspec": {
   "display_name": "comp2",
   "language": "python",
   "name": "python3"
  },
  "language_info": {
   "codemirror_mode": {
    "name": "ipython",
    "version": 3
   },
   "file_extension": ".py",
   "mimetype": "text/x-python",
   "name": "python",
   "nbconvert_exporter": "python",
   "pygments_lexer": "ipython3",
   "version": "3.10.16"
  }
 },
 "nbformat": 4,
 "nbformat_minor": 4
}
